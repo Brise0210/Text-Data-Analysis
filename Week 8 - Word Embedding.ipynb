{
 "cells": [
  {
   "cell_type": "markdown",
   "id": "eee801ad",
   "metadata": {
    "toc": true
   },
   "source": [
    "<h1>Table of Contents<span class=\"tocSkip\"></span></h1>\n",
    "<div class=\"toc\"><ul class=\"toc-item\"><li><span><a href=\"#词嵌入模型应用-以广告文本为例\" data-toc-modified-id=\"词嵌入模型应用-以广告文本为例-1\"><span class=\"toc-item-num\">1&nbsp;&nbsp;</span>词嵌入模型应用-以广告文本为例</a></span></li><li><span><a href=\"#词嵌入模型应用-以外交部记者会文本为例\" data-toc-modified-id=\"词嵌入模型应用-以外交部记者会文本为例-2\"><span class=\"toc-item-num\">2&nbsp;&nbsp;</span>词嵌入模型应用-以外交部记者会文本为例</a></span></li></ul></div>"
   ]
  },
  {
   "cell_type": "markdown",
   "id": "e75065f2",
   "metadata": {},
   "source": [
    "词是文本数据的基本单元，词嵌入技术是将文本数据表示未能被计算机识别的数值向量形式。词向量可以被视为词的特征向量，是把维数位词典大小的高维空间嵌入到一个低维数的连续向量空间，把词映射为实数域上的向量的技术也叫词嵌入。（*陈萌等，2021*）<br>\n",
    "\n",
    "词袋模型作为一种传统的One-hot表示方法，把文本的单词作为基本单位进行编码，编码后的向量中只有数字0和1，即只有一个维度。这样表示的缺点是向量为稀疏表示且不同单词得到的向量是相互独立的，会造成语义鸿沟。<br>\n",
    "\n",
    "因此研究者发明了词的分布式表示法，将所有信息分布式的表示在稠密向量的各个维度上，具有了一定的语义表示能力。<br>\n",
    "\n",
    "**Word2Vec**是谷歌开源的训练词嵌入向量的工具，包括CBOW和Skip-Gram两种不同的训练模式，学习每个单词的词嵌入表示是该工具的主要任务。作为一种静态的词嵌入表示，该方法的缺点是未考虑到同一单词在不同上下文中语义不同的情况，即一词多义的情况。（*刘胜杰等，2020*）"
   ]
  },
  {
   "cell_type": "markdown",
   "id": "9a78a76c",
   "metadata": {},
   "source": [
    "# 词嵌入模型应用-以广告文本为例"
   ]
  },
  {
   "cell_type": "code",
   "execution_count": 13,
   "id": "98ff0dfd",
   "metadata": {},
   "outputs": [
    {
     "data": {
      "text/html": [
       "<div>\n",
       "<style scoped>\n",
       "    .dataframe tbody tr th:only-of-type {\n",
       "        vertical-align: middle;\n",
       "    }\n",
       "\n",
       "    .dataframe tbody tr th {\n",
       "        vertical-align: top;\n",
       "    }\n",
       "\n",
       "    .dataframe thead th {\n",
       "        text-align: right;\n",
       "    }\n",
       "</style>\n",
       "<table border=\"1\" class=\"dataframe\">\n",
       "  <thead>\n",
       "    <tr style=\"text-align: right;\">\n",
       "      <th></th>\n",
       "      <th>index</th>\n",
       "      <th>商品名称</th>\n",
       "      <th>商品类别</th>\n",
       "      <th>出版年</th>\n",
       "      <th>广告文本</th>\n",
       "      <th>广告标题</th>\n",
       "    </tr>\n",
       "  </thead>\n",
       "  <tbody>\n",
       "    <tr>\n",
       "      <th>0</th>\n",
       "      <td>1596</td>\n",
       "      <td>五华牌香烟[May Blossom]</td>\n",
       "      <td>烟草制品</td>\n",
       "      <td>1932</td>\n",
       "      <td>兰勃脱白脱勒公司 五华牌香烟 佛及尼埃香烟  二十枝装每包售国币大洋二角 五十枝装每罐售国币...</td>\n",
       "      <td>五华牌香烟,\"兰勃脱白脱勒公司 五华牌香烟 佛及尼埃香烟\"</td>\n",
       "    </tr>\n",
       "    <tr>\n",
       "      <th>1</th>\n",
       "      <td>5627</td>\n",
       "      <td>韦廉士红色清导丸[Dr.Willams' Pink Pills For Pale People]</td>\n",
       "      <td>药品</td>\n",
       "      <td>1918</td>\n",
       "      <td>讲求卫生为人生本性天理固然也 人生首贵逐日大便通畅有序为天然所当如此也如若大便不利大肠阻塞则...</td>\n",
       "      <td>韦廉士红色清导丸:'讲求卫生为人生本性天理固然也'</td>\n",
       "    </tr>\n",
       "    <tr>\n",
       "      <th>2</th>\n",
       "      <td>13532</td>\n",
       "      <td>大炮台香烟[Three Castles Cigarettes]</td>\n",
       "      <td>烟草制品</td>\n",
       "      <td>1935</td>\n",
       "      <td>香味馥郁,不让名花 另有三炮台出售</td>\n",
       "      <td>大炮台香烟,\"香味馥郁 不让名花\"</td>\n",
       "    </tr>\n",
       "    <tr>\n",
       "      <th>3</th>\n",
       "      <td>1133</td>\n",
       "      <td>婴孩自己药片[Baby's Own]</td>\n",
       "      <td>药品</td>\n",
       "      <td>1930</td>\n",
       "      <td>差肩儿女 秀慧康强 闽有佳音讃羡婴孩自己药片 每年此际小儿患肠胃病者甚多而尤以南方各地天气翳...</td>\n",
       "      <td>婴孩自己药片,\"差肩儿女 秀慧康强 闽有佳音赞美婴孩自己药片\"</td>\n",
       "    </tr>\n",
       "    <tr>\n",
       "      <th>4</th>\n",
       "      <td>3146</td>\n",
       "      <td>亚士北罗药片[Aspro]</td>\n",
       "      <td>药品</td>\n",
       "      <td>1933</td>\n",
       "      <td>何以亚士北罗是妇女们的腻友？各国妇女力证亚士北罗药片是她们最需要的药物！为什么？她们的经验知...</td>\n",
       "      <td>亚士北罗药片,\"妇女之腻友\"</td>\n",
       "    </tr>\n",
       "    <tr>\n",
       "      <th>...</th>\n",
       "      <td>...</td>\n",
       "      <td>...</td>\n",
       "      <td>...</td>\n",
       "      <td>...</td>\n",
       "      <td>...</td>\n",
       "      <td>...</td>\n",
       "    </tr>\n",
       "    <tr>\n",
       "      <th>495</th>\n",
       "      <td>14176</td>\n",
       "      <td>安住蚊烟香</td>\n",
       "      <td>化肥及杀虫剂</td>\n",
       "      <td>1935</td>\n",
       "      <td>安住蚊烟香 臭虫立毙药粉 世界第一名产 安住蚊烟香 蚊见逃慌慌 暑夜不用帐 包睡到天光 汉口...</td>\n",
       "      <td>安住蚊烟香,\"世界第一名产\"</td>\n",
       "    </tr>\n",
       "    <tr>\n",
       "      <th>496</th>\n",
       "      <td>11610</td>\n",
       "      <td>第威德润肠丸[DeWitt's]</td>\n",
       "      <td>药品</td>\n",
       "      <td>1934</td>\n",
       "      <td>眉色清秀 气色壮旺 此第威德润肠丸之功也 第威德润肠丸系以草药炼制纯粹和平十分安全功能清理肠...</td>\n",
       "      <td>第威德润肠丸,\"眉色清秀 气色壮旺\"</td>\n",
       "    </tr>\n",
       "    <tr>\n",
       "      <th>497</th>\n",
       "      <td>10256</td>\n",
       "      <td>如意膏[She-Ko]</td>\n",
       "      <td>药品</td>\n",
       "      <td>1934</td>\n",
       "      <td>汤火烫伤 立攃如意膏可免严重之后果 皮肤受伤当以灼烫最痛苦其又因此震激而致命者治疗灼烫止痛消...</td>\n",
       "      <td>如意膏,\"汤火烫伤 立攃如意膏可免严重之后果\"</td>\n",
       "    </tr>\n",
       "    <tr>\n",
       "      <th>498</th>\n",
       "      <td>9176</td>\n",
       "      <td>六零六药膏</td>\n",
       "      <td>药品</td>\n",
       "      <td>1923</td>\n",
       "      <td>清血解毒六零六 花柳梅毒瘰*疮疖癣疥**及筋骨酸痛四肢麻木半身疯*等症状虽异其发生之原理莫不...</td>\n",
       "      <td>六零六,\"清血解毒六零六\"</td>\n",
       "    </tr>\n",
       "    <tr>\n",
       "      <th>499</th>\n",
       "      <td>6411</td>\n",
       "      <td>三炮台烟[The Three Caftles Cigarettes]</td>\n",
       "      <td>烟草制品</td>\n",
       "      <td>1919</td>\n",
       "      <td>三炮台香烟,'到底是好 三炮台 好香烟 敬宾客 美观瞻 市中日日新牌见 到底不如老牌烟 名不虚传</td>\n",
       "      <td>三炮台香烟,\"到底是好 三炮台 名不虚传\"</td>\n",
       "    </tr>\n",
       "  </tbody>\n",
       "</table>\n",
       "<p>500 rows × 6 columns</p>\n",
       "</div>"
      ],
      "text/plain": [
       "     index                                              商品名称    商品类别   出版年  \\\n",
       "0     1596                                五华牌香烟[May Blossom]    烟草制品  1932   \n",
       "1     5627  韦廉士红色清导丸[Dr.Willams' Pink Pills For Pale People]      药品  1918   \n",
       "2    13532                   大炮台香烟[Three Castles Cigarettes]    烟草制品  1935   \n",
       "3     1133                                婴孩自己药片[Baby's Own]      药品  1930   \n",
       "4     3146                                     亚士北罗药片[Aspro]      药品  1933   \n",
       "..     ...                                               ...     ...   ...   \n",
       "495  14176                                             安住蚊烟香  化肥及杀虫剂  1935   \n",
       "496  11610                                  第威德润肠丸[DeWitt's]      药品  1934   \n",
       "497  10256                                       如意膏[She-Ko]      药品  1934   \n",
       "498   9176                                             六零六药膏      药品  1923   \n",
       "499   6411                三炮台烟[The Three Caftles Cigarettes]    烟草制品  1919   \n",
       "\n",
       "                                                  广告文本  \\\n",
       "0    兰勃脱白脱勒公司 五华牌香烟 佛及尼埃香烟  二十枝装每包售国币大洋二角 五十枝装每罐售国币...   \n",
       "1    讲求卫生为人生本性天理固然也 人生首贵逐日大便通畅有序为天然所当如此也如若大便不利大肠阻塞则...   \n",
       "2                                    香味馥郁,不让名花 另有三炮台出售   \n",
       "3    差肩儿女 秀慧康强 闽有佳音讃羡婴孩自己药片 每年此际小儿患肠胃病者甚多而尤以南方各地天气翳...   \n",
       "4    何以亚士北罗是妇女们的腻友？各国妇女力证亚士北罗药片是她们最需要的药物！为什么？她们的经验知...   \n",
       "..                                                 ...   \n",
       "495  安住蚊烟香 臭虫立毙药粉 世界第一名产 安住蚊烟香 蚊见逃慌慌 暑夜不用帐 包睡到天光 汉口...   \n",
       "496  眉色清秀 气色壮旺 此第威德润肠丸之功也 第威德润肠丸系以草药炼制纯粹和平十分安全功能清理肠...   \n",
       "497  汤火烫伤 立攃如意膏可免严重之后果 皮肤受伤当以灼烫最痛苦其又因此震激而致命者治疗灼烫止痛消...   \n",
       "498  清血解毒六零六 花柳梅毒瘰*疮疖癣疥**及筋骨酸痛四肢麻木半身疯*等症状虽异其发生之原理莫不...   \n",
       "499   三炮台香烟,'到底是好 三炮台 好香烟 敬宾客 美观瞻 市中日日新牌见 到底不如老牌烟 名不虚传   \n",
       "\n",
       "                                广告标题  \n",
       "0      五华牌香烟,\"兰勃脱白脱勒公司 五华牌香烟 佛及尼埃香烟\"  \n",
       "1          韦廉士红色清导丸:'讲求卫生为人生本性天理固然也'  \n",
       "2                  大炮台香烟,\"香味馥郁 不让名花\"  \n",
       "3    婴孩自己药片,\"差肩儿女 秀慧康强 闽有佳音赞美婴孩自己药片\"  \n",
       "4                     亚士北罗药片,\"妇女之腻友\"  \n",
       "..                               ...  \n",
       "495                   安住蚊烟香,\"世界第一名产\"  \n",
       "496               第威德润肠丸,\"眉色清秀 气色壮旺\"  \n",
       "497          如意膏,\"汤火烫伤 立攃如意膏可免严重之后果\"  \n",
       "498                    六零六,\"清血解毒六零六\"  \n",
       "499            三炮台香烟,\"到底是好 三炮台 名不虚传\"  \n",
       "\n",
       "[500 rows x 6 columns]"
      ]
     },
     "execution_count": 13,
     "metadata": {},
     "output_type": "execute_result"
    }
   ],
   "source": [
    "import pandas as pd\n",
    "df = pd.read_excel('text_analysis_ad.xlsx', index_col = 0) #将读取到的.xlsx文件转化为dataframe，并将第一列用作索引\n",
    "df"
   ]
  },
  {
   "cell_type": "code",
   "execution_count": 14,
   "id": "9a86dc73",
   "metadata": {},
   "outputs": [
    {
     "data": {
      "text/plain": [
       "'兰勃 脱白 脱勒 公司   五华 牌 香烟   佛及 尼埃 香烟     二十 枝装 每包 售 国币 大洋 二角   五十 枝装 每罐 售 国币 大洋   五角'"
      ]
     },
     "execution_count": 14,
     "metadata": {},
     "output_type": "execute_result"
    }
   ],
   "source": [
    "import jieba\n",
    "\n",
    "def clean_text(text): #定义预处理函数\n",
    "    words = jieba.lcut(text)\n",
    "    return ' '.join(words) #将分词结果通过空格连成长字符串\n",
    "\n",
    "test = df['广告文本'][0] #从广告文本中取出第一行用作测试\n",
    "clean_text(test) #将预处理步骤应用于广告文本第一行的内容"
   ]
  },
  {
   "cell_type": "code",
   "execution_count": 15,
   "id": "baaf3707",
   "metadata": {},
   "outputs": [
    {
     "data": {
      "text/html": [
       "<div>\n",
       "<style scoped>\n",
       "    .dataframe tbody tr th:only-of-type {\n",
       "        vertical-align: middle;\n",
       "    }\n",
       "\n",
       "    .dataframe tbody tr th {\n",
       "        vertical-align: top;\n",
       "    }\n",
       "\n",
       "    .dataframe thead th {\n",
       "        text-align: right;\n",
       "    }\n",
       "</style>\n",
       "<table border=\"1\" class=\"dataframe\">\n",
       "  <thead>\n",
       "    <tr style=\"text-align: right;\">\n",
       "      <th></th>\n",
       "      <th>index</th>\n",
       "      <th>商品名称</th>\n",
       "      <th>商品类别</th>\n",
       "      <th>出版年</th>\n",
       "      <th>广告文本</th>\n",
       "      <th>广告标题</th>\n",
       "      <th>广告文本分词</th>\n",
       "    </tr>\n",
       "  </thead>\n",
       "  <tbody>\n",
       "    <tr>\n",
       "      <th>0</th>\n",
       "      <td>1596</td>\n",
       "      <td>五华牌香烟[May Blossom]</td>\n",
       "      <td>烟草制品</td>\n",
       "      <td>1932</td>\n",
       "      <td>兰勃脱白脱勒公司 五华牌香烟 佛及尼埃香烟  二十枝装每包售国币大洋二角 五十枝装每罐售国币...</td>\n",
       "      <td>五华牌香烟,\"兰勃脱白脱勒公司 五华牌香烟 佛及尼埃香烟\"</td>\n",
       "      <td>兰勃 脱白 脱勒 公司   五华 牌 香烟   佛及 尼埃 香烟     二十 枝装 每包 ...</td>\n",
       "    </tr>\n",
       "    <tr>\n",
       "      <th>1</th>\n",
       "      <td>5627</td>\n",
       "      <td>韦廉士红色清导丸[Dr.Willams' Pink Pills For Pale People]</td>\n",
       "      <td>药品</td>\n",
       "      <td>1918</td>\n",
       "      <td>讲求卫生为人生本性天理固然也 人生首贵逐日大便通畅有序为天然所当如此也如若大便不利大肠阻塞则...</td>\n",
       "      <td>韦廉士红色清导丸:'讲求卫生为人生本性天理固然也'</td>\n",
       "      <td>讲求 卫生 为 人生 本性 天理 固然 也   人生 首贵 逐日 大便 通畅 有序 为 天然...</td>\n",
       "    </tr>\n",
       "    <tr>\n",
       "      <th>2</th>\n",
       "      <td>13532</td>\n",
       "      <td>大炮台香烟[Three Castles Cigarettes]</td>\n",
       "      <td>烟草制品</td>\n",
       "      <td>1935</td>\n",
       "      <td>香味馥郁,不让名花 另有三炮台出售</td>\n",
       "      <td>大炮台香烟,\"香味馥郁 不让名花\"</td>\n",
       "      <td>香味 馥郁 , 不让 名花   另 有 三 炮台 出售</td>\n",
       "    </tr>\n",
       "    <tr>\n",
       "      <th>3</th>\n",
       "      <td>1133</td>\n",
       "      <td>婴孩自己药片[Baby's Own]</td>\n",
       "      <td>药品</td>\n",
       "      <td>1930</td>\n",
       "      <td>差肩儿女 秀慧康强 闽有佳音讃羡婴孩自己药片 每年此际小儿患肠胃病者甚多而尤以南方各地天气翳...</td>\n",
       "      <td>婴孩自己药片,\"差肩儿女 秀慧康强 闽有佳音赞美婴孩自己药片\"</td>\n",
       "      <td>差肩 儿女   秀慧 康强   闽有 佳音 讃 羡 婴孩 自己 药片   每年 此际 小儿 ...</td>\n",
       "    </tr>\n",
       "    <tr>\n",
       "      <th>4</th>\n",
       "      <td>3146</td>\n",
       "      <td>亚士北罗药片[Aspro]</td>\n",
       "      <td>药品</td>\n",
       "      <td>1933</td>\n",
       "      <td>何以亚士北罗是妇女们的腻友？各国妇女力证亚士北罗药片是她们最需要的药物！为什么？她们的经验知...</td>\n",
       "      <td>亚士北罗药片,\"妇女之腻友\"</td>\n",
       "      <td>何以 亚士 北罗 是 妇女 们 的 腻友 ？ 各国 妇女 力证 亚士 北罗 药片 是 她们 ...</td>\n",
       "    </tr>\n",
       "    <tr>\n",
       "      <th>...</th>\n",
       "      <td>...</td>\n",
       "      <td>...</td>\n",
       "      <td>...</td>\n",
       "      <td>...</td>\n",
       "      <td>...</td>\n",
       "      <td>...</td>\n",
       "      <td>...</td>\n",
       "    </tr>\n",
       "    <tr>\n",
       "      <th>495</th>\n",
       "      <td>14176</td>\n",
       "      <td>安住蚊烟香</td>\n",
       "      <td>化肥及杀虫剂</td>\n",
       "      <td>1935</td>\n",
       "      <td>安住蚊烟香 臭虫立毙药粉 世界第一名产 安住蚊烟香 蚊见逃慌慌 暑夜不用帐 包睡到天光 汉口...</td>\n",
       "      <td>安住蚊烟香,\"世界第一名产\"</td>\n",
       "      <td>安住 蚊烟香   臭虫 立毙 药粉   世界 第一名 产   安住 蚊烟香   蚊见 逃 慌...</td>\n",
       "    </tr>\n",
       "    <tr>\n",
       "      <th>496</th>\n",
       "      <td>11610</td>\n",
       "      <td>第威德润肠丸[DeWitt's]</td>\n",
       "      <td>药品</td>\n",
       "      <td>1934</td>\n",
       "      <td>眉色清秀 气色壮旺 此第威德润肠丸之功也 第威德润肠丸系以草药炼制纯粹和平十分安全功能清理肠...</td>\n",
       "      <td>第威德润肠丸,\"眉色清秀 气色壮旺\"</td>\n",
       "      <td>眉色 清秀   气色 壮旺   此 第 威德 润肠 丸 之功 也   第 威德 润肠 丸系 ...</td>\n",
       "    </tr>\n",
       "    <tr>\n",
       "      <th>497</th>\n",
       "      <td>10256</td>\n",
       "      <td>如意膏[She-Ko]</td>\n",
       "      <td>药品</td>\n",
       "      <td>1934</td>\n",
       "      <td>汤火烫伤 立攃如意膏可免严重之后果 皮肤受伤当以灼烫最痛苦其又因此震激而致命者治疗灼烫止痛消...</td>\n",
       "      <td>如意膏,\"汤火烫伤 立攃如意膏可免严重之后果\"</td>\n",
       "      <td>汤火 烫伤   立 攃 如意 膏 可免 严重 之 后果   皮肤 受伤 当以 灼烫 最 痛苦...</td>\n",
       "    </tr>\n",
       "    <tr>\n",
       "      <th>498</th>\n",
       "      <td>9176</td>\n",
       "      <td>六零六药膏</td>\n",
       "      <td>药品</td>\n",
       "      <td>1923</td>\n",
       "      <td>清血解毒六零六 花柳梅毒瘰*疮疖癣疥**及筋骨酸痛四肢麻木半身疯*等症状虽异其发生之原理莫不...</td>\n",
       "      <td>六零六,\"清血解毒六零六\"</td>\n",
       "      <td>清血 解毒 六零 六   花柳 梅毒 瘰 * 疮 疖 癣疥 * * 及 筋骨 酸痛 四肢 麻...</td>\n",
       "    </tr>\n",
       "    <tr>\n",
       "      <th>499</th>\n",
       "      <td>6411</td>\n",
       "      <td>三炮台烟[The Three Caftles Cigarettes]</td>\n",
       "      <td>烟草制品</td>\n",
       "      <td>1919</td>\n",
       "      <td>三炮台香烟,'到底是好 三炮台 好香烟 敬宾客 美观瞻 市中日日新牌见 到底不如老牌烟 名不虚传</td>\n",
       "      <td>三炮台香烟,\"到底是好 三炮台 名不虚传\"</td>\n",
       "      <td>三 炮台 香烟 , ' 到底 是 好   三 炮台   好 香烟   敬 宾客   美 观瞻...</td>\n",
       "    </tr>\n",
       "  </tbody>\n",
       "</table>\n",
       "<p>500 rows × 7 columns</p>\n",
       "</div>"
      ],
      "text/plain": [
       "     index                                              商品名称    商品类别   出版年  \\\n",
       "0     1596                                五华牌香烟[May Blossom]    烟草制品  1932   \n",
       "1     5627  韦廉士红色清导丸[Dr.Willams' Pink Pills For Pale People]      药品  1918   \n",
       "2    13532                   大炮台香烟[Three Castles Cigarettes]    烟草制品  1935   \n",
       "3     1133                                婴孩自己药片[Baby's Own]      药品  1930   \n",
       "4     3146                                     亚士北罗药片[Aspro]      药品  1933   \n",
       "..     ...                                               ...     ...   ...   \n",
       "495  14176                                             安住蚊烟香  化肥及杀虫剂  1935   \n",
       "496  11610                                  第威德润肠丸[DeWitt's]      药品  1934   \n",
       "497  10256                                       如意膏[She-Ko]      药品  1934   \n",
       "498   9176                                             六零六药膏      药品  1923   \n",
       "499   6411                三炮台烟[The Three Caftles Cigarettes]    烟草制品  1919   \n",
       "\n",
       "                                                  广告文本  \\\n",
       "0    兰勃脱白脱勒公司 五华牌香烟 佛及尼埃香烟  二十枝装每包售国币大洋二角 五十枝装每罐售国币...   \n",
       "1    讲求卫生为人生本性天理固然也 人生首贵逐日大便通畅有序为天然所当如此也如若大便不利大肠阻塞则...   \n",
       "2                                    香味馥郁,不让名花 另有三炮台出售   \n",
       "3    差肩儿女 秀慧康强 闽有佳音讃羡婴孩自己药片 每年此际小儿患肠胃病者甚多而尤以南方各地天气翳...   \n",
       "4    何以亚士北罗是妇女们的腻友？各国妇女力证亚士北罗药片是她们最需要的药物！为什么？她们的经验知...   \n",
       "..                                                 ...   \n",
       "495  安住蚊烟香 臭虫立毙药粉 世界第一名产 安住蚊烟香 蚊见逃慌慌 暑夜不用帐 包睡到天光 汉口...   \n",
       "496  眉色清秀 气色壮旺 此第威德润肠丸之功也 第威德润肠丸系以草药炼制纯粹和平十分安全功能清理肠...   \n",
       "497  汤火烫伤 立攃如意膏可免严重之后果 皮肤受伤当以灼烫最痛苦其又因此震激而致命者治疗灼烫止痛消...   \n",
       "498  清血解毒六零六 花柳梅毒瘰*疮疖癣疥**及筋骨酸痛四肢麻木半身疯*等症状虽异其发生之原理莫不...   \n",
       "499   三炮台香烟,'到底是好 三炮台 好香烟 敬宾客 美观瞻 市中日日新牌见 到底不如老牌烟 名不虚传   \n",
       "\n",
       "                                广告标题  \\\n",
       "0      五华牌香烟,\"兰勃脱白脱勒公司 五华牌香烟 佛及尼埃香烟\"   \n",
       "1          韦廉士红色清导丸:'讲求卫生为人生本性天理固然也'   \n",
       "2                  大炮台香烟,\"香味馥郁 不让名花\"   \n",
       "3    婴孩自己药片,\"差肩儿女 秀慧康强 闽有佳音赞美婴孩自己药片\"   \n",
       "4                     亚士北罗药片,\"妇女之腻友\"   \n",
       "..                               ...   \n",
       "495                   安住蚊烟香,\"世界第一名产\"   \n",
       "496               第威德润肠丸,\"眉色清秀 气色壮旺\"   \n",
       "497          如意膏,\"汤火烫伤 立攃如意膏可免严重之后果\"   \n",
       "498                    六零六,\"清血解毒六零六\"   \n",
       "499            三炮台香烟,\"到底是好 三炮台 名不虚传\"   \n",
       "\n",
       "                                                广告文本分词  \n",
       "0    兰勃 脱白 脱勒 公司   五华 牌 香烟   佛及 尼埃 香烟     二十 枝装 每包 ...  \n",
       "1    讲求 卫生 为 人生 本性 天理 固然 也   人生 首贵 逐日 大便 通畅 有序 为 天然...  \n",
       "2                          香味 馥郁 , 不让 名花   另 有 三 炮台 出售  \n",
       "3    差肩 儿女   秀慧 康强   闽有 佳音 讃 羡 婴孩 自己 药片   每年 此际 小儿 ...  \n",
       "4    何以 亚士 北罗 是 妇女 们 的 腻友 ？ 各国 妇女 力证 亚士 北罗 药片 是 她们 ...  \n",
       "..                                                 ...  \n",
       "495  安住 蚊烟香   臭虫 立毙 药粉   世界 第一名 产   安住 蚊烟香   蚊见 逃 慌...  \n",
       "496  眉色 清秀   气色 壮旺   此 第 威德 润肠 丸 之功 也   第 威德 润肠 丸系 ...  \n",
       "497  汤火 烫伤   立 攃 如意 膏 可免 严重 之 后果   皮肤 受伤 当以 灼烫 最 痛苦...  \n",
       "498  清血 解毒 六零 六   花柳 梅毒 瘰 * 疮 疖 癣疥 * * 及 筋骨 酸痛 四肢 麻...  \n",
       "499  三 炮台 香烟 , ' 到底 是 好   三 炮台   好 香烟   敬 宾客   美 观瞻...  \n",
       "\n",
       "[500 rows x 7 columns]"
      ]
     },
     "execution_count": 15,
     "metadata": {},
     "output_type": "execute_result"
    }
   ],
   "source": [
    "df['广告文本分词'] = df['广告文本'].apply(clean_text) #在Dataframe中添加新的一列，内容为广告文本预处理后的内容，并命名为“广告文本分词”\n",
    "df"
   ]
  },
  {
   "cell_type": "code",
   "execution_count": 16,
   "id": "bfbbecd3",
   "metadata": {},
   "outputs": [
    {
     "data": {
      "text/plain": [
       "[['human', 'interface', 'computer'],\n",
       " ['survey', 'user', 'computer', 'system', 'response', 'time'],\n",
       " ['eps', 'user', 'interface', 'system'],\n",
       " ['system', 'human', 'system', 'eps'],\n",
       " ['user', 'response', 'time'],\n",
       " ['trees'],\n",
       " ['graph', 'trees'],\n",
       " ['graph', 'minors', 'trees'],\n",
       " ['graph', 'minors', 'survey']]"
      ]
     },
     "execution_count": 16,
     "metadata": {},
     "output_type": "execute_result"
    }
   ],
   "source": [
    "from gensim.test.utils import common_texts #从Gensim库的测试工具中导入了common_texts\n",
    "common_texts #是一个包含了多个示例文本的列表，即一个列表的列表，一级列表中的元素为二级列表，二级列表的元素为一个或多个单词"
   ]
  },
  {
   "cell_type": "code",
   "execution_count": 19,
   "id": "5e7d7967",
   "metadata": {},
   "outputs": [
    {
     "name": "stdout",
     "output_type": "stream",
     "text": [
      "['兰勃', '脱白', '脱勒', '公司', '五华', '牌', '香烟', '佛及', '尼埃', '香烟', '二十', '枝装', '每包', '售', '国币', '大洋', '二角', '五十', '枝装', '每罐', '售', '国币', '大洋', '五角']\n",
      "['讲求', '卫生', '为', '人生', '本性', '天理', '固然', '也', '人生', '首贵', '逐日', '大便', '通畅', '有序', '为', '天然', '所当', '如此', '也', '如若', '大便', '不利', '大', '肠阻塞', '则', '胃失', '消化', '疾病', '头痛', '肝火', '上升', '胆汁', '不', '调', '口气', '积浊', '舌现', '黄苔', '诸恙', '接踵', '而', '起', '矣', '凡', '此皆须', '服用', '韦廉士', '大', '医生', '红色', '清导丸', '以利', '大便', '俾得', '体质', '强健', '百病', '不侵', '也况', '此丸', '之', '功力', '天然', '平和', '不尚', '霸烈', '广东省', '城', '医生', '学', '研究会', '*', '生', '先生', '来示', '云弟', '患大', '便秘', '结之症', '一月', '有余', '困苦', '万状', '难以', '言喻', '服用', '韦廉士', '红色', '清导丸', '数粒', '大便', '畅达', '于是', '常为', '服用', '身体', '爽健为', '半生', '以来', '所', '未有', '也', '如', '尊处', '无从', '购买', '韦廉士', '红色', '清导丸', '祈即', '邮票', '大洋', '六角', '至', '上海', '四川', '路', '九十六', '号', '韦廉士', '医生', '药局', '原班', '邮奉', '一瓶', '可', '也']\n",
      "['香味', '馥郁', ',', '不让', '名花', '另', '有', '三', '炮台', '出售']\n",
      "['差肩', '儿女', '秀慧', '康强', '闽有', '佳音', '讃', '羡', '婴孩', '自己', '药片', '每年', '此际', '小儿', '患', '肠胃病', '者', '甚', '多', '而', '尤以', '南方', '各地', '天气', '翳', '热', '*', '颣', '充斥', '之区', '为', '最', '然而', '刘君', '强', '逹', '（', '福州', '南台', '梅亭', '山馆', '）', '家有', '差肩', '儿女', '而', '均', '秀慧康', '强者', '果何法', '以致', '之乎', '刘君云', '鄙人', '对于', '贵局', '所出', '之', '婴孩', '自己', '药片', '甚佩其', '功效', '之', '霊', '验', '药性', '之', '和平', '舍下', '儿女', '常', '因', '食物', '不节', '发生', '消化不良', '肌热', '烦燥', '肚疼', '泻泻', '等', '症', '从前', '未知', '婴孩', '药片', '之功', '时感', '求医', '之苦', '今则', '凡遇', '上述', '诸症', '投', '以此', '片均', '得速', '愈', '是', '真', '有', '儿女', '之', '家庭', '不可', '不备', '之', '圣药', '也', '婴孩', '自己', '药片', '系', '韦廉士', '之', '儿科', '専', '药', '统治', '小儿', '食积', '腹痛', '发热', '便秘', '呕吐', '泄泻', '伤风', '痰厥', '出牙', '蛔虫', '等', '症', '逺', '东', '总', '发行', '上海', '江西', '路', '六十', '号', '韦廉士', '医生', '药局', '各埠', '药房', '均', '有', '代售']\n",
      "['何以', '亚士', '北罗', '是', '妇女', '们', '的', '腻友', '？', '各国', '妇女', '力证', '亚士', '北罗', '药片', '是', '她们', '最', '需要', '的', '药物', '！', '为什么', '？', '她们', '的', '经验', '知到', '亚士', '北罗', '药片', '功能', '最', '宏大', ',', '安全', ',', '可靠', ',', '物质', '纯净', ',', '不含', '别种', '危险性', '药料', ',', '故', '妇女', '们', '最', '信用', '的', '只有', '亚士', '北罗', '药片', '！', '亚士', '北罗', '药片', '的', '功用', ':', '五分钟', '内立止', '各种', '痛症', '伤风感冒', '失眠', '一服', '即', '愈', '何以', '妇女', '们', '对于', '亚士', '北罗', '比', '丈夫', '和', '爱人', '更', '爱慕', '？', '婚前', '！', '未婚', '女子', '对', '爱人', '的', '爱情', '亲热', '得', '很', '利害', '但是', '不', '识趣', '的', '毛病', '侵害', '她', '更为', '利害', '在', '他', '月经', '来', '的', '时期', '最易', '使', '他', '感觉', '到', '最', '不', '安适', '的', '是', '头痛', '和', '肚痛', '两种', '毛病', '虽是', '他', '最', '亲爱', '的', '爱人', '也', '没法', '使', '他', '安适', '惟有', '亚士', '北罗', '药片', '可以', '立止', '他', '的', '头痛', '和', '肚痛', '回复', '他', '的', '安适', '和', '快乐', '亚士', '北罗', '药片', '才', '是', '他们', '最', '亲爱', '的', '腻友', '比', '爱人', '更', '爱慕', '故此', '妇女', '们', '对亚士', '北罗', '药片', '万分', '的', '信任', '和', '欢迎', '婚后', '！', '女子', '结了婚', '她', '的', '唯一', '责任', '就是', '养育', '儿女', '照料', '丈夫', '想尽', '两种', '责任', '她', '的', '唯一', '信赖', '就是', '亚士', '北罗', '药片', '遇着', '丈夫', '和', '儿女', '发生', '疾病', '的', '时候', '如', '头痛', '肚痛', '感冒', '伤风', '风湿', '发热', '使', '她', '的', '芳心', '最感', '不安', '用', '了', '亚士', '北罗', '药片', '丈夫', '和', '儿女', '也', '得到', '平安', '可以', '使', '她', '安乐', '无忧', '因为', '丈夫', '出外', '工作', '最易', '伤风感冒', '工作', '过劳', '神经病', '或', '头痛', '儿女', '最易', '伤风感冒', '发热', '牙痛', '肚痛', '亚士', '北罗', '药片', '可立止', '葛', '总', '病症', '退热', '愈风', '疾故', '婚后', '妇女', '们', '视亚士', '北罗', '药片', '比', '丈夫', '和', '儿女', '更', '重要', '备有', '亚士', '北罗', '药片', '便', '可', '使', '全家', '平安', '一', '五分钟', '至', '十分钟', '立止', '剧烈', '头痛', '二', '能', '使', '失眠', '者', '得', '安乐', '睡眠', '三', '能', '驱除', '各种', '痛症', '五', '能治', '牙痛', '驱除', '牙患', '六', '提神', '却病', '助消化', '七', '立止', '各种', '痛症', '无害', '于', '此', '八', '治', '腹部', '肠', '刺痛', '九', '以热', '柠檬汁', '溶和亚士', '北罗', '药片', '两三片', '饮服', '立可', '驱除', '伤风感冒', '十', '五分钟', '至', '十分钟', '立即', '退热', '十一', '无论', '在', '舟车', '家庭', '随时随地', '可以', '服用', '十二', '专治', '妇女', '忧虑', '过步', '十三', '能', '醒酒', '提神', '十四', '善治', '大肠', '热及', '退', '各种', '热症', '十五', '用亚士', '北罗', '药片', '治喉', '痛', '是', '最', '安全', '之', '法', '小盒', '三毫', '中盒', '六毫', '大盒', '一元', '半', '广州', '沙面', '天祥', '洋行', '总经理', '各大', '药房', '均', '有', '代售', 'ASPRO']\n"
     ]
    }
   ],
   "source": [
    "corpus = df['广告文本分词'].apply(lambda x: x.split()).tolist() #构建语料库，将每个文本字符串即广告文本分词的内容根据空格分割，形成由词语构成的列表 \n",
    "for document in corpus[:5]: #corpus为一个以分词结果列表为元素的列表，显示列表的前5个元素\n",
    "    print(document) "
   ]
  },
  {
   "cell_type": "code",
   "execution_count": 20,
   "id": "a23a7cd4",
   "metadata": {},
   "outputs": [],
   "source": [
    "from gensim.models import Word2Vec #导入了Gensim库中的Word2Vec模型，用于训练词向量\n",
    "model = Word2Vec(corpus,window = 5, vector_size = 100, min_count = 1, epochs = 10) \n",
    "'''创建Word2Vec模型对象\n",
    "训练数据为corpus\n",
    "当前词与预测词在一个训练样本中的最大距离设定为5\n",
    "每个词的维度设定为100，即将每个词转化为100维向量\n",
    "词频低于1的词语会被忽略不进行训练，即只要出现，都会被纳入训练\n",
    "整个训练数据集会被遍历10次进行模型训练\n",
    "'''\n",
    "model.save('word2vec_ad.model') #将训练好的模型保存到名为'word2vec_ad.model'的文件中"
   ]
  },
  {
   "cell_type": "code",
   "execution_count": 21,
   "id": "a770dc57",
   "metadata": {},
   "outputs": [
    {
     "name": "stdout",
     "output_type": "stream",
     "text": [
      "之: [-7.27519333e-01  1.00805199e+00  4.61805940e-01 -2.13643283e-01\n",
      " -3.86843383e-01 -2.30910468e+00  7.36027241e-01  2.94900107e+00\n",
      " -1.07709205e+00 -1.19128394e+00 -5.81447423e-01 -1.99293447e+00\n",
      " -3.38434339e-01  1.29241562e+00  5.67872524e-01 -5.46635091e-01\n",
      "  4.23229247e-01 -5.85471392e-01 -2.10407332e-01 -2.19508862e+00\n",
      "  1.09382200e+00 -2.76954821e-03  6.26047671e-01 -7.14675307e-01\n",
      " -5.52470237e-02  3.32435042e-01 -3.82478446e-01 -7.86512017e-01\n",
      " -1.06688499e+00 -1.13139406e-01  1.13919246e+00  5.43229222e-01\n",
      "  3.88699681e-01 -7.62135148e-01 -6.81989789e-01  1.75600016e+00\n",
      "  5.23254752e-01 -1.06840968e+00 -1.02228773e+00 -2.30571008e+00\n",
      "  8.35802108e-02 -7.09474742e-01 -1.87947258e-01 -9.01909232e-01\n",
      "  1.10205090e+00 -7.95508027e-01 -1.44690585e+00  4.52927172e-01\n",
      "  1.29501057e+00  6.84352994e-01  4.64368254e-01 -4.84463722e-01\n",
      " -6.81574464e-01 -1.15729593e-01 -5.87795556e-01  1.10487688e+00\n",
      "  1.48603797e-01  1.66252643e-01 -5.26858211e-01  4.04601485e-01\n",
      "  3.45200330e-01  4.45316941e-01 -5.43623626e-01  7.19713867e-01\n",
      " -7.51693547e-01  1.37374377e+00  1.54048130e-01  8.83240521e-01\n",
      " -1.38682115e+00  1.79242134e+00 -7.84272075e-01  1.19869602e+00\n",
      "  6.60304487e-01 -1.33055627e-01  1.79006672e+00  5.15424848e-01\n",
      "  6.84342682e-02 -3.02801698e-01 -5.19456744e-01  5.42337000e-01\n",
      " -6.71283245e-01  2.84961581e-01 -1.10488915e+00  1.81871283e+00\n",
      "  2.76649892e-02  2.38899678e-01  4.98472989e-01  1.53607595e+00\n",
      "  1.51175249e+00  7.26648748e-01  1.40091860e+00  5.70952952e-01\n",
      "  2.34659627e-01  1.92248449e-01  1.78429365e+00  1.56556773e+00\n",
      "  5.06682158e-01 -1.90746212e+00  7.02877522e-01  6.82676971e-01]\n",
      "*: [-1.6730614   1.2740957   1.1889526   0.29667008  0.49420118 -3.2177575\n",
      "  0.7169692   3.3172073  -1.2847131  -1.5515172  -0.8164255  -3.0438294\n",
      " -0.7231605   1.7755349   0.82909024  0.38386187  1.1080478   0.21968105\n",
      " -0.8385018  -2.241634    1.6137103  -0.40777317  1.552214   -2.2957833\n",
      "  0.7125631   0.894467   -1.0004362  -0.32344604 -0.84392655  0.39081666\n",
      "  1.9029948   0.07200503  0.27295864 -0.8582636  -0.17427601  1.7947752\n",
      "  1.1059976  -0.4149806   0.04851835 -1.1229737   1.182962   -1.480565\n",
      " -1.0432981  -1.1239115   0.5830305   0.21176971 -0.7875726   0.32089296\n",
      "  1.0902033   0.7693426   0.98911196 -1.5168772  -0.5336625   0.4081436\n",
      " -0.70750976  1.8763955   1.128495    1.1368182  -0.5563108   1.4305277\n",
      " -0.03446347  0.50228095 -1.1334264   0.00468184 -0.08710269  1.5943687\n",
      "  0.73516625  0.35197583 -0.35974142  2.32932    -1.3108354   0.19647714\n",
      "  1.1367167  -0.05254845  1.5200652  -0.20225236 -0.9520341  -0.67799777\n",
      "  0.01002587  0.63071376 -1.6227298   0.90847737 -0.56999475  1.3852642\n",
      "  0.083982    0.26234132  0.44290745  0.49829882  1.8111128   0.1115212\n",
      "  1.8424423  -0.08159945  0.3976703  -0.7259101   1.3651843   1.6415659\n",
      "  1.1314869  -2.374409   -0.2938207   1.3000238 ]\n",
      "有: [-0.0306652   1.8051714   0.250901    1.0168556  -0.02019188 -0.8630577\n",
      "  0.9152571   1.6177436  -0.9745723  -0.41551486  0.30873477 -1.6041719\n",
      "  0.6688794  -0.12907124  0.32768622 -1.746641    1.7746667  -2.0555594\n",
      " -0.25416756 -2.2493684   0.72709024  0.3439377   0.4600338  -0.45774704\n",
      " -0.99507093 -0.68625337 -1.4156638  -0.27076384 -1.2544638  -0.6327401\n",
      "  1.2809684  -0.09603478 -0.09506468 -1.7370021  -1.5012382  -0.2509296\n",
      "  0.03617318 -0.27622864 -1.2703925  -2.1642737  -0.9664245  -1.1206648\n",
      "  0.4542947  -0.26889753  0.81076664 -0.51903975 -0.38722554 -1.0824851\n",
      "  0.5071428   1.6624138  -0.33906826 -0.4799847  -0.44993362 -0.38749424\n",
      " -1.4402654   0.26180992  0.7057468  -0.48890108 -1.869664   -0.1152261\n",
      "  0.8713881   0.2442716   0.3778219   0.9529522  -1.7458255   1.6980699\n",
      " -0.26938233  1.6370649  -1.3745354   0.86311454  0.22033091  1.6388454\n",
      "  1.412867   -0.28756174  1.6926945  -0.00519348  0.7134507   0.95061326\n",
      " -0.13189128 -0.18877533 -0.9331468  -0.5687366  -1.7198461   1.6871855\n",
      "  0.24519917 -0.78208864  0.30213436  1.5561795   2.2947624   0.2961322\n",
      "  1.2395582   0.56949246  0.36615235  0.5314366   2.3302987   1.5202826\n",
      " -0.04795955 -0.61465144 -0.7967313  -0.57016796]\n",
      "也: [-0.5273956   0.7875316   0.32199815  0.16676532 -0.43066582 -1.6249449\n",
      "  0.56622636  2.4695525  -0.9268879  -1.084087   -0.5071782  -1.240727\n",
      " -0.18604034  0.78441477  0.42647487 -1.1581899   0.4496406  -1.2144618\n",
      "  0.04797479 -1.7196666   0.6629208   0.18276511  0.6190986  -0.20221837\n",
      " -0.26167545  0.02963278 -0.6551928  -0.4755408  -1.0777236   0.01146928\n",
      "  1.2441349   0.08851805  0.0868163  -1.0810593  -0.67211896  1.1020905\n",
      "  0.14953202 -0.89059746 -0.7161628  -2.256986   -0.2555036  -0.7282198\n",
      " -0.30572736 -0.3572578   0.8705011  -0.94219226 -0.9568405   0.06558269\n",
      "  1.0205996   0.72808814  0.3722914  -0.55034    -0.5345672  -0.21227194\n",
      " -0.5502388   0.86495614  0.14552583 -0.16453338 -0.8914227   0.03790867\n",
      "  0.29271412  0.43268102  0.04465109  0.573362   -1.213189    1.3706675\n",
      "  0.09919436  0.91829157 -1.3364804   1.2596675  -0.26677126  1.3391168\n",
      "  0.78676265 -0.17564934  1.6378181   0.5782644   0.0413646   0.04306443\n",
      " -0.6133853   0.25326204 -0.6954965  -0.15044495 -1.0890018   1.6881891\n",
      " -0.18924636 -0.07869428  0.53635335  1.3355159   1.0708351   0.72584844\n",
      "  1.3923154   0.47826263  0.1476666   0.35353008  1.6866366   1.242357\n",
      "  0.17586465 -1.1358846   0.32727116  0.22094703]\n",
      "韦廉士: [-1.0229417   1.2050647   0.0311796   0.9843791  -0.59722084 -0.54399437\n",
      "  0.05096404  2.6511917  -0.3728606  -0.47334862 -1.1258748  -0.30739364\n",
      "  0.09080633 -0.44970343 -0.13372254 -2.9287238  -0.07409697 -2.987349\n",
      "  0.4567696  -1.3403975  -0.28800756  0.49395978  0.5806658   1.4921032\n",
      " -0.664643   -0.3263659  -1.4859821  -0.2372593  -1.7683507   0.26310256\n",
      "  1.6878046  -1.0214927  -0.10482526 -1.8800564  -0.566219    0.86601603\n",
      " -0.2964421  -1.0755761   0.09637636 -3.1600287  -0.62663865 -0.8238427\n",
      " -1.528937    0.4214261   0.25667626 -2.6402483  -0.06200752 -0.25751594\n",
      "  0.73600996  0.8540055   0.74563164 -1.3502253   0.09146767  0.115513\n",
      " -0.5668457   0.4147823   0.4955609  -1.0517107  -1.7989882  -0.64617753\n",
      "  0.50287807  0.30451104  0.96488607 -0.22075029 -2.2309651   1.1273831\n",
      "  0.16624479  1.2542282  -1.5710949   0.6857021   0.5031491   2.4996612\n",
      "  0.89931154 -0.22153068  1.9122969   1.3994575  -0.46369207  0.62520725\n",
      " -0.629594   -0.15051866 -1.0297619  -1.0971546  -1.1859154   1.6236538\n",
      " -1.7450702  -0.8067742   0.6213606   1.1524874  -0.5801996   1.1462252\n",
      "  2.18118     0.6026559  -0.1616352   0.9107672   2.8136678   0.64318556\n",
      " -0.42788547  0.20492056 -0.4779073  -0.5876244 ]\n"
     ]
    }
   ],
   "source": [
    "word_list = model.wv.index_to_key #获取了训练好的Word2Vec模型中所有词语的列表，返回词向量模型中所有词语的索引组成的列表\n",
    "word_vectors = model.wv[word_list] #通过word_list列表获取了所有词语对应的词向量，返回一个包含所有词向量的二维数组，其中每一行代表一个词语的词向量\n",
    "for word, vector in list(zip(word_list, word_vectors))[:5]: #将词语列表和对应的词向量数组进行打包，然后遍历前五个打包后的元组\n",
    "    print(f'{word}: {vector}') #用字符串格式打印词语及其词向量"
   ]
  },
  {
   "cell_type": "markdown",
   "id": "f3889d38",
   "metadata": {},
   "source": [
    "**wv的一些常见方法和属性**\n",
    "- index_to_key：返回词向量模型中所有词语的索引（唯一标识符）组成的列表。\n",
    "- key_to_index：返回词向量模型中所有词语到索引的映射，是index_to_key的逆操作。\n",
    "- get_vector(word)：根据词语获取对应的词向量。\n",
    "- get_vector_by_key(key)：根据索引获取对应的词向量。\n",
    "- similarity(word1, word2)：计算两个词语之间的余弦相似度。\n",
    "- most_similar(positive=None, negative=None, topn=10)：查找最相似的词语。\n",
    "- similar_by_vector(vector, topn=10)：根据给定的词向量查找最相似的词语。\n",
    "- vectors：返回所有词向量组成的二维数组。\n",
    "- save_word2vec_format(fname)：将词向量模型保存为Word2Vec的文本格式文件。\n",
    "- load_word2vec_format(fname)：从Word2Vec的文本格式文件中加载词向量模型。"
   ]
  },
  {
   "cell_type": "code",
   "execution_count": 22,
   "id": "9bd62169",
   "metadata": {},
   "outputs": [
    {
     "name": "stdout",
     "output_type": "stream",
     "text": [
      "0.72918737\n",
      "0.69566166\n",
      "0.6453279\n",
      "0.99355996\n",
      "0.98914266\n",
      "0.9936169\n"
     ]
    }
   ],
   "source": [
    "'''\n",
    "model.wv.similarity(word1,word2)是指两个词向量的余弦相似度，即表示两个词的相似程度\n",
    "取之在-1到1之间，-1表示完全不相关（如语义相反），1表示完全相关，0表示没有关系\n",
    "'''\n",
    "print(model.wv.similarity('医生', '疼痛'))\n",
    "print(model.wv.similarity('医生', '神经'))\n",
    "print(model.wv.similarity('医生', '伤风'))\n",
    "print(model.wv.similarity('疼痛', '神经'))\n",
    "print(model.wv.similarity('疼痛', '伤风'))\n",
    "print(model.wv.similarity('神经', '伤风'))"
   ]
  },
  {
   "cell_type": "code",
   "execution_count": 23,
   "id": "333a5424",
   "metadata": {},
   "outputs": [
    {
     "data": {
      "image/png": "[encoded data removed]",
      "text/plain": [
       "<Figure size 640x480 with 1 Axes>"
      ]
     },
     "metadata": {},
     "output_type": "display_data"
    }
   ],
   "source": [
    "import matplotlib.pyplot as plt\n",
    "from sklearn.decomposition import PCA #用于降维处理\n",
    "import matplotlib\n",
    "\n",
    "words = ['医生', '疼痛', '神经', '伤风']\n",
    "vectors = [model.wv[word] for word in words] #使用Word2Vec模型获取词语的词向量，并存储在vectors列表中\n",
    "\n",
    "from matplotlib.font_manager import FontProperties\n",
    "font_path = '/System/Library/Fonts/PingFang.ttc' \n",
    "custom_font = FontProperties(fname=font_path, size=14)\n",
    "\n",
    "matplotlib.rcParams['font.sans-serif'] = ['Arial Unicode MS'] \n",
    "\n",
    "pca = PCA(n_components=2) #创建了一个PCA对象，指定将词向量降维到2维\n",
    "pca_result = pca.fit_transform(vectors) #利用PCA对象对词向量进行降维处理，得到降维后的结果\n",
    "\n",
    "plt.figure()\n",
    "\n",
    "plt.scatter(pca_result[:, 0], pca_result[:, 1], s=50) #绘制散点图，表示降维后的第一维度和第二维度\n",
    "\n",
    "for i, word in enumerate(words): #遍历词语列表\n",
    "    plt.annotate(word, (pca_result[i, 0], pca_result[i, 1]), fontsize=14, fontproperties=custom_font) #利用annotate方法在散点图中添加文本标签，定义文本标签的位置\n",
    "\n",
    "plt.xlabel('PCA维度1', fontsize=14)\n",
    "plt.ylabel('PCA维度2', fontsize=14)\n",
    "plt.title('二维语义空间中词语的分布', fontsize=16)\n",
    "plt.grid(True) #在图表中显示网格线\n",
    "plt.show()"
   ]
  },
  {
   "cell_type": "code",
   "execution_count": 24,
   "id": "59042bb3",
   "metadata": {},
   "outputs": [
    {
     "name": "stdout",
     "output_type": "stream",
     "text": [
      "Loss after epoch 0: 70002.34375\n",
      "Loss after epoch 1: 69581.015625\n",
      "Loss after epoch 2: 64763.71875\n",
      "Loss after epoch 3: 54839.75\n",
      "Loss after epoch 4: 48831.046875\n",
      "Loss after epoch 5: 45679.875\n",
      "Loss after epoch 6: 43885.5625\n",
      "Loss after epoch 7: 42411.0625\n",
      "Loss after epoch 8: 41148.8125\n",
      "Loss after epoch 9: 39886.25\n",
      "Loss after epoch 10: 38765.4375\n",
      "Loss after epoch 11: 37768.5625\n",
      "Loss after epoch 12: 36493.6875\n",
      "Loss after epoch 13: 35390.5\n",
      "Loss after epoch 14: 34680.875\n",
      "Loss after epoch 15: 33467.625\n",
      "Loss after epoch 16: 32611.875\n",
      "Loss after epoch 17: 35412.25\n",
      "Loss after epoch 18: 30919.5625\n",
      "Loss after epoch 19: 30041.0625\n",
      "Loss after epoch 20: 32689.1875\n",
      "Loss after epoch 21: 28651.5\n",
      "Loss after epoch 22: 31173.875\n",
      "Loss after epoch 23: 26418.375\n",
      "Loss after epoch 24: 26785.25\n",
      "Loss after epoch 25: 26333.25\n",
      "Loss after epoch 26: 25642.5625\n",
      "Loss after epoch 27: 24868.875\n",
      "Loss after epoch 28: 27208.125\n",
      "Loss after epoch 29: 26548.375\n",
      "Loss after epoch 30: 23744.25\n",
      "Loss after epoch 31: 25904.875\n",
      "Loss after epoch 32: 21983.5\n",
      "Loss after epoch 33: 22560.0\n",
      "Loss after epoch 34: 22389.25\n",
      "Loss after epoch 35: 21986.25\n",
      "Loss after epoch 36: 21627.125\n",
      "Loss after epoch 37: 21670.75\n",
      "Loss after epoch 38: 21211.375\n",
      "Loss after epoch 39: 21014.625\n",
      "Loss after epoch 40: 20857.125\n",
      "Loss after epoch 41: 20461.0\n",
      "Loss after epoch 42: 19598.75\n",
      "Loss after epoch 43: 20350.0\n",
      "Loss after epoch 44: 22539.5\n",
      "Loss after epoch 45: 20244.5\n",
      "Loss after epoch 46: 22173.625\n",
      "Loss after epoch 47: 19933.375\n",
      "Loss after epoch 48: 19816.125\n",
      "Loss after epoch 49: 19856.125\n"
     ]
    }
   ],
   "source": [
    "#回调函数用于在Word2Vec模型训练过程中进行回调操作，可以自定义一些回调函数，可以记录训练过程中的指标、保存模型、可视化训练进度等等\n",
    "from gensim.models.callbacks import CallbackAny2Vec\n",
    "\n",
    "#定义一个类，继承自CallbackAny2Vec类，用于在每个epoch结束时打印损失值\n",
    "class callback(CallbackAny2Vec):\n",
    "    '''Callback to print loss after each epoch.'''\n",
    "\n",
    "    def __init__(self):\n",
    "        self.epoch = 0\n",
    "        self.loss_to_be_subed = 0\n",
    "        #用于记录当前的epoch数和上一个epoch结束时的损失值\n",
    "\n",
    "    def on_epoch_end(self, model):\n",
    "        loss = model.get_latest_training_loss()\n",
    "        loss_now = loss - self.loss_to_be_subed\n",
    "        self.loss_to_be_subed = loss\n",
    "        print('Loss after epoch {}: {}'.format(self.epoch, loss_now))\n",
    "        self.epoch += 1\n",
    "        '''\n",
    "        首先获取当前epoch的损失值，并计算与上一个epoch结束时的损失值的差\n",
    "        然后更新loss_to_be_subed为当前epoch的损失值，并打印出当前epoch的损失值以及对应的epoch数。\n",
    "        '''\n",
    "        \n",
    "'''\n",
    "返回的损失值可以反映模型在每个epoch结束时的训练效果，如果损失值在训练过程中逐渐减小，则表示模型在学习任务上取得了进展。\n",
    "'''\n",
    "from gensim.models import Word2Vec\n",
    "\n",
    "model = Word2Vec(\n",
    "    corpus,\n",
    "    window = 5,\n",
    "    vector_size = 100, \n",
    "    min_count = 1, \n",
    "    compute_loss=True,  \n",
    "    callbacks=[callback()],epochs = 50 #callbacks=[callback()] 将之前定义的回调函数 callback() 加入到模型训练中，用于监控损失值。\n",
    ")\n",
    "\n",
    "model.save('word2vec_ad.model')"
   ]
  },
  {
   "cell_type": "markdown",
   "id": "beb2f58c",
   "metadata": {},
   "source": [
    "# 词嵌入模型应用-以外交部记者会文本为例"
   ]
  },
  {
   "cell_type": "code",
   "execution_count": 74,
   "id": "661fd8d1",
   "metadata": {},
   "outputs": [],
   "source": [
    "import os\n",
    "corpus_path = '/Users/liuzhixin/Documents/硕士研究生/课程文件/第二学期/文本数据挖掘/外交部发言文稿（按文档）'"
   ]
  },
  {
   "cell_type": "code",
   "execution_count": 75,
   "id": "4fd6c35e",
   "metadata": {},
   "outputs": [],
   "source": [
    "stopwords_path = \"/Users/liuzhixin/Documents/硕士研究生/课程文件/第二学期/文本数据挖掘/workshop1/stopwords.txt\" \n",
    "with open(stopwords_path, 'r', encoding='utf-8') as f: \n",
    "    stopwords = [line.strip() for line in f] "
   ]
  },
  {
   "cell_type": "code",
   "execution_count": 76,
   "id": "1f3fd5c5",
   "metadata": {},
   "outputs": [],
   "source": [
    "file_contents = [] \n",
    "for filename in os.listdir(corpus_path):  \n",
    "    if filename.endswith('.txt'): \n",
    "        filepath = os.path.join(corpus_path, filename) \n",
    "        with open(filepath, 'r', encoding='utf-8') as file: \n",
    "            content = file.read()\n",
    "            file_contents.append(content) "
   ]
  },
  {
   "cell_type": "code",
   "execution_count": 77,
   "id": "1f0d7f94",
   "metadata": {},
   "outputs": [],
   "source": [
    "import jieba\n",
    "def word_segmentation(text):\n",
    "    words = jieba.lcut(text)\n",
    "    words = [word for word in words if word not in stopwords] \n",
    "    return words"
   ]
  },
  {
   "cell_type": "code",
   "execution_count": 78,
   "id": "fb07f5f6",
   "metadata": {},
   "outputs": [
    {
     "name": "stdout",
     "output_type": "stream",
     "text": [
      "[['2022', '12', '月', '28', '日', '外交部', '发言人', '汪文斌', '主持', '例行', '记者会', '\\n', '\\n', '北京青年报', '针对', '中国', '发布', '新冠', '病毒感染', '乙类', '乙管', '方案', '中国', '美国商会', '英国', '商会', '德国', '商会', '多家', '外国', '华商', '会及', '国家', '驻华', '外交机构', '此举', '有助于', '恢复', '中外', '人员', '往来', '商务旅行', '重振', '投资', '营商', '信心', '恢复', '市场', '乐观', '情绪', '中国', '外资', '优先', '投资', '目的地', '发言人', '对此', '有何', '评论', '\\n', '汪文斌', '报道', '中方', '因时', '因势', '优化', '完善', '防控', '政策', '依法', '新冠', '病毒感染', '乙类', '甲管', '调整', '乙类', '乙管', '综合', '评估', '病毒', '变异', '疫情', '形势', '防控', '工作', '基础', '作出', '防控', '策略', '调整', '有助于', '提升', '防控', '工作', '科学性', '精准', '性', '有效性', '有助于', '更好', '保障', '生产', '生活', '医疗卫生', '需求', '有助于', '限度', '减少', '疫情', '经济社会', '发展', '影响', '信心', '守', '好', '保', '健康', '防', '重症', '防线', '推动', '经济', '社会秩序', '加快', '走向', '恢复', '最终', '抗击', '疫情', '胜利', '\\n', '乙类', '乙管', '中方', '制定', '发布', '中外', '人员', '往来', '暂行', '措施', '中外', '人员', '健康', '有序', '往来', '创造', '更好', '条件', '更好', '保障', '对外', '交流', '合作', '全球', '经济', '发展', '带来', '利好', '\\n', '中方', '高效', '统筹', '疫情', '防控', '经济社会', '发展', '坚定不移', '对外开放', '各方', '携手', '国际', '抗疫', '合作', '维护', '全球', '产业链', '供应链', '稳定', '推动', '世界', '经济', '恢复', '增长', '\\n', '韩联社', '韩国', '总统府', '今日', '发布', '自由', '和平', '繁荣', '印度', '太平洋', '战略', '最终版', '战略', '中国', '印太', '地区', '繁荣', '和平', '合作', '国家', '基于', '国际', '规则', '规范', '相互尊重', '互惠', '中方', '对此', '有何', '评论', '\\n', '汪文斌', '中方', '韩方', '报道', '中方', '各国', '团结合作', '致力于', '地区', '和平', '稳定', '发展', '繁荣', '反对', '搞', '排他性', '小圈子', '符合', '地区', '国家', '共同利益', '希望', '韩方', '中方', '一道', '推动', '中韩关系', '健康', '稳定', '发展', '地区', '和平', '稳定', '发展', '繁荣', '作出', '贡献', '\\n', '共同社', '日本自民党', '议员', '世耕弘成', '台湾', '蔡', '英文', '会谈', '蔡', '英文', '日本', '三个', '安保', '文件', '中方', '对此', '有何', '评论', '\\n', '汪文斌', '日本', '政客', '谋求', '政治', '私利', '再三', '作秀', '表演', '窜访', '中国台湾地区', '台独', '分裂', '势力', '张目', '中方', '对此', '反对', '日方', '提出', '严正', '交涉', '\\n', '台湾', '中国', '领土', '不可分割', '一部分', '日本', '曾', '台湾', '殖民统治', '长', '达', '半个世纪', '中国', '人民', '负有', '历史', '罪责', '谨言慎行', '敦促', '日方', '恪守', '一个', '中国', '原则', '中日', '四个', '政治', '文件精神', '停止', '台湾地区', '形式', '官方', '往来', '停止', '台独', '分裂', '势力', '发出', '错误', '信号', '正告', '民进党', '当局', '逆', '历史潮流', '挟洋谋', '独', '图谋', '失败', '告终', '\\n', '\\n', '法新社', '美国', '正', '来自', '中国', '旅客', '实行', '新冠', '疫情', '入境', '措施', '发言人', '对此', '有何', '评论', '\\n', '汪文斌', '昨天', '阐明', '中方', '立场', '各方', '科学', '抗疫', '携手', '共进', '保障', '各国', '人员', '往来', '维护', '全球', '产业链', '供应链', '稳定', '推动', '世界', '经济', '恢复健康', '增长', '中方', '始终认为', '各国', '防疫', '措施', '科学', '适度', '应', '影响', '人员', '交往', '国家', '中方', '制定', '中外', '人员', '往来', '暂行', '措施', '积极态度', '期待', '中外', '人员', '往来', '进一步', '恢复', '便利化', '程度', '进一步', '提升', '\\n', '法新社', '台湾当局', '义务兵役', '四个', '月', '延长', '一年', '应对', '大陆', '威胁', '发言人', '对此', '有何', '评论', '\\n', '汪文斌', '祖国', '统一', '全体', '中华儿女', '意志', '阻挡', '历史', '大势', '国家', '统一大业', '奋斗', '重于泰山', '台独', '分裂', '活动', '卖命', '轻于鸿毛', '台湾同胞', '深明大义', '台独', '分裂', '势力', '充当', '炮灰', '\\n', '总台', '央视', '近期', '西方', '媒体', '抹黑', '中国', '疫情', '防控', '政策', '调整', '声称', '中国', '抗疫', '失败', '发言人', '对此', '有何', '评论', '\\n', '汪文斌', '提到', '论调', '充满', '偏见', '炒作', '抹黑', '别有用心', '政治', '操弄', '经不起', '事实', '推敲', '真相', '背道而驰', '国际', '社会', '对此', '看得', '带', '节奏', '\\n', '事实', '疫情', '暴发', '三年', '中国政府', '始终', '人民', '至上', '生命', '至上', '调集', '资源', '全力', '保护', '中国', '生命安全', '身体健康', '顶住', '一轮', '一轮', '疫情', '冲击', '扛过', '病毒', '猖獗', '艰难', '时期', '全球', '中国', '重症', '率', '死亡率', '最低', '中国', '人均', '预期', '寿命', '77.3', '岁', '提高', '78.2', '岁', '全球', '人类', '发展', '指数', '连续', '两年', '下降', '情况', '中国', '人类', '发展', '指数', '排名', '提升', '6', '\\n', '奥密克戎', '变异', '株', '致病', '力', '毒力', '减弱', '我国', '医疗', '救治', '病原', '检测', '疫苗', '接种', '能力', '持续', '提升', '背景', '中方', '因时', '因势', '主动', '优化', '抗疫', '举措', '有序', '出台', '二十条', '新', '十条', '优化', '措施', '制定', '新冠', '病毒感染', '乙类', '甲管', '调整', '乙类', '乙管', '方案', '工作', '重心', '防控', '感染', '转向', '防', '重症', '保', '健康', '这是', '科学', '目的', '程度', '保障', '人民', '生命安全', '身体健康', '限度', '减少', '疫情', '经济社会', '发展', '影响', '\\n', '世界', '各国', '调整', '防疫', '政策', '经历', '适应期', '中国', '防疫', '政策', '换挡', '例外', '中国', '疫情', '形势', '发展', '总体', '预期', '可控', '之中', '北京', '最先', '渡过', '疫情', '高峰', '生产', '生活', '正', '恢复正常', '省市', '迎来', '疫情', '高峰', '中方', '相关', '部门', '科学', '评估', '信心', '确保', '调整', '转段', '平稳', '有序', '推进', '\\n', '西方', '媒体', '刻意', '炒作', '歪曲', '中国', '疫情', '防控', '政策', '调整', '本国', '经历', '诸多', '防疫', '乱象', '付出', '沉重', '代价', '避而不谈', '双重标准', '违背', '新闻', '职业道德', '\\n', '人民', '至上', '生命', '至上', '用心', '守护', '中国', '人民', '健康', '福祉', '助力', '国际', '社会', '战胜', '疫情', '面对', '世纪', '灾疫时', '中国', '选择', '中国', '有以', '习近平', '同志', '核心', '党中央', '坚强', '领导', '14', '亿多', '中国', '人民', '众志成城', '日益', '强大', '综合国力', '坚实', '支撑', '必将', '赢得', '抗击', '疫情', '最终', '胜利', '\\n', '\\n'], ['2022', '2', '月', '7', '日', '外交部', '发言人', '赵立坚', '主持', '例行', '记者会', '\\n', '\\n', '\\n', '总台', '央视', '2', '月', '7', '日', '中国', '斯里兰卡', '建交', '65', '周年', '纪念日', '中方', '中斯', '关系', '发展', '有何', '评价', '庆祝', '活动', '\\n', '赵立坚', '中国', '斯里兰卡', '建交', '纪念日', '建交', '65', '年来', '始终', '相互理解', '相互支持', '树立', '大小', '国家', '友好相处', '互利', '合作', '典范', '中斯是', '守望相助', '好', '朋友', '共谋', '发展', '好', '伙伴', '相互支持', '好', '兄弟', '斯里兰卡', '恪守', '一个', '中国', '原则', '坚定', '支持', '中国', '国际事务', '正当', '立场', '中方', '坚定', '支持', '斯里兰卡', '维护', '国家主权', '独立', '支持', '斯方', '走', '适合', '本国', '国情', '发展', '道路', '疫情', '发生', '发扬', '互助', '精神', '携手', '抗击', '疫情', '传统友谊', '升华', '\\n', '今年初', '王毅', '国务委员', '兼', '外长', '成功', '访问', '斯里兰卡', '同斯方', '启动', '建交', '65', '周年', '暨', '米胶', '协定', '签署', '70', '周年', '庆祝', '活动', '中方', '愿', '同斯方', '一道', '建交', '周年', '契机', '弘扬', '独立', '自强', '团结互助', '米', '胶', '协定', '精神', '进一步', '深化', '传统友谊', '增进', '政治', '互信', '加强团结', '抗疫', '推动', '共建', '一带', '一路', '务实', '合作', '提质', '升级', '国际', '地区', '事务', '协调', '合作', '好', '拓展', '好', '中斯', '战略', '合作伙伴', '关系', '更好', '造福', '两国', '两国人民', '\\n', '中国日报', '习近平', '主席', '李克强', '总理', '日前', '会见', '包括', '俄罗斯', '总统', '普京', '哈萨克斯坦', '总统', '托', '卡耶夫', '厄瓜多尔', '总统', '拉索', '蒙古国', '总理', '奥云', '额尔登', '联合国', '秘书长', '古', '特雷斯', '在内', '多位', '国际', '政要', '纷纷', '中国', '提出', '全球', '发展', '倡议', '表达', '支持', '中方', '对此', '有何', '评论', '\\n', '赵立坚', '中方', '高度', '赞赏', '国家', '领导人', '国际', '组织', '负责人', '全球', '发展', '倡议', '作出', '表态', '全球', '发展', '倡议', '加快', '落实', '2030', '议程', '宗旨', '倡议', '践行', '多边', '主义', '秉持', '开放', '包容', '伙伴', '精神', '共商', '共建', '共享', '原则', '国家', '开放', '倡议', '提出', '国际', '社会', '积极响应', '踊跃', '参与', '已有近', '百个', '国家', '联合国', '多个', '国际', '组织', '倡议', '表达', '支持', '加快', '落实', '2030', '议程', '各国', '特别', '发展中国家', '心声', '全球', '发展', '倡议', '核心理念', '具备', '国际', '共识', '合作', '重点', '契合', '各方', '国际', '发展', '合作', '优先', '事项', '倡议', '具备', '行稳', '致远', '基础', '\\n', '中方', '有志于', '加快', '落实', '2030', '议程', '各方', '积极支持', '参与', '倡议', '中国', '愿同', '各方', '一道', '推动', '国际', '社会', '关注', '发展', '关注', '发展中国家', '困难', '深化', '全球', '发展', '伙伴关系', '携手', '加快', '落实', '2030', '议程', '作出', '更大', '贡献', '\\n', '\\n', '深圳', '卫视', '报道', '2', '月', '5', '日', '美国国会众议院', '审议', '2022', '美国', '竞争', '法案', '中方', '对此', '有何', '评论', '\\n', '赵立坚', '美国国会众议院', '2022', '美国', '竞争', '法案', '法案', '涉华', '内容', '充斥', '冷战', '思维', '零', '理念', '诋毁', '中国', '发展', '道路', '内外', '政策', '鼓吹', '对华', '战略', '竞争', '涉台', '涉疆', '涉港', '涉藏', '指手画脚', '中方', '对此', '反对', '\\n', '美国', '发展', '提升', '竞争力', '美国', '事', '美国', '中国', '说事', '以此', '借口', '干涉', '中国', '内政', '损害', '中国', '利益', '这一', '法案', '再次', '暴露', '美方', '霸道', '霸凌', '行径', '违背', '当今世界', '求', '和平', '谋发展', '促', '合作', '时代', '潮流', '人心所向', '最终', '只会', '损害', '美国', '利益', '\\n', '美方', '应', '摒弃', '冷战', '思维', '零', '理念', '客观', '理性', '看待', '中国', '发展', '中美关系', '删除', '法案', '涉华', '消极', '内容', '停止', '审议', '推进', '该案', '停止', '损害', '中美关系', '领域', '合作', '\\n', '总台', '央视', '日前', '出席', '国际', '论坛', '十多位', '外国', '政要', '联名', '致函', '中国', '领导人', '祝愿', '北京', '冬奥会', '圆满成功', '呼吁', '各国', '政府', '组织', '人民', '快', '更高', '更强', '—', '—', '团结', '奥林匹克', '格言', '指引', '团结合作', '攻坚克难', '共创', '人类', '美好未来', '请问', '发言人', '有何', '评论', '\\n', '赵立坚', '高度', '赞赏', '外国', '政要', '北京', '冬奥会', '支持', '祝福', '北京', '冬奥会', '国际', '社会', '广泛支持', '奥林匹克运动', '倡导', '团结', '正是', '当今', '时代', '世界', '各国', '命运', '共', '中方', '提出', '未来', '北京', '冬奥会', '口号', '北京', '冬奥会', '开幕式', '世界', '展示', '中国', '中国', '文化', '践行', '中方', '简约', '精彩', '承诺', '展现', '命运', '共同体', '理念', '北京', '冬奥会', '会为', '中国', '人民', '各国', '人民', '搭建', '友好', '桥梁', '合作', '平台', '\\n', '中方', '愿同', '各方', '一道', '践行', '快', '更高', '更强', '—', '—', '团结', '奥林匹克', '格言', '进一步', '深化', '各国', '人民', '团结合作', '饱受', '疫情', '困扰', '世界', '注入', '信心', '力量', '携手', '开创', '美好', '未来', '\\n', '\\n', '路透社', '路透社', '报道', '称', '美国', '官员', '呼吁', '中方', '举措', '落实', '美', '第一阶段', '经贸', '协议', '采购', '承诺', '中方', '对此', '有何', '评论', '\\n', '赵立坚', '美', '经贸关系', '请', '主管部门', '原则', '告诉', '美', '经贸关系', '本质', '互利', '共赢', '贸易战', '赢家', '国', '经贸关系', '应', '相互尊重', '平等', '协商', '精神', '妥善', '加以解决', '美方', '应同', '中方', '一道', '努力', '推动', '美', '经贸关系', '健康', '稳定', '发展', '\\n', '法新社', '联合国', '秘书长', '古', '特雷斯', '中国', '领导人', '会谈', '再次', '呼吁', '中方', '人权', '高专', '巴切', '莱特', '独立', '访问', '新疆', '中方', '同意', '巴访疆', '巴布亚新几内亚', '总理', '新冠', '病毒检测', '呈', '阳性', '北京', '回国', '进一步', '介绍', '外国', '领导人', '访华', '需', '遵守', '防疫', '\\n', '赵立坚', '第一个', '中方', '联合国', '人权', '高专', '巴切', '莱特', '女士', '访华', '参访', '新疆', '中方', '早已', '发出', '邀请', '就此', '沟通', '中方', '立场', '一贯', '访问', '目的', '交流', '合作', '\\n', '第二个', '前不久', '应邀', '来华', '出席', '北京', '冬奥会', '开幕式', '巴布亚新几内亚', '总理', '马拉', '佩', '抵京', '核酸', '检测', '呈', '阳性', '中方', '安排', '医疗', '专家', '诊治', '中国', '领导人', '马拉', '佩', '总理', '表达', '慰问', '李克强', '总理', '视频', '方式', '会见', '巴新', '代表团', '华', '期间', '严格遵守', '冬奥会', '防疫', '中方', '祝愿', '马拉', '佩', '总理', '早日康复', '提到', '外国', '领导人', '访华', '防疫', '刚才', '介绍', '案例', '想', '详细', '信息', '北京', '冬', '奥组委', '询问', '\\n', '\\n', '路透社', '芬兰', '男子', '冰球', '教练', '指责', '中国', '尊重', '选手', '人权', '称', '运动员', '隔离', '条件', '不佳', '方有何', '回应', '北京', '冬奥会', '开幕式', '一位', '维吾尔族', '火炬手', '点燃', '主', '火炬', '国家', '中方', '侵犯', '新疆', '维吾尔族', '人权', '未', '派', '官员', '出席', '冬奥会', '开幕式', '中方', '火炬手', '安排', '象征性', '旨在', '国家', '释放', '信号', '\\n', '赵立坚', '提到', '芬兰', '运动员', '北京', '冬', '奥组委', '发言人', '作', '回应', '告诉', '中方', '致力于', '举办', '一届', '简约', '精彩', '冬奥会', '北京', '冬', '奥组委', '防疫', '手册', '涉奥', '人员', '执行', '疫情', '防控', '措施', '旨在', '切实', '保障', '涉奥', '人员', '主办', '城市', '人民', '健康', '限度', '降低', '疫情', '风险', '确保', '比赛', '如期', '顺利', '国内外', '各方', '高度肯定', '世界卫生组织', '对此', '给予', '评价', '中方', '东道主', '致力于', '各国', '运动员', '提供', '细致', '周到', '服务', '便利', '\\n', '提到', '这名', '运动员', '新冠', '病毒检测', '呈', '阳性', '隔离', '条件', '具体情况', '感兴趣', '北京', '冬', '奥组委', '\\n', '第二个', '新疆', '种族灭绝', '说法', '纯属', '世纪', '谎言', '美方', '政客', '中方', '侵犯', '新疆', '维吾尔族', '人权', '相关', '言论', '无异于', '睁眼', '说瞎话', '北京', '冬奥会', '类似', '冬奥会', '恶意', '诬蔑', '抹黑', '政治', '炒作', '不得人心', '得逞', '行径', '必将', '国际', '社会', '谴责', '反对', '\\n', '冬奥会', '火炬手', '国际奥委会', '发言人', '对此', '作出', '回应', '奥林匹克', '宪章', '迪妮格尔', '衣拉木江', '北京', '冬奥会', '参赛', '队员', '参与', '比赛', '仪式', '权利', '北京', '冬奥会', '火炬手', '选拔', '标准', '综合', '意愿', '比赛', '成绩', '年龄', '知名度', '民族', '成分', '因素', '充分体现', '代表性', '北京', '冬奥会', '圣火', '开幕式', '现场', '中国', '老中青', '三代', '体育', '传递', '代表', '奥林匹克', '精神', '接续', '传承', '包括', '衣拉木江', '在内', '各族', '运动员', '中国体育代表团', '出征', '北京', '冬奥会', '一个', '侧面', '中国', '大力发展', '冰雪', '运动', '人民', '健康', '水平', '政策', '惠及', '各族人民', '体现', '中国', '民族团结', '大家庭', '\\n', '\\n', '印度', '广播公司', '刚才', '冬奥会', '友好', '桥梁', '中方', '安排', '曾', '参与', '加勒', '万', '河谷', '冲突', '战士', '祁发宝', '参与', '冬奥会', '火炬', '接力', '中方', '尊重', '印度', '敏感', '关切', '\\n', '赵立坚', '刚才', '中方', '北京', '冬奥会', '火炬手', '选拔', '作', '详细', '想', '北京', '冬奥会', '火炬手', '代表性', '符合', '火炬手', '选拔', '标准', '希望', '对此', '客观', '理性', '看待', '\\n', '追问', '印度', '广播公司', '质疑', '中方', '安排', '祁发宝', '参与', '火炬', '接力', '理由', '标准', '中方', '尊重', '印度', '关切', '\\n', '赵立坚', '表态', '想', '希望', '火炬手', '予以', '客观', '理性', '看待', '政治化', '解读', '\\n', '\\n', '北京', '广播', '电视台', '报道', '4', '日', '美', '具名', '官员', '称', '美国务院', '正', '着手', '豁免', '伊朗', '民用', '核', '项目', '制裁', '国家', '企业', '参与', '如伊核', '协议', '维也纳', '谈判', '达成', '共识', '豁免', '确保', '伊', '快速', '恢复', '履行', '伊核', '协议', '至关重要', '报道', '称', '相关', '核', '项目', '包括', '伊', '布什尔', '核电站', '阿拉克', '重水', '反应堆', '5', '日', '伊朗', '外长', '阿卜杜拉', '希扬称', '美国', '豁免', '伊', '制裁', '展现出', '诚意', '仅', '落', '纸面', '中方', '对此', '有何', '评论', '\\n', '赵立坚', '中方', '美方', '豁免', '伊朗', '民用', '核', '项目', '制裁', '正确方向', '迈出', '一步', '伊核', '协议', '恢复', '履约', '谈判', '处在', '关键', '节点', '伊', '核危机', '始作俑者', '美方', '应', '纠正', '伊', '极限', '施压', '错误', '政策', '解除', '伊及', '第三方', '非法', '制裁', '伊方', '此基础', '恢复', '履约', '\\n', '中方', '始终', '建设性', '参与', '伊核', '谈判', '美国', '伊朗', '各方', '沟通', '协调', '推进', '谈判', '作出', '努力', '中方', '各方', '一道', '推进', '伊核', '政治', '解决', '进程', '坚定', '维护', '合法权益', '\\n', '华尔街日报', '华尔街日报', '隶属', '新闻', '集团', '新闻', '集团', '攻击', '职员', '邮件', '文件', '盗取', '网络安全', '顾问', '网络', '入侵', '获取', '服务', '中方', '利益', '情报', '对此', '有何', '评论', '\\n', '赵立坚', '提到', '网络攻击', '中方', '反对', '打击', '形式', '黑客攻击', '黑客攻击', '鼓励', '支持', '纵容', '这一', '立场', '一贯', '网络空间', '虚拟性', '强', '溯源', '难', '体', '多样', '调查', '定性', '网络', '事件', '应有', '完整', '证据', '相关', '企业', '应', '秉持', '专业', '精神', '沦为', '国家', '出于', '政治', '目的', '制造', '虚假', '信息', '抹黑', '他国', '帮凶', '\\n', '\\n'], ['2023', '2', '月', '13', '日', '外交部', '发言人', '汪文斌', '主持', '例行', '记者会', '\\n', '\\n', '应', '法国', '意大利', '匈牙利', '俄罗斯政府', '邀请', '中共中央政治局', '委员', '中央', '外事', '工作', '委员会', '办公室', '主任', '王毅', '2', '月', '14', '日至', '22', '日', '访问', '法国', '意大利', '匈牙利', '俄罗斯', '应邀出席', '59', '届', '慕尼黑', '会议', '中国', '专场', '活动', '发表', '演讲', '宣介', '习近平', '主席', '倡导', '综合', '合作', '持续', '安全观', '阐明', '中国', '始终', '走', '和平', '发展', '道路', '会议主题', '国际', '介绍', '中方', '立场', '\\n', '应', '南非', '希腊政府', '邀请', '国务院', '副', '总理', '孙春兰', '2', '月', '15', '日至', '22', '日', '访问', '南非', '希腊', '中南', '高级', '别人', '文', '交流', '机制', '第三次', '会议', '\\n', '美国全国广播公司', '美方', '美国', '加拿大', '领空', '击落', '四个', '飞行物', '一个', '中方', '飞艇', '确认', '三个', '飞行物', '一个', '中方', '这仅', '巧合', '\\n', '汪文斌', '中国', '民用', '无人', '飞艇', '误入', '美国', '领空', '不可抗力', '导致', '意外', '偶发事件', '\\n', '提到', '不明飞行物', '情况', '想', '告诉', '美方', '发射', '先进', '导弹', '击落', '无人', '飞艇', '这是', '用力', '过猛', '过度', '美国', '国内', '很多', '质疑', '做法', '耗费', '美国', '纳税人', '金钱', '美国', '美国', '人民', '带来', '收益', '\\n', '还要', '指出', '事实上', '美国', '全球', '监控', '侦察', '国家', '拥有', '世界', '大规模', '间谍', '网络', '\\n', '美国国家安全局', '监听', '对象', '包括', '德国', '法国', '挪威', '瑞典', '荷兰', '欧洲', '国政', '短信', '通话', '内容', '美国', '其近', '100', '驻外', '使领馆', '暗自', '安装', '监听', '设备', '驻在国', '窃密', '信息安全', '新', '媒体', '安在', '报告', '披露', '美国国家安全局', '30', '天内', '远程', '窃取', '970', '亿条', '全球', '互联网', '数据', '1240', '亿条', '电话', '记录', '涉及', '各国', '公民', '个人隐私', '不久前', '纳米比亚', '海域', '发现', '一艘', '用于', '收集', '水下', '信息', '美国', '无人', '艇', '当地', '媒体', '普遍认为', '这艘', '无人', '艇', '实际上', '美国', '间谍', '船', '美国', '在世界上', '放飞', '间谍', '侦测', '气球', '美方', '心底', '世界', '间谍', '监听', '帝国', '国际', '社会', '\\n', '追问', '中方', '否认', '美方', '击落', '三个', '飞行物', '一个', '中方', '这仅', '巧合', '\\n', '汪文斌', '刚才', '讲', '情况', '一贯主张', '证据', '不应', '发表', '不负责任', '言论', '反对', '无中生有', '抹黑', '中国', '做法', '\\n', '\\n', '中国日报', '介绍', '中共中央政治局', '委员', '中央', '外事', '工作', '委员会', '办公室', '主任', '王毅', '访问', '欧洲', '国家', '出席', '慕安会', '目的', '\\n', '汪文斌', '中国', '欧盟', '建立', '战略伙伴', '关系', '20', '周年', '中共中央政治局', '委员', '中央', '外事', '工作', '委员会', '办公室', '主任', '王毅访', '欧将', '拉开', '中欧', '高层', '交往', '序幕', '法国', '意大利', '匈牙利', '中国', '欧洲', '合作伙伴', '访欧', '期间', '王毅', '三国', '政要', '战略', '沟通', '推动', '双边关系', '新', '发展', '增进', '中欧', '战略', '互信', '国际', '交换意见', '\\n', '慕安会', '全球', '影响', '国际', '战略', '政策', '年度', '论坛', '针对', '世界', '变乱', '交织', '地缘', '政治', '紧张', '形势', '王毅', '与会', '期间', '世界', '和平', '阐释', '中方', '\\n', '英国', '天空', '新闻记者', '第一个', '近日', '美国', '加拿大', '领空', '击落', '三个', '不明', '物体', '美', '加', '官方', '未', '不明', '物体', '来自', '美国国会参议院', '多数党', '领袖', '舒默', '称', '中方', '一支', '飞艇', '机群', '回应', '这一', '指控', '第二个', '报道', '称', '中方', '正', '击落', '青岛港', '一个', '不明', '物体', '中方', '美方', '类似', '情况', '描述', '过度', '违反', '国际惯例', '\\n', '汪文斌', '第一个', '刚才', '回答', '一向', '反对', '无中生有', '抹黑', '中国', '做法', '\\n', '第二个', '中方', '部门', '发布', '通知', '建议', '部门', '\\n', '总台', '央视', '中方', '昨天', '发布', '伊朗', '总统', '莱希', '来华', '国事访问', '消息', '发言人', '进一步', '介绍', '此访', '安排', '对此', '访有何', '期待', '中方', '看待', '中伊', '关系', '\\n', '汪文斌', '这次', '访问', '莱希', '总统', '任内', '首次', '访华', '访问期间', '习近平', '主席', '莱希', '总统', '举行会谈', '规划', '引领', '中伊', '关系', '未来', '发展', '关心', '地区', '国际', '交换意见', '李克强', '总理', '栗', '战书', '委员长', '会见', '莱希', '总统', '\\n', '中伊', '关系', '传统', '友好', '发展', '中伊', '关系', '伊', '战略', '选择', '近年来', '习近平', '主席', '莱希', '总统', '引领', '中伊', '关系', '保持良好', '发展势头', '政治', '互信', '领域', '务实', '合作', '稳步', '推进', '国际', '地区', '事务', '保持良好', '沟通', '协调', '坚定', '捍卫', '干涉内政', '原则', '发展中国家', '共同利益', '中方', '期待', '伊方', '一道', '以此', '访为', '契机', '推动', '中伊', '战略伙伴', '关系', '更大', '发展', '增进', '中东地区', '国家', '团结合作', '地区', '稳定', '发挥', '建设性', '作用', '\\n', '\\n', '韩联社', '11', '日起', '韩国', '恢复', '发放', '中国', '公民', '赴', '韩', '短期', '签证', '中国外交部', '发言人', '上周', '中国', '恢复', '审发', '韩国', '公民', '来华', '短期', '签证', '中方', '计划', '\\n', '汪文斌', '韩方', '解除', '对华', '签证', '措施', '减少', '国', '人员', '往来', '障碍', '迈出', '正确', '一步', '中方', '研究', '\\n', '路透社', '上周', '击落', '落入', '临近', '美国', '海域', '气球', '中国', '\\n', '汪文斌', '中国', '民用', '无人', '飞艇', '误入', '美国', '领空', '不可抗力', '导致', '意外', '偶发事件', '美方', '击落', '滥用', '武力', '过度', '对此', '反对', '\\n', '总台', '央视', '中共中央政治局', '委员', '中央', '外事', '工作', '委员会', '办公室', '主任', '王毅', '此行', '访问', '俄罗斯', '介绍', '访', '俄', '目的', '\\n', '汪文斌', '俄', '新', '时代', '战略', '协作', '伙伴', '近年来', '两国', '元首', '战略', '引领', '中俄关系', '健康', '稳定', '发展势头', '领域', '合作', '成果', '丰硕', '\\n', '访问期间', '王毅', '俄方', '重点', '阶段', '中俄关系', '发展', '关心', '国际', '地区', '热点问题', '交换意见', '中方', '愿', '以此', '访为', '契机', '俄方', '一道', '推动', '双边关系', '国', '元首', '方向', '稳步前进', '维护', '正当权益', '世界', '和平', '发挥', '作用', '\\n', '法新社', '美方', '十天', '击落', '中国', '气球', '中国外交部', '一个', '民用', '飞艇', '介绍', '中国', '哪家', '单位', '\\n', '汪文斌', '无人', '飞艇', '误入', '美国', '领空', '事件', '中方', '立场', '还要', '告诉', '一个', '事实', '长期以来', '美国', '滥用', '技术', '优势', '全世界', '包括', '盟友', '大规模', '无差别', '监听', '窃密', '遍布', '侵犯', '国', '主权', '利益', '违反', '国际法', '国际', '关系', '基本准则', '美国', '当之无愧', '世界', '间谍', '惯犯', '监控', '帝国', '\\n', '美国', '频繁', '派', '舰机', '中国', '抵近', '侦察', '高达', '657', '架次', '仅', '1', '月', '南海', '高达', '64', '架次', '严重危害', '中国', '国家', '破坏', '地区', '和平', '稳定', '美方', '气球', '非法', '别国', '领空', '司空见惯', '仅', '美方', '高空', '气球', '未经', '中国', '相关', '部门', '批准', '十余次', '非法', '飞越', '中国', '领空', '美方', '反躬自省', '改弦更张', '到处', '污蔑', '抹黑', '煽动', '对抗', '\\n', '\\n', '中新社', '柬埔寨', '首相', '洪森', '2', '月', '11', '日', '成功', '结束', '中国', '访问', '请问', '中方', '评价', '此访', '\\n', '汪文斌', '洪森', '首相', '中国', '人民', '熟悉', '老朋友', '中方', '农历', '新春', '接待', '首位', '外国', '领导人', '继', '2020', '年初', '中国', '暴发', '新冠', '疫情', '之际', '逆行', '访华', '时隔', '三年', '再次', '来访', '适逢', '柬', '建交', '65', '周年', '柬', '友好', '对此', '访均', '高度重视', '\\n', '2', '月', '10', '日', '习近平', '主席', '亲切', '会见', '洪森', '首相', '长时间', '交流', '柬', '关系', '未来', '发展', '擘画', '宏伟蓝图', '李克强', '总理', '栗', '战书', '委员长', '洪森', '首相', '举行会谈', '会见', '发表', '内容', '联合声明', '柬', '友好', '启动', '仪式', '柬', '经贸', '投资', '旅游', '论坛', '签署', '外交', '经贸', '发展', '合作', '农产品', '基础设施', '领域', '12', '合作', '文件', '\\n', '国际风云', '变幻', '柬', '坚定不移', '深化', '亲密无间', '铁杆', '友谊', '携手', '构建', '高质量', '高水平', '高标准', '新', '时代', '柬', '命运', '共同体', '中方', '坚定', '支持', '柬埔寨', '人民', '自主', '选择', '符合', '本国', '国情', '发展', '道路', '坚定', '支持', '柬埔寨', '维护', '国家主权', '坚定', '支持', '柬埔寨', '平稳', '推进', '国内', '政治', '议程', '经济社会', '发展', '反对', '外部', '势力', '干涉', '柬埔寨', '内政', '柬方', '希望', '此访', '传递', '柬埔寨', '人民', '始终', '中国', '人民', '坚定', '站', '信息', '柬方', '反对', '利用', '台湾', '干涉', '中国', '内政', '围堵', '遏制', '中国', '图谋', '坚定', '支持', '中国政府', '国家', '统一', '所作', '努力', '\\n', '政治', '产能', '农业', '能源', '人文', '六大', '领域', '入手', '着力', '打造', '柬', '钻石', '六边', '合作', '架构', '多边', '主义', '捍卫', '国际', '公平正义', '反对', '霸权主义', '强权政治', '反对', '搞', '针对', '特定', '国家', '阵营', '化', '排他性', '小圈子', '呼吁', '落实', '南海', '各方', '宣言', '早日', '达成', '实质', '南海', '行为准则', '利用', '南海', '破坏', '地区', '和平', '互信', '图谋', '注定', '得逞', '\\n', '两国', '高层', '战略', '引领', '柬', '关系', '百尺竿头更进一步', '柬', '铁杆', '友谊', '牢不可破', '两国人民', '带来', '福祉', '地区', '和平', '稳定', '发展', '贡献', '更多正', '能量', '\\n', '\\n', '朝日', '电视台', '气球', '演变', '愈发', '美', '冲突', '进行谈判', '\\n', '汪文斌', '美', '沟通', '关键', '冷静', '专业', '克制', '方式', '妥善处理', '这次', '不可抗力', '导致', '意外', '情况', '\\n', '土耳其', '阿纳多卢', '通讯社', '周末', '土耳其', '叙利亚', '传来', '消息', '显示', '中国', '救援队', '正', '土耳其', '国际', '组织', '合作', '地震', '灾区', '争分夺秒', '抢救', '生命', '中国', '救援队', '抵达', '叙利亚', '灾区', '介绍', '中方', '最新', '抗震救灾', '援助', '工作', '\\n', '汪文斌', '土耳其', '叙利亚', '遭受', '强震', '中方', '两国', '抗震救灾', '提供', '支持', '首批', '中国政府', '援助', '土耳其', '救灾物资', '已于', '2', '月', '11', '日', '12', '日', '分批', '运抵', '伊斯坦布尔', '包括', '地震', '灾区', '急需', '毛毯', '棉帐篷', '中国政府', '派出', '中国', '救援队', '社会', '应急', '力量', '救出', '二十余名', '幸存者', '中方', '援助', '心电图', '机', '超声', '诊断仪', '医用', '转运', '车', '手动', '病床', '物资', '于本周', '发运', '中国政府', '援助', '叙利亚', '人道主义', '物资', '正', '加紧', '实施', '包括', '3', '万个', '急救包', '2', '万条', '毛毯', '1', '万件', '棉服', '300', '棉帐篷', '呼吸机', '麻醉机', '制氧机', '物资', '尽快', '启运', '中方', '加快', '落实', '实施', '粮食', '援助', '项目', '220', '吨', '小麦', '运抵', '叙利亚', '途中', '余下', '3000', '余吨', '大米', '小麦', '本月', '分批', '发运', '中国红十字会', '叙利亚', '援助', '首批', '医疗', '物资', '运抵', '大马士革', '第二批', '人道主义', '援助', '物资', '13', '日', '北京', '启运', '该批', '物资', '包括', '棉帐篷', '赈济', '家庭', '包', '保暖', '冲锋衣', '生活', '物资', '灾区', '急需', '药品', '医疗', '物资', '可使', '1', '万余名', '受灾', '民众', '受益', '\\n', '一方有难', '八方支援', '中方', '国际', '社会', '一道', '积极支持', '土耳其', '叙利亚', '人民', '早日', '战胜', '灾害', '重建', '美好', '家园', '\\n', '彭博社', '提到', '美国', '飞艇', '飞越', '中国', '数字', '十个', '十多个', '数字', '覆盖', '时间段', '是从', '2023', '12', '月', '\\n', '汪文斌', '提', '恐怕', '国际', '社会', '关注', '愿', '重申', '美方', '滥用', '技术', '全世界', '包括', '美国', '盟友', '大规模', '无差别', '监听', '窃密', '美方', '频繁', '派', '舰机', '中国', '抵近', '侦察', '损害', '中国', '主权', '\\n', '美方', '气球', '非法', '别国', '领空', '稀罕', '事', '仅', '美方', '高空', '气球', '未经', '中国', '相关', '部门', '批准', '十余次', '非法', '飞越', '中国', '领空', '美方', '改弦更张', '反躬自省', '抹黑', '指责', '中方', '\\n', '\\n', '英国', '天空', '新闻记者', '美方', '称', '2', '月', '4', '日', '击落', '气球', '残片', '确信', '气球', '搭载', '监测', '装备', '中方', '否认', '指控', '美国', '这一', '结论', '错误', '分析', '收集', '残片', '纯属', '编造', '\\n', '汪文斌', '恐怕', '问', '美方', '合适', '事实', '美国国防部', '声明', '气球', '地面', '人员构成', '军事', '人身', '威胁', '近期', '美方', '相关', '议员', '指出', '气球', '美国', '构成威胁', '问问', '美方', '情况', '美方', '依然', '动用', '先进', '导弹', '击落', '过度', '\\n', '路透社', '刚才', '王毅', '访问', '俄罗斯', '他访', '俄时', '会谈', '乌克兰', '近期', '打算', '访问', '乌克兰', '\\n', '汪文斌', '中国', '乌克兰', '畅通', '外交', '沟通', '渠道', '王毅', '同志', '访俄', '期间', '讨论', '议题', '刚才', '介绍', '王毅', '俄方', '重点', '阶段', '中俄关系', '发展', '关心', '国际', '地区', '热点问题', '交换意见', '\\n', '东方', '卫视', '美国政府', '近日', '暂时', '放宽', '美国', '叙利亚', '制裁', '措施', '提到', '仅限', '叙利亚', '地震', '救灾', '赈灾', '需求', '相关', '交易', '给出', '180', '天', '时限', '中方', '对此', '有何', '评论', '\\n', '汪文斌', '美国政府', '解除', '叙利亚', '单边制裁', '暂时', '放宽', '政治', '表演', '\\n', '美国', '持续', '多年', '叙利亚', '实施', '军事', '干预', '非法', '单边制裁', '加剧', '叙利亚', '经济', '民生', '危机', '极大', '削弱', '叙利亚', '政府', '应对', '灾害', '能力', '地震', '发生', '美国', '单边制裁', '阻碍', '叙利亚', '72', '小时', '黄金', '救援', '当地', '灾情', '雪上加霜', '叙利亚', '人士', '言', '美国', '眼中', '政治', '人道主义', '\\n', '敦促', '美国政府', '放下', '地缘', '政治', '算计', '解除', '叙利亚', '非法', '单边制裁', '停止', '人为', '制造', '人道主义', '灾难', '\\n', '\\n', '华尔街日报', '美国商务部', '6', '家', '气球', '侦察', '项目', '中国', '企业', '列入', '黑名单', '中方', '对此', '有何', '评论', '中方', '就此', '何种', '措施', '\\n', '汪文斌', '中方', '一向', '反对', '美国', '中国', '机构', '企业', '实施', '非法', '单边制裁', '长臂', '管辖', '\\n', '中国', '民用', '无人', '飞艇', '误入', '美', '领空', '不可抗力', '导致', '意外', '偶发事件', '中方', '美方', '情况', '美方', '滥用', '武力', '过度', '升级', '事态', '违反', '国际法', '精神', '国际惯例', '炒作', '渲染', '变本加厉', '以此', '借口', '非法', '制裁', '中方', '企业', '机构', '中方', '对此', '强烈不满', '反对', '\\n', '中方', '必要措施', '维护', '中国', '企业', '机构', '合法权益', '\\n', '法新社', '菲律宾', '海警', '指控', '中国', '海警', '船向菲方', '一艘', '船只', '发射', '激光', '事件', '\\n', '汪文斌', '仁爱', '礁', '中国', '南沙群岛', '一部分', '2', '月', '6', '日', '菲律宾', '海警', '船', '未经', '中方', '擅自', '闯入', '仁爱', '礁', '海域', '中国', '海警', '船', '依据', '中国', '国内法', '包括', '联合国', '海洋法', '公约', '在内', '国际法', '维护', '中国', '主权', '海上', '秩序', '现场', '操作', '专业', '克制', '希望', '菲方', '切实', '尊重', '中方', '南海', '领土', '主权', '海洋权益', '采取任何', '导致', '争议', '扩大化', '局势', '复杂化', '菲', '正', '外交', '渠道', '就此', '沟通', '\\n', '彭博社', '报道', '中方', '气球', '侵犯', '西方', '领空', '英国政府', '审查', '外交部', '对此', '有何', '评论', '\\n', '汪文斌', '事件', '立场', '各方', '客观', '看待', '停止', '借题发挥', '\\n', '彭博社', '赞比亚', '财政部长', '拒绝', '中方', '世界银行', '多边', '债权人', '参与', '赞比亚', '债务', '重组', '建议', '外交部', '对此', '有何', '评论', '\\n', '汪文斌', '中方', '一贯', '高度重视', '赞比亚', '债务', '十国集团', '框架', '赞比亚', '债务', '发挥', '建设性', '作用', '推动', '赞', '债权人', '委员会', '成功', '三次', '会议', '债务', '各方', '正', '原则', '友好', '协商', '\\n', '\\n'], ['2023', '1', '月', '17', '日', '外交部', '发言人', '汪文斌', '主持', '例行', '记者会', '\\n', '\\n', '人民日报', '报道', '经合组织', '秘书长', '科尔曼', '16', '日', '中方', '调整', '疫情', '防控', '措施', '有助于', '确保', '供应链', '高效', '运转', '有助于', '缓解', '全球', '通胀', '中方', '对此', '有何', '回应', '\\n', '汪文斌', '相关', '报道', '近期', '越来越', '国际', '专业', '机构', '普遍认为', '中方', '优化', '调整', '疫情', '防控', '措施', '世界', '经济', '复苏', '带来', '利好', '世界', '经济', '论坛', '总裁', '布', '伦德', '日前', '中国', '优化', '调整', '防疫', '政策', '进一步', '推动', '经济', '增长', '有助于', '全球', '经济', '复苏', '国际货币基金组织', '2023', '中国', '经济', '稳步增长', '世界', '经济', '积极因素', '摩根士丹利', '高盛集团', '汇丰银行', '英国', '巴克莱银行', '法国', '外贸', '银行', '多家', '国际', '投行', '金融机构', '纷纷', '上调', '2023', '中国', '经济', '增速', '预期', '\\n', '中国政府', '因时', '因势', '主动', '优化', '调整', '疫情', '防控', '措施', '高效', '统筹', '疫情', '防控', '经济社会', '发展', '正确', '举', '中国', '疫情', '形势', '整体', '好', '生产', '生活', '秩序', '加快', '恢复正常', '中国', '经济', '活力', '发展', '潜能', '释放', '推动', '世界', '经济', '复苏', '注入', '信心', '力量', '\\n', '湖北', '广电', '外交部长', '秦刚', '此次', '访问', '埃及', '期间', '特别', '阐述', '中国', '中东', '政策', '发言人', '进一步', '介绍', '情况', '\\n', '汪文斌', '日前', '秦刚', '外长', '开罗', '埃及', '外长', '舒', '克里', '会见', '阐述', '中国', '中东', '政策', '\\n', '秦', '外长', '中方', '应', '尊重', '地区', '国家主权', '领土完整', '鼓励', '地区', '国家', '对话', '协商', '寻找', '符合', '地区', '兼顾', '各方', '利益', '能为', '各方', '接受', '热点问题', '解决方案', '呼吁', '地区', '国家', '提供', '发展', '支持', '地区', '国家', '应对', '粮食', '能源安全', '挑战', '应', '合力', '打击', '恐怖主义', '放松', '恐怖', '极端', '势力', '趁乱', '扩散', '中方', '呼吁', '域外', '国家', '尊重', '中东国家', '主权', '干涉', '地区', '国家', '内政', '践行', '多边', '主义', '搞', '单边', '霸凌', '制造矛盾', '尊重', '中东', '历史', '文化', '传统', '制造', '文明', '隔阂', '\\n', '秦', '外长', '中国', '始终', '支持', '中东', '人民', '独立自主', '探索', '发展', '道路', '支持', '中东国家', '团结', '协作', '解决', '地区', '中东国家', '合作', '共建', '一带', '一路', '落实', '全球', '发展', '倡议', '追求', '发展', '振兴', '践行', '全球', '倡议', '倡导', '建立', '综合', '合作', '持续', '中东', '架构', '推动', '地区', '热点问题', '政治', '解决', '贡献', '中国', '智慧', '中国', '方案', '中东国家', '文明', '交流', '守护', '世界', '文明', '多样性', '\\n', '访问期间', '秦', '外长', '还同', '阿盟', '秘书长', '盖特', '会见', '秦', '外长', '首届', '峰会', '成功', '丰硕成果', '发表', '利雅得', '宣言', '三份', '分量', '成果', '文件', '一致同意', '全力', '构建', '面向', '新', '时代', '命运', '共同体', '阶段', '中方', '愿同', '阿方', '弘扬', '守望相助', '平等互利', '包容', '互鉴', '友好', '精神', '建设', '好', '命运', '共同体', '践行', '利雅得', '宣言', '精神', '捍卫', '国际', '公平正义', '维护', '发展中国家', '共同利益', '建立', '工作', '机制', '加快', '推进', '条件成熟', '合作项目', '早期', '收获', '\\n', '秦', '外长', '所谈', '埃方', '阿方', '高度', '赞赏', '回应', '埃及', '外长', '舒', '克里', '中国', '维护', '世界', '和平', '地区', '稳定', '发挥', '作用', '埃方', '赞赏', '中方', '巴勒斯坦', '发挥', '作用', '期待', '中国', '联合国', '77', '国', '集团', '中国', '平台', '协调', '配合', '维护', '国际', '关系', '基本准则', '阿盟', '秘书长', '盖特', '阿方', '赞赏', '中方', '高效', '峰会', '共识', '付诸行动', '愿', '中方', '落实', '八大', '共同行动', '沟通', '对接', '期待', '中方', '进一步', '深化', '领域', '合作', '地区', '和平', '稳定', '发展', '\\n', '丝绸', '古道', '相知', '相交', '民族解放', '斗争', '患难与共', '经济', '全球化', '浪潮', '合作', '共赢', '国际', '风云变幻', '坚守', '道义', '中方', '实际行动', '证明', '中国', '始终', '阿拉伯', '国家', '好', '朋友', '合作', '发展', '面向未来', '战略伙伴', '关系', '牢不可破', '中方', '愿', '同阿方', '一道', '携手', '构建', '面向', '新', '时代', '命运', '共同体', '开创', '关系', '辉煌灿烂', '\\n', '日本共同社', '美国', '媒体报道', '美国', '国务卿', '布', '林肯', '访华', '发言人', '进一步', '介绍', '信息', '\\n', '汪文斌', '中方', '布', '林肯', '国务卿', '访华', '美', '正', '具体安排', '沟通', '中方', '始终', '习近平', '主席', '提出', '相互尊重', '和平共处', '合作', '共', '赢', '原则', '看待', '发展', '中美关系', '希望', '美方', '树立', '正确', '对华', '认知', '对话', '非', '对抗', '双赢', '非', '零', '中方', '相向', '而行', '不折不扣', '落实', '国', '元首', '达成', '共识', '推动', '中美关系', '重回', '健康', '稳定', '发展', '轨道', '\\n', '\\n', '印度', '教徒', '报', '本周一', '联合国安理会', '1267', '委员会', '制裁', '名单', '增加', '阿卜杜勒', '拉赫曼', '马基', '中方', '列名', '予以', '支持', '中方', '6', '月', '阻止', '制裁', '名单', '增加', '4', '澄清', '中方', '支持', '制裁', '4', '名', '恐怖分子', '\\n', '汪文斌', '恐怖主义', '人类', '公敌', '安理会', '1267', '委员会', '国际', '反恐', '机制', '安理会', '决议', '授权', '恐怖分子', '组织', '列入', '制裁', '清单', '有利于', '国际', '反恐', '合作', '应对', '恐怖主义', '威胁', '提到', '人员', '巴基斯坦', '定罪', '判刑', '列名', '体现', '巴基斯坦', '坚定', '打击', '恐怖主义', '认可', '\\n', '还要', '指出', '安理会', '1267', '委员会', '恐怖组织', '列名', '程序', '规范', '中方', '一贯', '委员会', '规则', '程序', '建设性', '负责', '态度', '参与', '1267', '委员会', '工作', '\\n', '日本广播协会', '中方', '公布', '2022', '年末', '中国', '人口', '14', '亿', '1175', '万人', '联合国', '公布', '印度', '人口', '推算', '14', '亿', '1200', '万人', '印度', '预计', '超越', '中国', '世界', '人口', '最多', '国家', '请问', '中方', '对此', '有何', '评论', '\\n', '汪文斌', '中国', '印度', '人口', '大国', '劳动力', '资源', '较为', '充沛', '国', '好', '人口', '红利', '发展', '振兴', '人类', '未来', '作出', '更大', '贡献', '\\n', '日本共同社', '消息', '称', '日本', '外务大臣', '林芳', '正', '计划', '访问', '中国', '日中', '正', '就此', '磋商', '\\n', '汪文斌', '中日', '层级', '交往', '构建', '契合', '新', '时代', '稳定', '建设性', '中日关系', '符合', '国', '利益', '提到', '访问', '安排', '提供', '消息', '\\n', '彭博社', '日本', '印度', '东京', '首次', '联合', '空中', '演习', '外交部', '对此', '有何', '评论', '\\n', '汪文斌', '报道', '应多', '地区', '国家', '互信', '有利于', '维护', '地区', '和平', '稳定', '事', '\\n', '\\n', '总台', '央视', '叙利亚', '国家', '通讯社', '报道', '当地', '时间', '14', '日', '美国', '叙利亚', '非法', '驻军', '53', '辆', '油罐车', '叙利亚', '塞克', '省', '盗运', '石油资源', '运往', '美军', '位于', '伊拉克', '基地', '请问', '发言人', '对此', '有何', '评论', '\\n', '汪文斌', '美国', '叙利亚', '非法', '掠夺', '明目张胆', '地步', '叙利亚', '政府', '官方', '数据', '2022', '上半年', '叙', '每日', '石油', '产量', '八成', '遭', '美军', '非法', '偷运', '月初', '美军', '动用', '60', '辆', '油罐车', '卡车', '大肆', '盗运', '叙利亚', '石油', '小麦', '美方', '强盗', '行径', '加剧', '叙利亚', '能源危机', '人道主义', '灾难', '叙利亚', '人民', '生命权', '美国', '无情', '侵害', '缺油', '少粮', '悲惨', '境地', '叙利亚', '人民', '冬天', '恐怕', '寒冷', '\\n', '美国', '盗取', '叙利亚', '资源', '贪婪', '对外', '提供', '军事援助', '慷慨', '动辄', '数十亿', '百亿美元', '美国', '取', '予', '别国', '陷入', '动荡', '灾难', '借此', '维护', '美国', '利益', '霸权', '美国', '基于', '规则', '秩序', '带来', '现实', '\\n', '敦促', '美方', '盗油', '行径', '叙利亚', '人民', '国际', '社会', '一个', '交代', '停止', '践踏', '国际', '法治', '破坏', '国际', '规则', '行径', '\\n', '中新社', '近日', '世卫', '组织', '秘书处', '例行', '记者会', '提出', '中国', '发现', '新', '变异', '株', '欧洲', '国家', '中国', '旅客', '措施', '美国', '发现', 'XBB.1', '5', '变异', '株', '国家', '未', '采取措施', '请问', '方有何', '评论', '\\n', '汪文斌', '疫情', '发生', '中方', '始终', '依法', '公开', '透明', '原则', '国际', '社会', '分享', '信息', '数据', '中方', '持续', '世界卫生组织', '全球', '流感', '共享', '数据库', 'GISAID', '分享', '中国', '新冠', '病毒感染', '病例', '基因', '序列', '全球', '疫苗', '药物', '研发', '作出', '贡献', '世卫', '组织', '分析', '中国', '主流', '毒株', '国家', '提交', '中国', '感染', '旅客', '病毒基因', '序列', '发现', '新', '变种', '病毒', '突变', '世卫', '组织', '欧洲区', '主任', '日前', '公开', '中国', '流行', '毒株', '欧洲', '地区', '早已', '中国', '疫情', '欧洲', '疫情', '形势', '影响', '欧洲', '国家', '针对', '旅客', '预防性', '措施', '措施', '应是', '科学', '适度', '非', '歧视性', '欧洲', '疾病', '预防', '控制中心', '多个', '国际', '技术', '机构', '中国', '疫情', '国家', '影响', '\\n', '疫情', '暴发', '三年', '美国', '流行', '新冠', '病毒', '变种', '毒株', '分支', '新冠', '病毒', '变种', '毒株', '最多', '国家', '美国', '疾控中心', '数据', '显示', '新', '变种', '毒株', 'XBB.1', '5', '美国', '蔓延', '美国', '头号', '毒株', '引发', '美国', '超过', '43%', '感染', '病例', '针对', 'XBB.1', '5', '近期', '传播', '世卫', '组织', '11', '日', '发布', '首份', '风险', '评估', '称', 'XBB', '迄今', '抗体', '最强', '抵抗性', '变异', '株', '强', '早期', '传播', '力', '免疫', '逃逸', '力', '大规模', '感染', 'XBB.1', '5', '至少', '40', '国家', '地区', '监测', '发现', '欧洲', '疾控中心', '发布', '评估', '称', 'XBB.1', '5', '最快', '1', '月', '欧洲', '主流', '变异', '株', '美方', '公开', '透明', '地同', '世卫', '组织', '国际', '社会', '分享', '美国', '疫情', '信息', '数据', '切实有效', '措施', '疫情', '进一步', '传播', '\\n', '\\n', '\\n'], ['2022', '1', '月', '21', '日', '外交部', '发言人', '赵立坚', '主持', '例行', '记者会', '\\n', '\\n', '总台', '央视', '当地', '时间', '20', '日', '76', '届', '联合国大会', '主席', '沙希德', '办公室', '发言人', '正式', '应', '国际奥委会', '邀请', '沙希德', '出席', '北京', '冬奥会', '开幕式', '参与', '火炬', '传递', '中方', '对此', '有何', '评论', '\\n', '赵立坚', '中方', '沙希德', '76', '届', '联合国大会', '主席', '出席', '北京', '冬奥会', '担任', '火炬手', '沙希德', '此前', '表达', '北京', '冬奥会', '坚定', '支持', '北京', '冬奥会', '展现', '人类', '科技', '科学', '展现', '中国', '全人类', '坚信', '北京', '冬奥会', '将会', '成功', '\\n', '近期', '包括', '联合国', '国际奥委会', '在内', '国际', '组织', '世界', '国', '人士', '纷纷', '表达', '北京', '冬奥会', '支持', '期待', '反对', '体育运动', '政治化', '表达', '国际', '社会', '未来', '心愿', '北京', '冬奥会', '帷幕', '即将', '拉开', '中国', '信心', '各方', '一道', '践行', '团结', '奥林匹克', '精神', '世界', '呈现', '一届', '简约', '精彩', '奥运', '盛会', '\\n', '韩联社', '报道', '安理会', '讨论', '增加', '5', '名', '朝鲜人', '制裁', '方案', '中国', '俄罗斯', '对此', '保留意见', '最终', '事后', '美国', '8', '国家', '常驻', '安理会', '代表', '发表', '对朝', '追加', '制裁', '声明', '中方', '对此', '有何', '评论', '\\n', '赵立坚', '中方', '近期', '半岛', '形势', '各方', '动向', '安理会', '讨论', '具体情况', '提供', '消息', '告诉', '安理会', '讨论', '对朝', '制裁', '决议', '草案', '安排', '希望', '安理会', '成员', '着眼', '长远', '大局', '审慎', '看待', '形势', '聚焦', '推动', '半岛', '政治', '解决', '进程', '中方', '提出', '建议', '稳定局势', '积累', '互信', '重启', '对话', '作出', '努力', '\\n', '\\n', '澎湃', '新闻记者', '报道', '希腊', '奥委会', '主席', '卡普拉', '洛斯', '北京', '冬奥会', '接受', '采访', '评价', '中方', '防疫', '环保', '筹备工作', '中文', '北京', '冬奥会', '送上', '祝福', '中国', '举办', '北京', '冬奥会', '展示', '中方', '奥林匹克', '理想', '承诺', '雅典', '市长', '巴科扬', '尼斯', '近日', '录制', '视频', '代表', '雅典', '热烈祝贺', '北京', '即将', '首个', '双奥之城', '发言人', '有何', '评论', '\\n', '赵立坚', '来自', '奥林匹克运动', '发源地', '发来', '祝福', '深表', '感谢', '一段', '英国', '小学生', '中文', '演唱', '2022', '相约', '北京', '视频', '引发', '中国', '民众', '关注', '小学生', '唱道', '一座', '长城', '刻', '历史', '轮廓', '跳动', '华夏', '坚强', '脉搏', '古老', '中国', '散发', '青春', '颜色', '情真意切', '笑容', '迎接', '八方', '宾客', '2022', '相约', '北京', '圣火', '孩子', '歌声', '希腊', '友', '祝福', '传递', '国际', '社会各界', '北京', '冬奥会', '信心', '期待', '\\n', '世界', '奉献', '一场', '简约', '精彩', '奥运', '盛会', '方向', '国际', '社会', '作出', '庄严', '承诺', '自申', '奥', '成功', '之日起', '矢志不渝', '追求', '目标', '中国', '国家统计局', '发布', '数据', '显示', '2015', '北京', '成功', '申办', '冬奥会', '3.46', '亿人', '参与', '冰雪', '运动', '标志', '带动', '三亿人', '冰雪', '目标', '顺利实现', '中国政府', '人民', '正以', '热情', '努力', '北京', '冬奥会', '办成', '一场', '全体', '冰雪', '爱好者', '盛会', '世界', '展现', '双奥之城', '风采', '\\n', '两周', '北京', '冬奥会', '圣火', '伴随', '中国', '农历', '虎年', '新春', '鼓点', '熊熊燃烧', '期待', '全球', '冰雪', '健儿', '北京', '龙腾虎跃', '希望', '国际', '奥林匹克', '事业', '虎虎生威', '世界', '和平', '发展', '贡献', '虎虎', '生机', '\\n', '东方', '卫视', '报道', '马里', '过渡政府', '1', '月', '21', '日为', '不久前', '逝世', '总统', '凯塔', '国葬', '中方', '对此', '有何', '评论', '\\n', '赵立坚', '凯塔', '马里', '资深', '政治家', '生前', '推动', '马', '关系', '发展', '作出', '贡献', '中方', '逝世', '深切', '哀悼', '马里政府', '人民', '凯塔', '家属', '诚挚', '慰问', '马', '传统', '友好', '愿同', '马方', '一道', '相互支持', '推动', '两国关系', '向前', '发展', '\\n', '\\n', '法新社', '第一个', '法国国民议会', '周四', '一项', '决议', '称', '中国', '维吾尔族', '穆斯林', '群体', '种族灭绝', '中方', '对此', '有何', '评论', '第二个', '欧洲议会', '周四', '呼吁', '欧盟', '成员国', '香港特区', '持续', '压制', '人权', '特首', '林', '郑月', '娥', '七名', '特区', '高级官员', '实施', '制裁', '中方', '对此', '有何', '评论', '\\n', '赵立坚', '提到', '第一个', '法国国民议会', '关涉', '疆', '决议', '罔顾', '事实', '法律常识', '粗暴', '干涉', '中国', '内政', '中方', '反对', '\\n', '涉疆', '立场', '上周五', '记者会', '同事', '分享', '识破', '涉疆', '谎言', '谎言', '蒙蔽', '心得体会', '新世纪', '维吾尔族', '人口', '2000', '834', '万', '增长', '2020', '1162', '万', '年均', '增长率', '1.67%', '这一', '比率', '远高于', '同期', '全国', '少数民族', '人口', '年均', '0.83%', '水平', '新疆', '实施', '种族灭绝', '维吾尔族', '还会', '大幅度', '人口', '增长率', '铁的事实', '面前', '谎言', '重复', '一千次', '谎言', '刻意', '装睡', '哗众取宠', '言行', '值得', '关注', '\\n', '提到', '第二个', '想', '香港', '事务', '纯属', '中国', '内政', '国安法', '实施', '香港', '发展', '重回', '正轨', '稳定', '法治', '环境', '更好', '保障', '这是', '不带', '偏见', '否认', '事实', '敦促', '欧洲议会', '尊重事实', '颠倒黑白', '恪守', '国际法', '国际', '关系', '基本准则', '干涉', '中国', '内政', '干预', '香港', '事务', '人权', '欧洲议会', '反躬自省', '改一改', '充当', '教师爷', '老毛病', '\\n', '中新社', '美国', '联邦', '纪事', '网站', '发布', '文件', '称', '美政府', '当地', '时间', '1', '月', '21', '日', '导弹', '技术', '扩散', '活动', '中国航天科技集团', '一院', '中国航天', '科工', '集团', '四院', '保利', '科技', '三家', '企业', '实施', '制裁', '请问', '方有何', '评论', '\\n', '赵立坚', '美方', '出于', '政治', '目的', '借口', '制裁', '打压', '中国', '企业', '这是', '典型', '霸凌', '行径', '中方', '对此', '强烈不满', '反对', '\\n', '中国政府', '一贯', '反对', '大规模', '杀伤性', '武器', '运载工具', '扩散', '中国', '防扩散', '政策', '相关', '法律法规', '中方', '导弹', '相关', '物项', '技术', '实行', '出口', '管制', '中国', '国家', '合作', '违反', '国际法', '涉及', '大规模', '杀伤性', '武器', '扩散', '\\n', '美方', '防扩散', '领域', '赤裸裸', '奉行', '双重标准', '纵容', '支持', '盟友', '发展', '导弹', '相关', '技术', '计划', '澳大利亚', '出售', '飞行', '距离', '可达', '2500', '公里', '携带', '核弹头', '战斧', '巡航导弹', '美方', '应', '反省', '防扩散', '记录', '军贸', '政策', '资格', '他国', '军贸', '合作', '说三道四', '中方', '美方', '纠正错误', '做法', '撤销', '制裁', '停止', '打压', '中国', '企业', '对华', '污蔑', '抹黑', '中方', '保留', '进一步', '措施', '权利', '\\n', '\\n', '彭博社', '英国', '澳大利亚', '外长', '及防长', '悉尼', '举行会谈', '重点', '讨论', '推进', '涉及', '核潜艇', '美英', '澳', '三边', '伙伴', '机制', '对抗', '中国', '日益增长', '影响力', '对表', '外交部', '对此', '有何', '评论', '\\n', '赵立坚', '中方', '美英', '澳', '三边', '伙伴关系', '典型', '军事', '集团', '三国', '核潜艇', '合作', '违反', '扩散', '核武器', '条约', '目的', '宗旨', '国际', '核不扩散', '体系', '冲击', '引发', '越来越', '国家', '警惕', '抵制', '美英', '澳', '无视', '国际', '社会', '关切', '执意', '推进', '核潜艇', '合作', '再次', '凸显', '防扩散', '采用', '合则', '不合', '弃', '双重标准', '虚伪', '至极', '英澳', '两国', '借机', '渲染', '中国', '威胁', '更是', '毫无道理', '中方', '对此', '反对', '应立即', '停止', '制造', '分裂', '挑动', '对抗', '错误', '行径', '\\n', '日本广播协会', '距离', '北京', '冬奥会', '开幕', '两周', '时间', '中方', '看待', '西方', '国家', '人权', '派', '官员', '出席', '冬奥会', '\\n', '赵立坚', '中方', '美国', '为首', '极少数', '西方', '国家', '不派', '官方', '外交代表', '出席', '北京', '冬奥会', '表态', '国家', '一小撮', '极少数', '国家', '代表', '不了', '国际', '社会', '行径', '包括', '参加', '北京', '冬奥会', '运动员', '在内', '各国', '人民', '抵制', '\\n', '\\n', '中国日报', '美国', '媒体', '近期', '披露', '1951', '12', '月', '美国', '民权', '大会', '领袖', '威廉', '派', '特森向', '联合国大会', '提交', '名为', '控诉', '灭绝种族', '请愿书', '请愿书', '记录', '1945', '1951', '年间', '数百', '针对', '黑人', '残杀', '虐待', '事件', '论证', '美政府', '黑人', '犯罪', '行', '联合国', '惩治', '灭绝种族', '罪', '公约', '定义', '灭绝种族', '罪', '相吻合', '黑人', '种族灭绝', '证据', '美国', '随处可见', '呼吁', '联合国', '美国', '采取措施', '制止', '种族灭绝', '发言人', '有何', '评论', '\\n', '赵立坚', '报道', '段', '尘封', '70', '多年', '往事', '再次', '揭开', '美国', '种族歧视', '疮疤', '请愿书', '提到', '超过', '1', '万名', '黑人', '曾', '遭受', '私刑', '处死', '残害', '原因', '竟然', '称呼', '白人', '很多', '黑人', '遭受', '殴打', '威胁', '身体', '精神', '双重', '伤害', '遗憾', '请愿书', '提到', '种族主义', '至今', '仍', '未', '解决', '反而', '愈演愈烈', '不禁', '问', '美国', '建国', '近', '250', '解放', '黑人', '奴隶', '宣言', '发表', '近', '160', '汤姆', '大叔', '真的', '拥有', '小屋', '姜戈', '真的', '解救', '马丁', '路德', '金', '梦想', '真的', '弗洛伊德', '呼吸', '\\n', '历史', '美国', '肉体', '土地', '文化', '各方', '面对', '印第安人', '屠杀', '驱逐', '同化', '全方位', '系统化', '侵犯', '印第安人', '人权', '早已', '事实上', '种族灭绝', '美国政府', '对此', '难辞其咎', '1814', '麦迪逊', '总统', '颁布', '法令', '称', '上缴', '一名', '12', '岁', '印第安', '男子', '头皮', '100', '美元', '赏金', '上缴', '一名', '印第安', '妇女', '儿童', '头皮', '50', '美元', '赏金', '印第安人', '皮', '作出', '优质', '长筒靴', '美国', '灭绝', '印第安人', '10', '分钟', '处决', '一名', '印第安人', '死', '掉', '印第安人', '好', '印第安人', '刚才', '匪夷所思', '种族歧视', '言论', '出自', '美国', '总统', '之口', '\\n', '时至今日', '种族主义', '罪恶', '基因', '仍', '美国', '血液', '流淌', '美国政府', '应', '拿出', '刮骨', '疗毒', '勇气', '摘除', '社会', '肌理', '种族歧视', '毒瘤', '延续', '两个', '世纪', '美国', '印第安人', '种族灭绝', '史', '美国', '种族歧视', '纪录', '画上', '永久', '休止符', '\\n', '\\n', '新华社', '近日', '曾', '关塔那摩', '度过', '2', '牢狱', '生涯', '巴基斯坦', '裔', '英国人', '贝格', '接受', '媒体', '采访', '讲述', '狱友', '遭受', '捆绑', '审讯', '拳打脚踢', '水刑', '各类', '酷刑', '虐待', '痛苦', '经历', '世上', '恶毒', '折磨', '不知', '所犯', '何罪', '情况', '关押', '指控', '审判', '人身自由', '付出', '代价', '发言人', '对此', '有何', '评论', '\\n', '赵立坚', '关不掉', '关塔那摩', '监狱', '抹', '美国', '人权', '污点', '提到', '报道', '20', '年来', '曝光', '美国', '关塔那摩', '监狱', '任意', '拘押', '酷刑', '虐囚', '丑闻', '关塔那摩', '名为', '监狱', '实为', '炼狱', '这座', '人间', '炼狱', '自由', '欺辱', '正义', '罪恶', '霸道', '\\n', '关塔那摩', '监狱', '种种', '暴行', '堪称', '美国', '侵犯', '人权', '黑暗', '教科书', '20', '美国', '停止', '虐囚', '关闭', '关塔那摩', '监狱', '反而', '黑狱', '网络', '铺', '全球', '美国', '全球', '黑狱', '早已', '美式', '践踏', '法治', '侵犯', '人权', '经典', '符号', '黑狱', '美国', '政客', '标榜', '人权', '反讽', '美式', '人权', '双标', '虚伪', '暴露无遗', '奉劝', '美方', '动辄', '他国', '说三道四', '横加干涉', '先照', '一照', '关塔那摩', '面', '镜子', '先对', '美方', '犯下', '暴行', '道歉', '赔偿', '担责', '\\n', '北京日报', '报道', '19', '日', '立陶宛', '总统', '瑙', '塞', '达', '记者会', '上称', '立中', '关系', '交恶', '商业', '损失', '立需', '实施', '降温', '计划', '立', '外长', '拿出', '方案', '并称', '立方', '欧洲', '机构', '中方', '表达', '想法', '缓和', '局势', '很大', '程度', '取决于', '局势', '升级', '一方', '立中', '有望', '近期', '峰会', '中方', '对此', '有何', '评论', '\\n', '赵立坚', '中立', '关系', '根本原因', '立陶宛', '当局', '涉台', '执意', '错误', '损害', '中方', '核心', '利益', '破坏', '国际', '关系', '基本准则', '中立', '关系恶化', '一步步', '导致', '局势', '升级', '始作俑者', '国际', '社会', '自有公论', '中方', '立陶宛', '沟通', '大门', '始终', '敞开', '立陶宛', '真的', '有意', '改善', '局面', '中方', '展示', '诚意', '拿出', '实实在在', '\\n', '\\n', '湖北', '广播', '电视台', '报道', '20', '日', '美日', '扩散', '核武器', '条约', '发表', '联合声明', '并称', '中国', '正', '核能力', '呼吁', '中方', '采取措施', '减少', '核', '风险', '增加', '透明度', '推进', '核裁军', '请问', '中方', '对此', '有何', '评论', '\\n', '赵立坚', '美日', '扩散', '核武器', '条约', '发表', '联合声明', '标榜', '对核', '领域', '全球', '治理', '贡献', '中国', '核政策', '说三道四', '转移视线', '推卸责任', '掩盖', '核', '领域', '斑斑', '劣迹', '\\n', '众所周知', '美国', '全球战略', '威胁', '美国', '拥有', '世界', '庞大', '先进', '核武器库', '还要', '投入', '万亿美元', '升级', '三位一体', '核力量', '发展', '低', '当量', '核武器', '降低', '核武器', '门槛', '部署', '全球', '反导', '系统', '谋求', '亚太', '欧洲', '部署', '陆基', '导', '严重破坏', '全球战略', '稳定', '不仅如此', '美方', '近年来', '违背', '多边', '主义精神', '频频', '毁约', '退群', '领域', '固守', '冷战', '思维', '拉帮结伙', '极力', '构建', '小圈子', '小集团', '奉劝', '美方', '管好', '事', '切实', '降低', '核武器', '国家', '政策', '作用', '切实', '承担', '核裁军', '优先', '责任', '进一步', '大幅', '实质性', '削减', '核武器', '\\n', '日本', '日本', '长期', '国际', '核裁军', '核不扩散', '领域', '模范生', '自居', '实际上', '却说', '一套', '做一套', '日本', '无核武器', '国家', '长期', '存储', '超出', '敏感', '核', '材料', '包括', '武器', '级', '钚', '核扩散', '风险', '核', '安全隐患', '日方', '享受', '美国', '核', '保护伞', '竭力', '阻挠', '美国', '采用', '核武器', '政策', '日方', '真的', '有意', '推动', '国际', '核裁军', '核不扩散', '进程', '应以', '负责', '态度', '回应', '国际', '关切', '实际行动', '取信于', '国际', '社会', '\\n', '中国', '坚定', '奉行', '自卫', '防御', '核战略', '始终', '恪守', '情况', '核武器', '承诺', '无条件', '无核武器', '国家', '无核武器', '区', '威胁', '核武器', '中国', '始终', '核力量', '国家', '需', '最低水平', '国家', '中国', '核武器', '中国', '核武器', '威胁', '中国', '核政策', '本身', '推进', '国际', '核裁军', '进程', '减少', '核', '风险', '努力', '贡献', '中国', '坚定', '致力于', '维护', '正当', '利益', '维护', '世界', '和平', '稳定', '\\n', '深圳', '卫视', '20', '日', '联大', '主席', '沙希德', '严肃', '呼吁', '成员国', '履行', '奥林匹克', '休战', '决议', '地方', '国家', '地区', '全球', '层面', '推动', '基于', '决议', '精神', '和平', '和谐', '文化', '呼吁', '全球', '武装冲突', '交战', '方', '勇于', '奥林匹克', '休战', '期间', '相互', '停火', '营造', '解决', '分歧', '契机', '请问', '中方', '对此', '有何', '评论', '\\n', '赵立坚', '中方', '坚定', '支持', '联大', '主席', '沙希德', '提出', '奥林匹克', '休战', '呼吁', '\\n', '体育运动', '超越', '国界', '种族', '文明', '人类', '共同语言', '奥林匹克运动', '诞生', '之初', '刻入', '和平', '友谊', '基因', '古希腊', '奥林匹克', '休战', '传统', '宗旨', '友好', '体育竞赛', '取代', '战争', '冲突', '奥林匹克', '休战', '呼吁', '推进', '联合国', '宪章', '宗旨', '原则', '作出', '贡献', '\\n', '不久前', '76', '届', '联合国大会', '协商一致', '北京', '冬奥会', '奥林匹克', '休战', '决议', '彰显', '国际', '社会', '中国', '成功', '举办', '冬奥会', '坚定信心', '汇聚', '世界', '各国', '人民', '守望', '团结合作', '维护', '世界', '和平', '愿景', '磅礴', '力量', '中方', '希望', '联合国', '会员国', '遵守', '奥林匹克', '休战', '决议', '响应', '联合国', '郑重', '呼吁', '体育', '和平', '和解', '北京', '冬奥会', '开幕', '7', '天至', '北京', '冬', '残奥会', '闭幕', '7', '天', '停止', '敌对行动', '北京', '冬奥会', '顺利', '举办', '作出贡献', '\\n', '两周', '北京', '冬奥会', '大幕', '就要', '拉开', '中国', '信心', '各方', '一道', '践行', '团结', '奥林匹克', '精神', '北京', '冬奥会', '契机', '携手', '迈向', '一个', '和平', '美好', '未来', '\\n', '\\n', '澳亚', '卫视', '一名', '印度', '议员', '称', '中国人民解放军', '18', '日', '阿鲁纳', '恰尔邦', '绑架', '一名', '17', '岁', '印度', '男孩', '印度国防部', '消息人士', '透露', '印度', '军方', '热线电话', '机制', '中国军方', '释放', '此人', '请问', '中方', '证实', '介绍', '情况', '\\n', '赵立坚', '情况', '想', '藏南', '地区', '中国', '领土', '不可分割', '一部分', '中方', '一贯', '反对', '印度', '中国', '藏南', '地区', '非法', '侵占', '中国人民解放军', '依法', '管控', '边界', '打击', '非法', '出入境', '活动', '\\n', '人民日报', '1', '月', '20', '日', '王毅', '国务委员', '兼', '外长', '德国', '外长', '贝尔', '伯克', '视频', '会晤', '介绍', '情况', '人权', '交换意见', '\\n', '赵立坚', '1', '月', '20', '日', '王毅', '国务委员', '兼', '外长', '德国', '新任', '外长', '贝尔', '伯克', '视频', '会晤', '这是', '德国', '新政府', '上任', '国外', '长', '首次', '接触', '1', '半小时', '中德关系', '中欧', '关系', '议题', '交流', '达成', '一系列', '共识', '\\n', '一致同意', '落实', '好', '两国', '领导人', '达成', '共识', '办好', '德', '建交', '50', '周年', '庆祝', '活动', '年内', '第七轮', '德', '政府', '磋商', '做好', '筹备工作', '两国', '部门', '对接', '规划', '未来', '合作', '尽快', '启动', '领域', '对话', '交流', '机制', '绿色', '发展', '合作', '深化', '绿色', '治理', '交流', '进一步', '教育', '民间', '地方', '交流', '均', '两国应', '应对', '气候变化', '抗击', '新冠', '肺炎', '疫情', '沟通', '协调', '合作', '应对', '全球性', '挑战', '国外', '长', '伊朗核', '交换', '意见', '愿', '推动', '谈判', '达成协议', '作出努力', '\\n', '谈到', '人权', '王毅', '国务委员', '尊重', '人权', '写入', '中国', '宪法', '党和国家', '意志', '人民', '利益', '至上', '中国共产党', '建党', '初', '心', '党', '始终', '人民', '群众', '广泛支持', '原因', '所在', '保障', '发展', '人权', '中国', '历史性', '成就', '人类', '人权', '事业', '作出', '重大贡献', '一贯', '人权', '更好', '中方', '愿', '相互尊重', '基础', '上同', '各国', '分享', '经验', '共同进步', '反对', '人权', '政治化', '反对', '人权', '借口', '干涉', '别国', '内政', '\\n', '印度报业托拉斯', '阿鲁纳', '恰尔邦', '失踪', '印度', '少年', '情况', '印', '军方', '中方', '提出', '诉求', '请问', '中方', '有没有', '就此', '展开', '调查', '确认', '少年', '中国军方', '扣留', '\\n', '赵立坚', '刚才', '情况', '相关', '部门', '提问', '\\n', '\\n']]\n"
     ]
    }
   ],
   "source": [
    "processed_text = [word_segmentation(text) for text in file_contents]\n",
    "print(processed_text[:5]) #查看前5个经过分词的结果"
   ]
  },
  {
   "cell_type": "code",
   "execution_count": 79,
   "id": "0248831c",
   "metadata": {},
   "outputs": [
    {
     "name": "stdout",
     "output_type": "stream",
     "text": [
      "[['2022', '12', '月', '28', '日', '外交部', '发言人', '汪文斌', '主持', '例行', '记者会', '北京青年报', '针对', '中国', '发布', '新冠', '病毒感染', '乙类', '乙管', '方案', '中国', '美国商会', '英国', '商会', '德国', '商会', '多家', '外国', '华商', '会及', '国家', '驻华', '外交机构', '此举', '有助于', '恢复', '中外', '人员', '往来', '商务旅行', '重振', '投资', '营商', '信心', '恢复', '市场', '乐观', '情绪', '中国', '外资', '优先', '投资', '目的地', '发言人', '对此', '有何', '评论', '汪文斌', '报道', '中方', '因时', '因势', '优化', '完善', '防控', '政策', '依法', '新冠', '病毒感染', '乙类', '甲管', '调整', '乙类', '乙管', '综合', '评估', '病毒', '变异', '疫情', '形势', '防控', '工作', '基础', '作出', '防控', '策略', '调整', '有助于', '提升', '防控', '工作', '科学性', '精准', '性', '有效性', '有助于', '更好', '保障', '生产', '生活', '医疗卫生', '需求', '有助于', '限度', '减少', '疫情', '经济社会', '发展', '影响', '信心', '守', '好', '保', '健康', '防', '重症', '防线', '推动', '经济', '社会秩序', '加快', '走向', '恢复', '最终', '抗击', '疫情', '胜利', '乙类', '乙管', '中方', '制定', '发布', '中外', '人员', '往来', '暂行', '措施', '中外', '人员', '健康', '有序', '往来', '创造', '更好', '条件', '更好', '保障', '对外', '交流', '合作', '全球', '经济', '发展', '带来', '利好', '中方', '高效', '统筹', '疫情', '防控', '经济社会', '发展', '坚定不移', '对外开放', '各方', '携手', '国际', '抗疫', '合作', '维护', '全球', '产业链', '供应链', '稳定', '推动', '世界', '经济', '恢复', '增长', '韩联社', '韩国', '总统府', '今日', '发布', '自由', '和平', '繁荣', '印度', '太平洋', '战略', '最终版', '战略', '中国', '印太', '地区', '繁荣', '和平', '合作', '国家', '基于', '国际', '规则', '规范', '相互尊重', '互惠', '中方', '对此', '有何', '评论', '汪文斌', '中方', '韩方', '报道', '中方', '各国', '团结合作', '致力于', '地区', '和平', '稳定', '发展', '繁荣', '反对', '搞', '排他性', '小圈子', '符合', '地区', '国家', '共同利益', '希望', '韩方', '中方', '一道', '推动', '中韩关系', '健康', '稳定', '发展', '地区', '和平', '稳定', '发展', '繁荣', '作出', '贡献', '共同社', '日本自民党', '议员', '世耕弘成', '台湾', '蔡', '英文', '会谈', '蔡', '英文', '日本', '三个', '安保', '文件', '中方', '对此', '有何', '评论', '汪文斌', '日本', '政客', '谋求', '政治', '私利', '再三', '作秀', '表演', '窜访', '中国台湾地区', '台独', '分裂', '势力', '张目', '中方', '对此', '反对', '日方', '提出', '严正', '交涉', '台湾', '中国', '领土', '不可分割', '一部分', '日本', '曾', '台湾', '殖民统治', '长', '达', '半个世纪', '中国', '人民', '负有', '历史', '罪责', '谨言慎行', '敦促', '日方', '恪守', '一个', '中国', '原则', '中日', '四个', '政治', '文件精神', '停止', '台湾地区', '形式', '官方', '往来', '停止', '台独', '分裂', '势力', '发出', '错误', '信号', '正告', '民进党', '当局', '逆', '历史潮流', '挟洋谋', '独', '图谋', '失败', '告终', '法新社', '美国', '正', '来自', '中国', '旅客', '实行', '新冠', '疫情', '入境', '措施', '发言人', '对此', '有何', '评论', '汪文斌', '昨天', '阐明', '中方', '立场', '各方', '科学', '抗疫', '携手', '共进', '保障', '各国', '人员', '往来', '维护', '全球', '产业链', '供应链', '稳定', '推动', '世界', '经济', '恢复健康', '增长', '中方', '始终认为', '各国', '防疫', '措施', '科学', '适度', '应', '影响', '人员', '交往', '国家', '中方', '制定', '中外', '人员', '往来', '暂行', '措施', '积极态度', '期待', '中外', '人员', '往来', '进一步', '恢复', '便利化', '程度', '进一步', '提升', '法新社', '台湾当局', '义务兵役', '四个', '月', '延长', '一年', '应对', '大陆', '威胁', '发言人', '对此', '有何', '评论', '汪文斌', '祖国', '统一', '全体', '中华儿女', '意志', '阻挡', '历史', '大势', '国家', '统一大业', '奋斗', '重于泰山', '台独', '分裂', '活动', '卖命', '轻于鸿毛', '台湾同胞', '深明大义', '台独', '分裂', '势力', '充当', '炮灰', '总台', '央视', '近期', '西方', '媒体', '抹黑', '中国', '疫情', '防控', '政策', '调整', '声称', '中国', '抗疫', '失败', '发言人', '对此', '有何', '评论', '汪文斌', '提到', '论调', '充满', '偏见', '炒作', '抹黑', '别有用心', '政治', '操弄', '经不起', '事实', '推敲', '真相', '背道而驰', '国际', '社会', '对此', '看得', '带', '节奏', '事实', '疫情', '暴发', '三年', '中国政府', '始终', '人民', '至上', '生命', '至上', '调集', '资源', '全力', '保护', '中国', '生命安全', '身体健康', '顶住', '一轮', '一轮', '疫情', '冲击', '扛过', '病毒', '猖獗', '艰难', '时期', '全球', '中国', '重症', '率', '死亡率', '最低', '中国', '人均', '预期', '寿命', '77.3', '岁', '提高', '78.2', '岁', '全球', '人类', '发展', '指数', '连续', '两年', '下降', '情况', '中国', '人类', '发展', '指数', '排名', '提升', '6', '奥密克戎', '变异', '株', '致病', '力', '毒力', '减弱', '我国', '医疗', '救治', '病原', '检测', '疫苗', '接种', '能力', '持续', '提升', '背景', '中方', '因时', '因势', '主动', '优化', '抗疫', '举措', '有序', '出台', '二十条', '新', '十条', '优化', '措施', '制定', '新冠', '病毒感染', '乙类', '甲管', '调整', '乙类', '乙管', '方案', '工作', '重心', '防控', '感染', '转向', '防', '重症', '保', '健康', '这是', '科学', '目的', '程度', '保障', '人民', '生命安全', '身体健康', '限度', '减少', '疫情', '经济社会', '发展', '影响', '世界', '各国', '调整', '防疫', '政策', '经历', '适应期', '中国', '防疫', '政策', '换挡', '例外', '中国', '疫情', '形势', '发展', '总体', '预期', '可控', '之中', '北京', '最先', '渡过', '疫情', '高峰', '生产', '生活', '正', '恢复正常', '省市', '迎来', '疫情', '高峰', '中方', '相关', '部门', '科学', '评估', '信心', '确保', '调整', '转段', '平稳', '有序', '推进', '西方', '媒体', '刻意', '炒作', '歪曲', '中国', '疫情', '防控', '政策', '调整', '本国', '经历', '诸多', '防疫', '乱象', '付出', '沉重', '代价', '避而不谈', '双重标准', '违背', '新闻', '职业道德', '人民', '至上', '生命', '至上', '用心', '守护', '中国', '人民', '健康', '福祉', '助力', '国际', '社会', '战胜', '疫情', '面对', '世纪', '灾疫时', '中国', '选择', '中国', '有以', '习近平', '同志', '核心', '党中央', '坚强', '领导', '14', '亿多', '中国', '人民', '众志成城', '日益', '强大', '综合国力', '坚实', '支撑', '必将', '赢得', '抗击', '疫情', '最终', '胜利'], ['2022', '2', '月', '7', '日', '外交部', '发言人', '赵立坚', '主持', '例行', '记者会', '总台', '央视', '2', '月', '7', '日', '中国', '斯里兰卡', '建交', '65', '周年', '纪念日', '中方', '中斯', '关系', '发展', '有何', '评价', '庆祝', '活动', '赵立坚', '中国', '斯里兰卡', '建交', '纪念日', '建交', '65', '年来', '始终', '相互理解', '相互支持', '树立', '大小', '国家', '友好相处', '互利', '合作', '典范', '中斯是', '守望相助', '好', '朋友', '共谋', '发展', '好', '伙伴', '相互支持', '好', '兄弟', '斯里兰卡', '恪守', '一个', '中国', '原则', '坚定', '支持', '中国', '国际事务', '正当', '立场', '中方', '坚定', '支持', '斯里兰卡', '维护', '国家主权', '独立', '支持', '斯方', '走', '适合', '本国', '国情', '发展', '道路', '疫情', '发生', '发扬', '互助', '精神', '携手', '抗击', '疫情', '传统友谊', '升华', '今年初', '王毅', '国务委员', '兼', '外长', '成功', '访问', '斯里兰卡', '同斯方', '启动', '建交', '65', '周年', '暨', '米胶', '协定', '签署', '70', '周年', '庆祝', '活动', '中方', '愿', '同斯方', '一道', '建交', '周年', '契机', '弘扬', '独立', '自强', '团结互助', '米', '胶', '协定', '精神', '进一步', '深化', '传统友谊', '增进', '政治', '互信', '加强团结', '抗疫', '推动', '共建', '一带', '一路', '务实', '合作', '提质', '升级', '国际', '地区', '事务', '协调', '合作', '好', '拓展', '好', '中斯', '战略', '合作伙伴', '关系', '更好', '造福', '两国', '两国人民', '中国日报', '习近平', '主席', '李克强', '总理', '日前', '会见', '包括', '俄罗斯', '总统', '普京', '哈萨克斯坦', '总统', '托', '卡耶夫', '厄瓜多尔', '总统', '拉索', '蒙古国', '总理', '奥云', '额尔登', '联合国', '秘书长', '古', '特雷斯', '在内', '多位', '国际', '政要', '纷纷', '中国', '提出', '全球', '发展', '倡议', '表达', '支持', '中方', '对此', '有何', '评论', '赵立坚', '中方', '高度', '赞赏', '国家', '领导人', '国际', '组织', '负责人', '全球', '发展', '倡议', '作出', '表态', '全球', '发展', '倡议', '加快', '落实', '2030', '议程', '宗旨', '倡议', '践行', '多边', '主义', '秉持', '开放', '包容', '伙伴', '精神', '共商', '共建', '共享', '原则', '国家', '开放', '倡议', '提出', '国际', '社会', '积极响应', '踊跃', '参与', '已有近', '百个', '国家', '联合国', '多个', '国际', '组织', '倡议', '表达', '支持', '加快', '落实', '2030', '议程', '各国', '特别', '发展中国家', '心声', '全球', '发展', '倡议', '核心理念', '具备', '国际', '共识', '合作', '重点', '契合', '各方', '国际', '发展', '合作', '优先', '事项', '倡议', '具备', '行稳', '致远', '基础', '中方', '有志于', '加快', '落实', '2030', '议程', '各方', '积极支持', '参与', '倡议', '中国', '愿同', '各方', '一道', '推动', '国际', '社会', '关注', '发展', '关注', '发展中国家', '困难', '深化', '全球', '发展', '伙伴关系', '携手', '加快', '落实', '2030', '议程', '作出', '更大', '贡献', '深圳', '卫视', '报道', '2', '月', '5', '日', '美国国会众议院', '审议', '2022', '美国', '竞争', '法案', '中方', '对此', '有何', '评论', '赵立坚', '美国国会众议院', '2022', '美国', '竞争', '法案', '法案', '涉华', '内容', '充斥', '冷战', '思维', '零', '理念', '诋毁', '中国', '发展', '道路', '内外', '政策', '鼓吹', '对华', '战略', '竞争', '涉台', '涉疆', '涉港', '涉藏', '指手画脚', '中方', '对此', '反对', '美国', '发展', '提升', '竞争力', '美国', '事', '美国', '中国', '说事', '以此', '借口', '干涉', '中国', '内政', '损害', '中国', '利益', '这一', '法案', '再次', '暴露', '美方', '霸道', '霸凌', '行径', '违背', '当今世界', '求', '和平', '谋发展', '促', '合作', '时代', '潮流', '人心所向', '最终', '只会', '损害', '美国', '利益', '美方', '应', '摒弃', '冷战', '思维', '零', '理念', '客观', '理性', '看待', '中国', '发展', '中美关系', '删除', '法案', '涉华', '消极', '内容', '停止', '审议', '推进', '该案', '停止', '损害', '中美关系', '领域', '合作', '总台', '央视', '日前', '出席', '国际', '论坛', '十多位', '外国', '政要', '联名', '致函', '中国', '领导人', '祝愿', '北京', '冬奥会', '圆满成功', '呼吁', '各国', '政府', '组织', '人民', '快', '更高', '更强', '—', '—', '团结', '奥林匹克', '格言', '指引', '团结合作', '攻坚克难', '共创', '人类', '美好未来', '请问', '发言人', '有何', '评论', '赵立坚', '高度', '赞赏', '外国', '政要', '北京', '冬奥会', '支持', '祝福', '北京', '冬奥会', '国际', '社会', '广泛支持', '奥林匹克运动', '倡导', '团结', '正是', '当今', '时代', '世界', '各国', '命运', '共', '中方', '提出', '未来', '北京', '冬奥会', '口号', '北京', '冬奥会', '开幕式', '世界', '展示', '中国', '中国', '文化', '践行', '中方', '简约', '精彩', '承诺', '展现', '命运', '共同体', '理念', '北京', '冬奥会', '会为', '中国', '人民', '各国', '人民', '搭建', '友好', '桥梁', '合作', '平台', '中方', '愿同', '各方', '一道', '践行', '快', '更高', '更强', '—', '—', '团结', '奥林匹克', '格言', '进一步', '深化', '各国', '人民', '团结合作', '饱受', '疫情', '困扰', '世界', '注入', '信心', '力量', '携手', '开创', '美好', '未来', '路透社', '路透社', '报道', '称', '美国', '官员', '呼吁', '中方', '举措', '落实', '美', '第一阶段', '经贸', '协议', '采购', '承诺', '中方', '对此', '有何', '评论', '赵立坚', '美', '经贸关系', '请', '主管部门', '原则', '告诉', '美', '经贸关系', '本质', '互利', '共赢', '贸易战', '赢家', '国', '经贸关系', '应', '相互尊重', '平等', '协商', '精神', '妥善', '加以解决', '美方', '应同', '中方', '一道', '努力', '推动', '美', '经贸关系', '健康', '稳定', '发展', '法新社', '联合国', '秘书长', '古', '特雷斯', '中国', '领导人', '会谈', '再次', '呼吁', '中方', '人权', '高专', '巴切', '莱特', '独立', '访问', '新疆', '中方', '同意', '巴访疆', '巴布亚新几内亚', '总理', '新冠', '病毒检测', '呈', '阳性', '北京', '回国', '进一步', '介绍', '外国', '领导人', '访华', '需', '遵守', '防疫', '赵立坚', '第一个', '中方', '联合国', '人权', '高专', '巴切', '莱特', '女士', '访华', '参访', '新疆', '中方', '早已', '发出', '邀请', '就此', '沟通', '中方', '立场', '一贯', '访问', '目的', '交流', '合作', '第二个', '前不久', '应邀', '来华', '出席', '北京', '冬奥会', '开幕式', '巴布亚新几内亚', '总理', '马拉', '佩', '抵京', '核酸', '检测', '呈', '阳性', '中方', '安排', '医疗', '专家', '诊治', '中国', '领导人', '马拉', '佩', '总理', '表达', '慰问', '李克强', '总理', '视频', '方式', '会见', '巴新', '代表团', '华', '期间', '严格遵守', '冬奥会', '防疫', '中方', '祝愿', '马拉', '佩', '总理', '早日康复', '提到', '外国', '领导人', '访华', '防疫', '刚才', '介绍', '案例', '想', '详细', '信息', '北京', '冬', '奥组委', '询问', '路透社', '芬兰', '男子', '冰球', '教练', '指责', '中国', '尊重', '选手', '人权', '称', '运动员', '隔离', '条件', '不佳', '方有何', '回应', '北京', '冬奥会', '开幕式', '一位', '维吾尔族', '火炬手', '点燃', '主', '火炬', '国家', '中方', '侵犯', '新疆', '维吾尔族', '人权', '未', '派', '官员', '出席', '冬奥会', '开幕式', '中方', '火炬手', '安排', '象征性', '旨在', '国家', '释放', '信号', '赵立坚', '提到', '芬兰', '运动员', '北京', '冬', '奥组委', '发言人', '作', '回应', '告诉', '中方', '致力于', '举办', '一届', '简约', '精彩', '冬奥会', '北京', '冬', '奥组委', '防疫', '手册', '涉奥', '人员', '执行', '疫情', '防控', '措施', '旨在', '切实', '保障', '涉奥', '人员', '主办', '城市', '人民', '健康', '限度', '降低', '疫情', '风险', '确保', '比赛', '如期', '顺利', '国内外', '各方', '高度肯定', '世界卫生组织', '对此', '给予', '评价', '中方', '东道主', '致力于', '各国', '运动员', '提供', '细致', '周到', '服务', '便利', '提到', '这名', '运动员', '新冠', '病毒检测', '呈', '阳性', '隔离', '条件', '具体情况', '感兴趣', '北京', '冬', '奥组委', '第二个', '新疆', '种族灭绝', '说法', '纯属', '世纪', '谎言', '美方', '政客', '中方', '侵犯', '新疆', '维吾尔族', '人权', '相关', '言论', '无异于', '睁眼', '说瞎话', '北京', '冬奥会', '类似', '冬奥会', '恶意', '诬蔑', '抹黑', '政治', '炒作', '不得人心', '得逞', '行径', '必将', '国际', '社会', '谴责', '反对', '冬奥会', '火炬手', '国际奥委会', '发言人', '对此', '作出', '回应', '奥林匹克', '宪章', '迪妮格尔', '衣拉木江', '北京', '冬奥会', '参赛', '队员', '参与', '比赛', '仪式', '权利', '北京', '冬奥会', '火炬手', '选拔', '标准', '综合', '意愿', '比赛', '成绩', '年龄', '知名度', '民族', '成分', '因素', '充分体现', '代表性', '北京', '冬奥会', '圣火', '开幕式', '现场', '中国', '老中青', '三代', '体育', '传递', '代表', '奥林匹克', '精神', '接续', '传承', '包括', '衣拉木江', '在内', '各族', '运动员', '中国体育代表团', '出征', '北京', '冬奥会', '一个', '侧面', '中国', '大力发展', '冰雪', '运动', '人民', '健康', '水平', '政策', '惠及', '各族人民', '体现', '中国', '民族团结', '大家庭', '印度', '广播公司', '刚才', '冬奥会', '友好', '桥梁', '中方', '安排', '曾', '参与', '加勒', '万', '河谷', '冲突', '战士', '祁发宝', '参与', '冬奥会', '火炬', '接力', '中方', '尊重', '印度', '敏感', '关切', '赵立坚', '刚才', '中方', '北京', '冬奥会', '火炬手', '选拔', '作', '详细', '想', '北京', '冬奥会', '火炬手', '代表性', '符合', '火炬手', '选拔', '标准', '希望', '对此', '客观', '理性', '看待', '追问', '印度', '广播公司', '质疑', '中方', '安排', '祁发宝', '参与', '火炬', '接力', '理由', '标准', '中方', '尊重', '印度', '关切', '赵立坚', '表态', '想', '希望', '火炬手', '予以', '客观', '理性', '看待', '政治化', '解读', '北京', '广播', '电视台', '报道', '4', '日', '美', '具名', '官员', '称', '美国务院', '正', '着手', '豁免', '伊朗', '民用', '核', '项目', '制裁', '国家', '企业', '参与', '如伊核', '协议', '维也纳', '谈判', '达成', '共识', '豁免', '确保', '伊', '快速', '恢复', '履行', '伊核', '协议', '至关重要', '报道', '称', '相关', '核', '项目', '包括', '伊', '布什尔', '核电站', '阿拉克', '重水', '反应堆', '5', '日', '伊朗', '外长', '阿卜杜拉', '希扬称', '美国', '豁免', '伊', '制裁', '展现出', '诚意', '仅', '落', '纸面', '中方', '对此', '有何', '评论', '赵立坚', '中方', '美方', '豁免', '伊朗', '民用', '核', '项目', '制裁', '正确方向', '迈出', '一步', '伊核', '协议', '恢复', '履约', '谈判', '处在', '关键', '节点', '伊', '核危机', '始作俑者', '美方', '应', '纠正', '伊', '极限', '施压', '错误', '政策', '解除', '伊及', '第三方', '非法', '制裁', '伊方', '此基础', '恢复', '履约', '中方', '始终', '建设性', '参与', '伊核', '谈判', '美国', '伊朗', '各方', '沟通', '协调', '推进', '谈判', '作出', '努力', '中方', '各方', '一道', '推进', '伊核', '政治', '解决', '进程', '坚定', '维护', '合法权益', '华尔街日报', '华尔街日报', '隶属', '新闻', '集团', '新闻', '集团', '攻击', '职员', '邮件', '文件', '盗取', '网络安全', '顾问', '网络', '入侵', '获取', '服务', '中方', '利益', '情报', '对此', '有何', '评论', '赵立坚', '提到', '网络攻击', '中方', '反对', '打击', '形式', '黑客攻击', '黑客攻击', '鼓励', '支持', '纵容', '这一', '立场', '一贯', '网络空间', '虚拟性', '强', '溯源', '难', '体', '多样', '调查', '定性', '网络', '事件', '应有', '完整', '证据', '相关', '企业', '应', '秉持', '专业', '精神', '沦为', '国家', '出于', '政治', '目的', '制造', '虚假', '信息', '抹黑', '他国', '帮凶'], ['2023', '2', '月', '13', '日', '外交部', '发言人', '汪文斌', '主持', '例行', '记者会', '应', '法国', '意大利', '匈牙利', '俄罗斯政府', '邀请', '中共中央政治局', '委员', '中央', '外事', '工作', '委员会', '办公室', '主任', '王毅', '2', '月', '14', '日至', '22', '日', '访问', '法国', '意大利', '匈牙利', '俄罗斯', '应邀出席', '59', '届', '慕尼黑', '会议', '中国', '专场', '活动', '发表', '演讲', '宣介', '习近平', '主席', '倡导', '综合', '合作', '持续', '安全观', '阐明', '中国', '始终', '走', '和平', '发展', '道路', '会议主题', '国际', '介绍', '中方', '立场', '应', '南非', '希腊政府', '邀请', '国务院', '副', '总理', '孙春兰', '2', '月', '15', '日至', '22', '日', '访问', '南非', '希腊', '中南', '高级', '别人', '文', '交流', '机制', '第三次', '会议', '美国全国广播公司', '美方', '美国', '加拿大', '领空', '击落', '四个', '飞行物', '一个', '中方', '飞艇', '确认', '三个', '飞行物', '一个', '中方', '这仅', '巧合', '汪文斌', '中国', '民用', '无人', '飞艇', '误入', '美国', '领空', '不可抗力', '导致', '意外', '偶发事件', '提到', '不明飞行物', '情况', '想', '告诉', '美方', '发射', '先进', '导弹', '击落', '无人', '飞艇', '这是', '用力', '过猛', '过度', '美国', '国内', '很多', '质疑', '做法', '耗费', '美国', '纳税人', '金钱', '美国', '美国', '人民', '带来', '收益', '还要', '指出', '事实上', '美国', '全球', '监控', '侦察', '国家', '拥有', '世界', '大规模', '间谍', '网络', '美国国家安全局', '监听', '对象', '包括', '德国', '法国', '挪威', '瑞典', '荷兰', '欧洲', '国政', '短信', '通话', '内容', '美国', '其近', '100', '驻外', '使领馆', '暗自', '安装', '监听', '设备', '驻在国', '窃密', '信息安全', '新', '媒体', '安在', '报告', '披露', '美国国家安全局', '30', '天内', '远程', '窃取', '970', '亿条', '全球', '互联网', '数据', '1240', '亿条', '电话', '记录', '涉及', '各国', '公民', '个人隐私', '不久前', '纳米比亚', '海域', '发现', '一艘', '用于', '收集', '水下', '信息', '美国', '无人', '艇', '当地', '媒体', '普遍认为', '这艘', '无人', '艇', '实际上', '美国', '间谍', '船', '美国', '在世界上', '放飞', '间谍', '侦测', '气球', '美方', '心底', '世界', '间谍', '监听', '帝国', '国际', '社会', '追问', '中方', '否认', '美方', '击落', '三个', '飞行物', '一个', '中方', '这仅', '巧合', '汪文斌', '刚才', '讲', '情况', '一贯主张', '证据', '不应', '发表', '不负责任', '言论', '反对', '无中生有', '抹黑', '中国', '做法', '中国日报', '介绍', '中共中央政治局', '委员', '中央', '外事', '工作', '委员会', '办公室', '主任', '王毅', '访问', '欧洲', '国家', '出席', '慕安会', '目的', '汪文斌', '中国', '欧盟', '建立', '战略伙伴', '关系', '20', '周年', '中共中央政治局', '委员', '中央', '外事', '工作', '委员会', '办公室', '主任', '王毅访', '欧将', '拉开', '中欧', '高层', '交往', '序幕', '法国', '意大利', '匈牙利', '中国', '欧洲', '合作伙伴', '访欧', '期间', '王毅', '三国', '政要', '战略', '沟通', '推动', '双边关系', '新', '发展', '增进', '中欧', '战略', '互信', '国际', '交换意见', '慕安会', '全球', '影响', '国际', '战略', '政策', '年度', '论坛', '针对', '世界', '变乱', '交织', '地缘', '政治', '紧张', '形势', '王毅', '与会', '期间', '世界', '和平', '阐释', '中方', '英国', '天空', '新闻记者', '第一个', '近日', '美国', '加拿大', '领空', '击落', '三个', '不明', '物体', '美', '加', '官方', '未', '不明', '物体', '来自', '美国国会参议院', '多数党', '领袖', '舒默', '称', '中方', '一支', '飞艇', '机群', '回应', '这一', '指控', '第二个', '报道', '称', '中方', '正', '击落', '青岛港', '一个', '不明', '物体', '中方', '美方', '类似', '情况', '描述', '过度', '违反', '国际惯例', '汪文斌', '第一个', '刚才', '回答', '一向', '反对', '无中生有', '抹黑', '中国', '做法', '第二个', '中方', '部门', '发布', '通知', '建议', '部门', '总台', '央视', '中方', '昨天', '发布', '伊朗', '总统', '莱希', '来华', '国事访问', '消息', '发言人', '进一步', '介绍', '此访', '安排', '对此', '访有何', '期待', '中方', '看待', '中伊', '关系', '汪文斌', '这次', '访问', '莱希', '总统', '任内', '首次', '访华', '访问期间', '习近平', '主席', '莱希', '总统', '举行会谈', '规划', '引领', '中伊', '关系', '未来', '发展', '关心', '地区', '国际', '交换意见', '李克强', '总理', '栗', '战书', '委员长', '会见', '莱希', '总统', '中伊', '关系', '传统', '友好', '发展', '中伊', '关系', '伊', '战略', '选择', '近年来', '习近平', '主席', '莱希', '总统', '引领', '中伊', '关系', '保持良好', '发展势头', '政治', '互信', '领域', '务实', '合作', '稳步', '推进', '国际', '地区', '事务', '保持良好', '沟通', '协调', '坚定', '捍卫', '干涉内政', '原则', '发展中国家', '共同利益', '中方', '期待', '伊方', '一道', '以此', '访为', '契机', '推动', '中伊', '战略伙伴', '关系', '更大', '发展', '增进', '中东地区', '国家', '团结合作', '地区', '稳定', '发挥', '建设性', '作用', '韩联社', '11', '日起', '韩国', '恢复', '发放', '中国', '公民', '赴', '韩', '短期', '签证', '中国外交部', '发言人', '上周', '中国', '恢复', '审发', '韩国', '公民', '来华', '短期', '签证', '中方', '计划', '汪文斌', '韩方', '解除', '对华', '签证', '措施', '减少', '国', '人员', '往来', '障碍', '迈出', '正确', '一步', '中方', '研究', '路透社', '上周', '击落', '落入', '临近', '美国', '海域', '气球', '中国', '汪文斌', '中国', '民用', '无人', '飞艇', '误入', '美国', '领空', '不可抗力', '导致', '意外', '偶发事件', '美方', '击落', '滥用', '武力', '过度', '对此', '反对', '总台', '央视', '中共中央政治局', '委员', '中央', '外事', '工作', '委员会', '办公室', '主任', '王毅', '此行', '访问', '俄罗斯', '介绍', '访', '俄', '目的', '汪文斌', '俄', '新', '时代', '战略', '协作', '伙伴', '近年来', '两国', '元首', '战略', '引领', '中俄关系', '健康', '稳定', '发展势头', '领域', '合作', '成果', '丰硕', '访问期间', '王毅', '俄方', '重点', '阶段', '中俄关系', '发展', '关心', '国际', '地区', '热点问题', '交换意见', '中方', '愿', '以此', '访为', '契机', '俄方', '一道', '推动', '双边关系', '国', '元首', '方向', '稳步前进', '维护', '正当权益', '世界', '和平', '发挥', '作用', '法新社', '美方', '十天', '击落', '中国', '气球', '中国外交部', '一个', '民用', '飞艇', '介绍', '中国', '哪家', '单位', '汪文斌', '无人', '飞艇', '误入', '美国', '领空', '事件', '中方', '立场', '还要', '告诉', '一个', '事实', '长期以来', '美国', '滥用', '技术', '优势', '全世界', '包括', '盟友', '大规模', '无差别', '监听', '窃密', '遍布', '侵犯', '国', '主权', '利益', '违反', '国际法', '国际', '关系', '基本准则', '美国', '当之无愧', '世界', '间谍', '惯犯', '监控', '帝国', '美国', '频繁', '派', '舰机', '中国', '抵近', '侦察', '高达', '657', '架次', '仅', '1', '月', '南海', '高达', '64', '架次', '严重危害', '中国', '国家', '破坏', '地区', '和平', '稳定', '美方', '气球', '非法', '别国', '领空', '司空见惯', '仅', '美方', '高空', '气球', '未经', '中国', '相关', '部门', '批准', '十余次', '非法', '飞越', '中国', '领空', '美方', '反躬自省', '改弦更张', '到处', '污蔑', '抹黑', '煽动', '对抗', '中新社', '柬埔寨', '首相', '洪森', '2', '月', '11', '日', '成功', '结束', '中国', '访问', '请问', '中方', '评价', '此访', '汪文斌', '洪森', '首相', '中国', '人民', '熟悉', '老朋友', '中方', '农历', '新春', '接待', '首位', '外国', '领导人', '继', '2020', '年初', '中国', '暴发', '新冠', '疫情', '之际', '逆行', '访华', '时隔', '三年', '再次', '来访', '适逢', '柬', '建交', '65', '周年', '柬', '友好', '对此', '访均', '高度重视', '2', '月', '10', '日', '习近平', '主席', '亲切', '会见', '洪森', '首相', '长时间', '交流', '柬', '关系', '未来', '发展', '擘画', '宏伟蓝图', '李克强', '总理', '栗', '战书', '委员长', '洪森', '首相', '举行会谈', '会见', '发表', '内容', '联合声明', '柬', '友好', '启动', '仪式', '柬', '经贸', '投资', '旅游', '论坛', '签署', '外交', '经贸', '发展', '合作', '农产品', '基础设施', '领域', '12', '合作', '文件', '国际风云', '变幻', '柬', '坚定不移', '深化', '亲密无间', '铁杆', '友谊', '携手', '构建', '高质量', '高水平', '高标准', '新', '时代', '柬', '命运', '共同体', '中方', '坚定', '支持', '柬埔寨', '人民', '自主', '选择', '符合', '本国', '国情', '发展', '道路', '坚定', '支持', '柬埔寨', '维护', '国家主权', '坚定', '支持', '柬埔寨', '平稳', '推进', '国内', '政治', '议程', '经济社会', '发展', '反对', '外部', '势力', '干涉', '柬埔寨', '内政', '柬方', '希望', '此访', '传递', '柬埔寨', '人民', '始终', '中国', '人民', '坚定', '站', '信息', '柬方', '反对', '利用', '台湾', '干涉', '中国', '内政', '围堵', '遏制', '中国', '图谋', '坚定', '支持', '中国政府', '国家', '统一', '所作', '努力', '政治', '产能', '农业', '能源', '人文', '六大', '领域', '入手', '着力', '打造', '柬', '钻石', '六边', '合作', '架构', '多边', '主义', '捍卫', '国际', '公平正义', '反对', '霸权主义', '强权政治', '反对', '搞', '针对', '特定', '国家', '阵营', '化', '排他性', '小圈子', '呼吁', '落实', '南海', '各方', '宣言', '早日', '达成', '实质', '南海', '行为准则', '利用', '南海', '破坏', '地区', '和平', '互信', '图谋', '注定', '得逞', '两国', '高层', '战略', '引领', '柬', '关系', '百尺竿头更进一步', '柬', '铁杆', '友谊', '牢不可破', '两国人民', '带来', '福祉', '地区', '和平', '稳定', '发展', '贡献', '更多正', '能量', '朝日', '电视台', '气球', '演变', '愈发', '美', '冲突', '进行谈判', '汪文斌', '美', '沟通', '关键', '冷静', '专业', '克制', '方式', '妥善处理', '这次', '不可抗力', '导致', '意外', '情况', '土耳其', '阿纳多卢', '通讯社', '周末', '土耳其', '叙利亚', '传来', '消息', '显示', '中国', '救援队', '正', '土耳其', '国际', '组织', '合作', '地震', '灾区', '争分夺秒', '抢救', '生命', '中国', '救援队', '抵达', '叙利亚', '灾区', '介绍', '中方', '最新', '抗震救灾', '援助', '工作', '汪文斌', '土耳其', '叙利亚', '遭受', '强震', '中方', '两国', '抗震救灾', '提供', '支持', '首批', '中国政府', '援助', '土耳其', '救灾物资', '已于', '2', '月', '11', '日', '12', '日', '分批', '运抵', '伊斯坦布尔', '包括', '地震', '灾区', '急需', '毛毯', '棉帐篷', '中国政府', '派出', '中国', '救援队', '社会', '应急', '力量', '救出', '二十余名', '幸存者', '中方', '援助', '心电图', '机', '超声', '诊断仪', '医用', '转运', '车', '手动', '病床', '物资', '于本周', '发运', '中国政府', '援助', '叙利亚', '人道主义', '物资', '正', '加紧', '实施', '包括', '3', '万个', '急救包', '2', '万条', '毛毯', '1', '万件', '棉服', '300', '棉帐篷', '呼吸机', '麻醉机', '制氧机', '物资', '尽快', '启运', '中方', '加快', '落实', '实施', '粮食', '援助', '项目', '220', '吨', '小麦', '运抵', '叙利亚', '途中', '余下', '3000', '余吨', '大米', '小麦', '本月', '分批', '发运', '中国红十字会', '叙利亚', '援助', '首批', '医疗', '物资', '运抵', '大马士革', '第二批', '人道主义', '援助', '物资', '13', '日', '北京', '启运', '该批', '物资', '包括', '棉帐篷', '赈济', '家庭', '包', '保暖', '冲锋衣', '生活', '物资', '灾区', '急需', '药品', '医疗', '物资', '可使', '1', '万余名', '受灾', '民众', '受益', '一方有难', '八方支援', '中方', '国际', '社会', '一道', '积极支持', '土耳其', '叙利亚', '人民', '早日', '战胜', '灾害', '重建', '美好', '家园', '彭博社', '提到', '美国', '飞艇', '飞越', '中国', '数字', '十个', '十多个', '数字', '覆盖', '时间段', '是从', '2023', '12', '月', '汪文斌', '提', '恐怕', '国际', '社会', '关注', '愿', '重申', '美方', '滥用', '技术', '全世界', '包括', '美国', '盟友', '大规模', '无差别', '监听', '窃密', '美方', '频繁', '派', '舰机', '中国', '抵近', '侦察', '损害', '中国', '主权', '美方', '气球', '非法', '别国', '领空', '稀罕', '事', '仅', '美方', '高空', '气球', '未经', '中国', '相关', '部门', '批准', '十余次', '非法', '飞越', '中国', '领空', '美方', '改弦更张', '反躬自省', '抹黑', '指责', '中方', '英国', '天空', '新闻记者', '美方', '称', '2', '月', '4', '日', '击落', '气球', '残片', '确信', '气球', '搭载', '监测', '装备', '中方', '否认', '指控', '美国', '这一', '结论', '错误', '分析', '收集', '残片', '纯属', '编造', '汪文斌', '恐怕', '问', '美方', '合适', '事实', '美国国防部', '声明', '气球', '地面', '人员构成', '军事', '人身', '威胁', '近期', '美方', '相关', '议员', '指出', '气球', '美国', '构成威胁', '问问', '美方', '情况', '美方', '依然', '动用', '先进', '导弹', '击落', '过度', '路透社', '刚才', '王毅', '访问', '俄罗斯', '他访', '俄时', '会谈', '乌克兰', '近期', '打算', '访问', '乌克兰', '汪文斌', '中国', '乌克兰', '畅通', '外交', '沟通', '渠道', '王毅', '同志', '访俄', '期间', '讨论', '议题', '刚才', '介绍', '王毅', '俄方', '重点', '阶段', '中俄关系', '发展', '关心', '国际', '地区', '热点问题', '交换意见', '东方', '卫视', '美国政府', '近日', '暂时', '放宽', '美国', '叙利亚', '制裁', '措施', '提到', '仅限', '叙利亚', '地震', '救灾', '赈灾', '需求', '相关', '交易', '给出', '180', '天', '时限', '中方', '对此', '有何', '评论', '汪文斌', '美国政府', '解除', '叙利亚', '单边制裁', '暂时', '放宽', '政治', '表演', '美国', '持续', '多年', '叙利亚', '实施', '军事', '干预', '非法', '单边制裁', '加剧', '叙利亚', '经济', '民生', '危机', '极大', '削弱', '叙利亚', '政府', '应对', '灾害', '能力', '地震', '发生', '美国', '单边制裁', '阻碍', '叙利亚', '72', '小时', '黄金', '救援', '当地', '灾情', '雪上加霜', '叙利亚', '人士', '言', '美国', '眼中', '政治', '人道主义', '敦促', '美国政府', '放下', '地缘', '政治', '算计', '解除', '叙利亚', '非法', '单边制裁', '停止', '人为', '制造', '人道主义', '灾难', '华尔街日报', '美国商务部', '6', '家', '气球', '侦察', '项目', '中国', '企业', '列入', '黑名单', '中方', '对此', '有何', '评论', '中方', '就此', '何种', '措施', '汪文斌', '中方', '一向', '反对', '美国', '中国', '机构', '企业', '实施', '非法', '单边制裁', '长臂', '管辖', '中国', '民用', '无人', '飞艇', '误入', '美', '领空', '不可抗力', '导致', '意外', '偶发事件', '中方', '美方', '情况', '美方', '滥用', '武力', '过度', '升级', '事态', '违反', '国际法', '精神', '国际惯例', '炒作', '渲染', '变本加厉', '以此', '借口', '非法', '制裁', '中方', '企业', '机构', '中方', '对此', '强烈不满', '反对', '中方', '必要措施', '维护', '中国', '企业', '机构', '合法权益', '法新社', '菲律宾', '海警', '指控', '中国', '海警', '船向菲方', '一艘', '船只', '发射', '激光', '事件', '汪文斌', '仁爱', '礁', '中国', '南沙群岛', '一部分', '2', '月', '6', '日', '菲律宾', '海警', '船', '未经', '中方', '擅自', '闯入', '仁爱', '礁', '海域', '中国', '海警', '船', '依据', '中国', '国内法', '包括', '联合国', '海洋法', '公约', '在内', '国际法', '维护', '中国', '主权', '海上', '秩序', '现场', '操作', '专业', '克制', '希望', '菲方', '切实', '尊重', '中方', '南海', '领土', '主权', '海洋权益', '采取任何', '导致', '争议', '扩大化', '局势', '复杂化', '菲', '正', '外交', '渠道', '就此', '沟通', '彭博社', '报道', '中方', '气球', '侵犯', '西方', '领空', '英国政府', '审查', '外交部', '对此', '有何', '评论', '汪文斌', '事件', '立场', '各方', '客观', '看待', '停止', '借题发挥', '彭博社', '赞比亚', '财政部长', '拒绝', '中方', '世界银行', '多边', '债权人', '参与', '赞比亚', '债务', '重组', '建议', '外交部', '对此', '有何', '评论', '汪文斌', '中方', '一贯', '高度重视', '赞比亚', '债务', '十国集团', '框架', '赞比亚', '债务', '发挥', '建设性', '作用', '推动', '赞', '债权人', '委员会', '成功', '三次', '会议', '债务', '各方', '正', '原则', '友好', '协商'], ['2023', '1', '月', '17', '日', '外交部', '发言人', '汪文斌', '主持', '例行', '记者会', '人民日报', '报道', '经合组织', '秘书长', '科尔曼', '16', '日', '中方', '调整', '疫情', '防控', '措施', '有助于', '确保', '供应链', '高效', '运转', '有助于', '缓解', '全球', '通胀', '中方', '对此', '有何', '回应', '汪文斌', '相关', '报道', '近期', '越来越', '国际', '专业', '机构', '普遍认为', '中方', '优化', '调整', '疫情', '防控', '措施', '世界', '经济', '复苏', '带来', '利好', '世界', '经济', '论坛', '总裁', '布', '伦德', '日前', '中国', '优化', '调整', '防疫', '政策', '进一步', '推动', '经济', '增长', '有助于', '全球', '经济', '复苏', '国际货币基金组织', '2023', '中国', '经济', '稳步增长', '世界', '经济', '积极因素', '摩根士丹利', '高盛集团', '汇丰银行', '英国', '巴克莱银行', '法国', '外贸', '银行', '多家', '国际', '投行', '金融机构', '纷纷', '上调', '2023', '中国', '经济', '增速', '预期', '中国政府', '因时', '因势', '主动', '优化', '调整', '疫情', '防控', '措施', '高效', '统筹', '疫情', '防控', '经济社会', '发展', '正确', '举', '中国', '疫情', '形势', '整体', '好', '生产', '生活', '秩序', '加快', '恢复正常', '中国', '经济', '活力', '发展', '潜能', '释放', '推动', '世界', '经济', '复苏', '注入', '信心', '力量', '湖北', '广电', '外交部长', '秦刚', '此次', '访问', '埃及', '期间', '特别', '阐述', '中国', '中东', '政策', '发言人', '进一步', '介绍', '情况', '汪文斌', '日前', '秦刚', '外长', '开罗', '埃及', '外长', '舒', '克里', '会见', '阐述', '中国', '中东', '政策', '秦', '外长', '中方', '应', '尊重', '地区', '国家主权', '领土完整', '鼓励', '地区', '国家', '对话', '协商', '寻找', '符合', '地区', '兼顾', '各方', '利益', '能为', '各方', '接受', '热点问题', '解决方案', '呼吁', '地区', '国家', '提供', '发展', '支持', '地区', '国家', '应对', '粮食', '能源安全', '挑战', '应', '合力', '打击', '恐怖主义', '放松', '恐怖', '极端', '势力', '趁乱', '扩散', '中方', '呼吁', '域外', '国家', '尊重', '中东国家', '主权', '干涉', '地区', '国家', '内政', '践行', '多边', '主义', '搞', '单边', '霸凌', '制造矛盾', '尊重', '中东', '历史', '文化', '传统', '制造', '文明', '隔阂', '秦', '外长', '中国', '始终', '支持', '中东', '人民', '独立自主', '探索', '发展', '道路', '支持', '中东国家', '团结', '协作', '解决', '地区', '中东国家', '合作', '共建', '一带', '一路', '落实', '全球', '发展', '倡议', '追求', '发展', '振兴', '践行', '全球', '倡议', '倡导', '建立', '综合', '合作', '持续', '中东', '架构', '推动', '地区', '热点问题', '政治', '解决', '贡献', '中国', '智慧', '中国', '方案', '中东国家', '文明', '交流', '守护', '世界', '文明', '多样性', '访问期间', '秦', '外长', '还同', '阿盟', '秘书长', '盖特', '会见', '秦', '外长', '首届', '峰会', '成功', '丰硕成果', '发表', '利雅得', '宣言', '三份', '分量', '成果', '文件', '一致同意', '全力', '构建', '面向', '新', '时代', '命运', '共同体', '阶段', '中方', '愿同', '阿方', '弘扬', '守望相助', '平等互利', '包容', '互鉴', '友好', '精神', '建设', '好', '命运', '共同体', '践行', '利雅得', '宣言', '精神', '捍卫', '国际', '公平正义', '维护', '发展中国家', '共同利益', '建立', '工作', '机制', '加快', '推进', '条件成熟', '合作项目', '早期', '收获', '秦', '外长', '所谈', '埃方', '阿方', '高度', '赞赏', '回应', '埃及', '外长', '舒', '克里', '中国', '维护', '世界', '和平', '地区', '稳定', '发挥', '作用', '埃方', '赞赏', '中方', '巴勒斯坦', '发挥', '作用', '期待', '中国', '联合国', '77', '国', '集团', '中国', '平台', '协调', '配合', '维护', '国际', '关系', '基本准则', '阿盟', '秘书长', '盖特', '阿方', '赞赏', '中方', '高效', '峰会', '共识', '付诸行动', '愿', '中方', '落实', '八大', '共同行动', '沟通', '对接', '期待', '中方', '进一步', '深化', '领域', '合作', '地区', '和平', '稳定', '发展', '丝绸', '古道', '相知', '相交', '民族解放', '斗争', '患难与共', '经济', '全球化', '浪潮', '合作', '共赢', '国际', '风云变幻', '坚守', '道义', '中方', '实际行动', '证明', '中国', '始终', '阿拉伯', '国家', '好', '朋友', '合作', '发展', '面向未来', '战略伙伴', '关系', '牢不可破', '中方', '愿', '同阿方', '一道', '携手', '构建', '面向', '新', '时代', '命运', '共同体', '开创', '关系', '辉煌灿烂', '日本共同社', '美国', '媒体报道', '美国', '国务卿', '布', '林肯', '访华', '发言人', '进一步', '介绍', '信息', '汪文斌', '中方', '布', '林肯', '国务卿', '访华', '美', '正', '具体安排', '沟通', '中方', '始终', '习近平', '主席', '提出', '相互尊重', '和平共处', '合作', '共', '赢', '原则', '看待', '发展', '中美关系', '希望', '美方', '树立', '正确', '对华', '认知', '对话', '非', '对抗', '双赢', '非', '零', '中方', '相向', '而行', '不折不扣', '落实', '国', '元首', '达成', '共识', '推动', '中美关系', '重回', '健康', '稳定', '发展', '轨道', '印度', '教徒', '报', '本周一', '联合国安理会', '1267', '委员会', '制裁', '名单', '增加', '阿卜杜勒', '拉赫曼', '马基', '中方', '列名', '予以', '支持', '中方', '6', '月', '阻止', '制裁', '名单', '增加', '4', '澄清', '中方', '支持', '制裁', '4', '名', '恐怖分子', '汪文斌', '恐怖主义', '人类', '公敌', '安理会', '1267', '委员会', '国际', '反恐', '机制', '安理会', '决议', '授权', '恐怖分子', '组织', '列入', '制裁', '清单', '有利于', '国际', '反恐', '合作', '应对', '恐怖主义', '威胁', '提到', '人员', '巴基斯坦', '定罪', '判刑', '列名', '体现', '巴基斯坦', '坚定', '打击', '恐怖主义', '认可', '还要', '指出', '安理会', '1267', '委员会', '恐怖组织', '列名', '程序', '规范', '中方', '一贯', '委员会', '规则', '程序', '建设性', '负责', '态度', '参与', '1267', '委员会', '工作', '日本广播协会', '中方', '公布', '2022', '年末', '中国', '人口', '14', '亿', '1175', '万人', '联合国', '公布', '印度', '人口', '推算', '14', '亿', '1200', '万人', '印度', '预计', '超越', '中国', '世界', '人口', '最多', '国家', '请问', '中方', '对此', '有何', '评论', '汪文斌', '中国', '印度', '人口', '大国', '劳动力', '资源', '较为', '充沛', '国', '好', '人口', '红利', '发展', '振兴', '人类', '未来', '作出', '更大', '贡献', '日本共同社', '消息', '称', '日本', '外务大臣', '林芳', '正', '计划', '访问', '中国', '日中', '正', '就此', '磋商', '汪文斌', '中日', '层级', '交往', '构建', '契合', '新', '时代', '稳定', '建设性', '中日关系', '符合', '国', '利益', '提到', '访问', '安排', '提供', '消息', '彭博社', '日本', '印度', '东京', '首次', '联合', '空中', '演习', '外交部', '对此', '有何', '评论', '汪文斌', '报道', '应多', '地区', '国家', '互信', '有利于', '维护', '地区', '和平', '稳定', '事', '总台', '央视', '叙利亚', '国家', '通讯社', '报道', '当地', '时间', '14', '日', '美国', '叙利亚', '非法', '驻军', '53', '辆', '油罐车', '叙利亚', '塞克', '省', '盗运', '石油资源', '运往', '美军', '位于', '伊拉克', '基地', '请问', '发言人', '对此', '有何', '评论', '汪文斌', '美国', '叙利亚', '非法', '掠夺', '明目张胆', '地步', '叙利亚', '政府', '官方', '数据', '2022', '上半年', '叙', '每日', '石油', '产量', '八成', '遭', '美军', '非法', '偷运', '月初', '美军', '动用', '60', '辆', '油罐车', '卡车', '大肆', '盗运', '叙利亚', '石油', '小麦', '美方', '强盗', '行径', '加剧', '叙利亚', '能源危机', '人道主义', '灾难', '叙利亚', '人民', '生命权', '美国', '无情', '侵害', '缺油', '少粮', '悲惨', '境地', '叙利亚', '人民', '冬天', '恐怕', '寒冷', '美国', '盗取', '叙利亚', '资源', '贪婪', '对外', '提供', '军事援助', '慷慨', '动辄', '数十亿', '百亿美元', '美国', '取', '予', '别国', '陷入', '动荡', '灾难', '借此', '维护', '美国', '利益', '霸权', '美国', '基于', '规则', '秩序', '带来', '现实', '敦促', '美方', '盗油', '行径', '叙利亚', '人民', '国际', '社会', '一个', '交代', '停止', '践踏', '国际', '法治', '破坏', '国际', '规则', '行径', '中新社', '近日', '世卫', '组织', '秘书处', '例行', '记者会', '提出', '中国', '发现', '新', '变异', '株', '欧洲', '国家', '中国', '旅客', '措施', '美国', '发现', 'XBB.1', '5', '变异', '株', '国家', '未', '采取措施', '请问', '方有何', '评论', '汪文斌', '疫情', '发生', '中方', '始终', '依法', '公开', '透明', '原则', '国际', '社会', '分享', '信息', '数据', '中方', '持续', '世界卫生组织', '全球', '流感', '共享', '数据库', 'GISAID', '分享', '中国', '新冠', '病毒感染', '病例', '基因', '序列', '全球', '疫苗', '药物', '研发', '作出', '贡献', '世卫', '组织', '分析', '中国', '主流', '毒株', '国家', '提交', '中国', '感染', '旅客', '病毒基因', '序列', '发现', '新', '变种', '病毒', '突变', '世卫', '组织', '欧洲区', '主任', '日前', '公开', '中国', '流行', '毒株', '欧洲', '地区', '早已', '中国', '疫情', '欧洲', '疫情', '形势', '影响', '欧洲', '国家', '针对', '旅客', '预防性', '措施', '措施', '应是', '科学', '适度', '非', '歧视性', '欧洲', '疾病', '预防', '控制中心', '多个', '国际', '技术', '机构', '中国', '疫情', '国家', '影响', '疫情', '暴发', '三年', '美国', '流行', '新冠', '病毒', '变种', '毒株', '分支', '新冠', '病毒', '变种', '毒株', '最多', '国家', '美国', '疾控中心', '数据', '显示', '新', '变种', '毒株', 'XBB.1', '5', '美国', '蔓延', '美国', '头号', '毒株', '引发', '美国', '超过', '43%', '感染', '病例', '针对', 'XBB.1', '5', '近期', '传播', '世卫', '组织', '11', '日', '发布', '首份', '风险', '评估', '称', 'XBB', '迄今', '抗体', '最强', '抵抗性', '变异', '株', '强', '早期', '传播', '力', '免疫', '逃逸', '力', '大规模', '感染', 'XBB.1', '5', '至少', '40', '国家', '地区', '监测', '发现', '欧洲', '疾控中心', '发布', '评估', '称', 'XBB.1', '5', '最快', '1', '月', '欧洲', '主流', '变异', '株', '美方', '公开', '透明', '地同', '世卫', '组织', '国际', '社会', '分享', '美国', '疫情', '信息', '数据', '切实有效', '措施', '疫情', '进一步', '传播'], ['2022', '1', '月', '21', '日', '外交部', '发言人', '赵立坚', '主持', '例行', '记者会', '总台', '央视', '当地', '时间', '20', '日', '76', '届', '联合国大会', '主席', '沙希德', '办公室', '发言人', '正式', '应', '国际奥委会', '邀请', '沙希德', '出席', '北京', '冬奥会', '开幕式', '参与', '火炬', '传递', '中方', '对此', '有何', '评论', '赵立坚', '中方', '沙希德', '76', '届', '联合国大会', '主席', '出席', '北京', '冬奥会', '担任', '火炬手', '沙希德', '此前', '表达', '北京', '冬奥会', '坚定', '支持', '北京', '冬奥会', '展现', '人类', '科技', '科学', '展现', '中国', '全人类', '坚信', '北京', '冬奥会', '将会', '成功', '近期', '包括', '联合国', '国际奥委会', '在内', '国际', '组织', '世界', '国', '人士', '纷纷', '表达', '北京', '冬奥会', '支持', '期待', '反对', '体育运动', '政治化', '表达', '国际', '社会', '未来', '心愿', '北京', '冬奥会', '帷幕', '即将', '拉开', '中国', '信心', '各方', '一道', '践行', '团结', '奥林匹克', '精神', '世界', '呈现', '一届', '简约', '精彩', '奥运', '盛会', '韩联社', '报道', '安理会', '讨论', '增加', '5', '名', '朝鲜人', '制裁', '方案', '中国', '俄罗斯', '对此', '保留意见', '最终', '事后', '美国', '8', '国家', '常驻', '安理会', '代表', '发表', '对朝', '追加', '制裁', '声明', '中方', '对此', '有何', '评论', '赵立坚', '中方', '近期', '半岛', '形势', '各方', '动向', '安理会', '讨论', '具体情况', '提供', '消息', '告诉', '安理会', '讨论', '对朝', '制裁', '决议', '草案', '安排', '希望', '安理会', '成员', '着眼', '长远', '大局', '审慎', '看待', '形势', '聚焦', '推动', '半岛', '政治', '解决', '进程', '中方', '提出', '建议', '稳定局势', '积累', '互信', '重启', '对话', '作出', '努力', '澎湃', '新闻记者', '报道', '希腊', '奥委会', '主席', '卡普拉', '洛斯', '北京', '冬奥会', '接受', '采访', '评价', '中方', '防疫', '环保', '筹备工作', '中文', '北京', '冬奥会', '送上', '祝福', '中国', '举办', '北京', '冬奥会', '展示', '中方', '奥林匹克', '理想', '承诺', '雅典', '市长', '巴科扬', '尼斯', '近日', '录制', '视频', '代表', '雅典', '热烈祝贺', '北京', '即将', '首个', '双奥之城', '发言人', '有何', '评论', '赵立坚', '来自', '奥林匹克运动', '发源地', '发来', '祝福', '深表', '感谢', '一段', '英国', '小学生', '中文', '演唱', '2022', '相约', '北京', '视频', '引发', '中国', '民众', '关注', '小学生', '唱道', '一座', '长城', '刻', '历史', '轮廓', '跳动', '华夏', '坚强', '脉搏', '古老', '中国', '散发', '青春', '颜色', '情真意切', '笑容', '迎接', '八方', '宾客', '2022', '相约', '北京', '圣火', '孩子', '歌声', '希腊', '友', '祝福', '传递', '国际', '社会各界', '北京', '冬奥会', '信心', '期待', '世界', '奉献', '一场', '简约', '精彩', '奥运', '盛会', '方向', '国际', '社会', '作出', '庄严', '承诺', '自申', '奥', '成功', '之日起', '矢志不渝', '追求', '目标', '中国', '国家统计局', '发布', '数据', '显示', '2015', '北京', '成功', '申办', '冬奥会', '3.46', '亿人', '参与', '冰雪', '运动', '标志', '带动', '三亿人', '冰雪', '目标', '顺利实现', '中国政府', '人民', '正以', '热情', '努力', '北京', '冬奥会', '办成', '一场', '全体', '冰雪', '爱好者', '盛会', '世界', '展现', '双奥之城', '风采', '两周', '北京', '冬奥会', '圣火', '伴随', '中国', '农历', '虎年', '新春', '鼓点', '熊熊燃烧', '期待', '全球', '冰雪', '健儿', '北京', '龙腾虎跃', '希望', '国际', '奥林匹克', '事业', '虎虎生威', '世界', '和平', '发展', '贡献', '虎虎', '生机', '东方', '卫视', '报道', '马里', '过渡政府', '1', '月', '21', '日为', '不久前', '逝世', '总统', '凯塔', '国葬', '中方', '对此', '有何', '评论', '赵立坚', '凯塔', '马里', '资深', '政治家', '生前', '推动', '马', '关系', '发展', '作出', '贡献', '中方', '逝世', '深切', '哀悼', '马里政府', '人民', '凯塔', '家属', '诚挚', '慰问', '马', '传统', '友好', '愿同', '马方', '一道', '相互支持', '推动', '两国关系', '向前', '发展', '法新社', '第一个', '法国国民议会', '周四', '一项', '决议', '称', '中国', '维吾尔族', '穆斯林', '群体', '种族灭绝', '中方', '对此', '有何', '评论', '第二个', '欧洲议会', '周四', '呼吁', '欧盟', '成员国', '香港特区', '持续', '压制', '人权', '特首', '林', '郑月', '娥', '七名', '特区', '高级官员', '实施', '制裁', '中方', '对此', '有何', '评论', '赵立坚', '提到', '第一个', '法国国民议会', '关涉', '疆', '决议', '罔顾', '事实', '法律常识', '粗暴', '干涉', '中国', '内政', '中方', '反对', '涉疆', '立场', '上周五', '记者会', '同事', '分享', '识破', '涉疆', '谎言', '谎言', '蒙蔽', '心得体会', '新世纪', '维吾尔族', '人口', '2000', '834', '万', '增长', '2020', '1162', '万', '年均', '增长率', '1.67%', '这一', '比率', '远高于', '同期', '全国', '少数民族', '人口', '年均', '0.83%', '水平', '新疆', '实施', '种族灭绝', '维吾尔族', '还会', '大幅度', '人口', '增长率', '铁的事实', '面前', '谎言', '重复', '一千次', '谎言', '刻意', '装睡', '哗众取宠', '言行', '值得', '关注', '提到', '第二个', '想', '香港', '事务', '纯属', '中国', '内政', '国安法', '实施', '香港', '发展', '重回', '正轨', '稳定', '法治', '环境', '更好', '保障', '这是', '不带', '偏见', '否认', '事实', '敦促', '欧洲议会', '尊重事实', '颠倒黑白', '恪守', '国际法', '国际', '关系', '基本准则', '干涉', '中国', '内政', '干预', '香港', '事务', '人权', '欧洲议会', '反躬自省', '改一改', '充当', '教师爷', '老毛病', '中新社', '美国', '联邦', '纪事', '网站', '发布', '文件', '称', '美政府', '当地', '时间', '1', '月', '21', '日', '导弹', '技术', '扩散', '活动', '中国航天科技集团', '一院', '中国航天', '科工', '集团', '四院', '保利', '科技', '三家', '企业', '实施', '制裁', '请问', '方有何', '评论', '赵立坚', '美方', '出于', '政治', '目的', '借口', '制裁', '打压', '中国', '企业', '这是', '典型', '霸凌', '行径', '中方', '对此', '强烈不满', '反对', '中国政府', '一贯', '反对', '大规模', '杀伤性', '武器', '运载工具', '扩散', '中国', '防扩散', '政策', '相关', '法律法规', '中方', '导弹', '相关', '物项', '技术', '实行', '出口', '管制', '中国', '国家', '合作', '违反', '国际法', '涉及', '大规模', '杀伤性', '武器', '扩散', '美方', '防扩散', '领域', '赤裸裸', '奉行', '双重标准', '纵容', '支持', '盟友', '发展', '导弹', '相关', '技术', '计划', '澳大利亚', '出售', '飞行', '距离', '可达', '2500', '公里', '携带', '核弹头', '战斧', '巡航导弹', '美方', '应', '反省', '防扩散', '记录', '军贸', '政策', '资格', '他国', '军贸', '合作', '说三道四', '中方', '美方', '纠正错误', '做法', '撤销', '制裁', '停止', '打压', '中国', '企业', '对华', '污蔑', '抹黑', '中方', '保留', '进一步', '措施', '权利', '彭博社', '英国', '澳大利亚', '外长', '及防长', '悉尼', '举行会谈', '重点', '讨论', '推进', '涉及', '核潜艇', '美英', '澳', '三边', '伙伴', '机制', '对抗', '中国', '日益增长', '影响力', '对表', '外交部', '对此', '有何', '评论', '赵立坚', '中方', '美英', '澳', '三边', '伙伴关系', '典型', '军事', '集团', '三国', '核潜艇', '合作', '违反', '扩散', '核武器', '条约', '目的', '宗旨', '国际', '核不扩散', '体系', '冲击', '引发', '越来越', '国家', '警惕', '抵制', '美英', '澳', '无视', '国际', '社会', '关切', '执意', '推进', '核潜艇', '合作', '再次', '凸显', '防扩散', '采用', '合则', '不合', '弃', '双重标准', '虚伪', '至极', '英澳', '两国', '借机', '渲染', '中国', '威胁', '更是', '毫无道理', '中方', '对此', '反对', '应立即', '停止', '制造', '分裂', '挑动', '对抗', '错误', '行径', '日本广播协会', '距离', '北京', '冬奥会', '开幕', '两周', '时间', '中方', '看待', '西方', '国家', '人权', '派', '官员', '出席', '冬奥会', '赵立坚', '中方', '美国', '为首', '极少数', '西方', '国家', '不派', '官方', '外交代表', '出席', '北京', '冬奥会', '表态', '国家', '一小撮', '极少数', '国家', '代表', '不了', '国际', '社会', '行径', '包括', '参加', '北京', '冬奥会', '运动员', '在内', '各国', '人民', '抵制', '中国日报', '美国', '媒体', '近期', '披露', '1951', '12', '月', '美国', '民权', '大会', '领袖', '威廉', '派', '特森向', '联合国大会', '提交', '名为', '控诉', '灭绝种族', '请愿书', '请愿书', '记录', '1945', '1951', '年间', '数百', '针对', '黑人', '残杀', '虐待', '事件', '论证', '美政府', '黑人', '犯罪', '行', '联合国', '惩治', '灭绝种族', '罪', '公约', '定义', '灭绝种族', '罪', '相吻合', '黑人', '种族灭绝', '证据', '美国', '随处可见', '呼吁', '联合国', '美国', '采取措施', '制止', '种族灭绝', '发言人', '有何', '评论', '赵立坚', '报道', '段', '尘封', '70', '多年', '往事', '再次', '揭开', '美国', '种族歧视', '疮疤', '请愿书', '提到', '超过', '1', '万名', '黑人', '曾', '遭受', '私刑', '处死', '残害', '原因', '竟然', '称呼', '白人', '很多', '黑人', '遭受', '殴打', '威胁', '身体', '精神', '双重', '伤害', '遗憾', '请愿书', '提到', '种族主义', '至今', '仍', '未', '解决', '反而', '愈演愈烈', '不禁', '问', '美国', '建国', '近', '250', '解放', '黑人', '奴隶', '宣言', '发表', '近', '160', '汤姆', '大叔', '真的', '拥有', '小屋', '姜戈', '真的', '解救', '马丁', '路德', '金', '梦想', '真的', '弗洛伊德', '呼吸', '历史', '美国', '肉体', '土地', '文化', '各方', '面对', '印第安人', '屠杀', '驱逐', '同化', '全方位', '系统化', '侵犯', '印第安人', '人权', '早已', '事实上', '种族灭绝', '美国政府', '对此', '难辞其咎', '1814', '麦迪逊', '总统', '颁布', '法令', '称', '上缴', '一名', '12', '岁', '印第安', '男子', '头皮', '100', '美元', '赏金', '上缴', '一名', '印第安', '妇女', '儿童', '头皮', '50', '美元', '赏金', '印第安人', '皮', '作出', '优质', '长筒靴', '美国', '灭绝', '印第安人', '10', '分钟', '处决', '一名', '印第安人', '死', '掉', '印第安人', '好', '印第安人', '刚才', '匪夷所思', '种族歧视', '言论', '出自', '美国', '总统', '之口', '时至今日', '种族主义', '罪恶', '基因', '仍', '美国', '血液', '流淌', '美国政府', '应', '拿出', '刮骨', '疗毒', '勇气', '摘除', '社会', '肌理', '种族歧视', '毒瘤', '延续', '两个', '世纪', '美国', '印第安人', '种族灭绝', '史', '美国', '种族歧视', '纪录', '画上', '永久', '休止符', '新华社', '近日', '曾', '关塔那摩', '度过', '2', '牢狱', '生涯', '巴基斯坦', '裔', '英国人', '贝格', '接受', '媒体', '采访', '讲述', '狱友', '遭受', '捆绑', '审讯', '拳打脚踢', '水刑', '各类', '酷刑', '虐待', '痛苦', '经历', '世上', '恶毒', '折磨', '不知', '所犯', '何罪', '情况', '关押', '指控', '审判', '人身自由', '付出', '代价', '发言人', '对此', '有何', '评论', '赵立坚', '关不掉', '关塔那摩', '监狱', '抹', '美国', '人权', '污点', '提到', '报道', '20', '年来', '曝光', '美国', '关塔那摩', '监狱', '任意', '拘押', '酷刑', '虐囚', '丑闻', '关塔那摩', '名为', '监狱', '实为', '炼狱', '这座', '人间', '炼狱', '自由', '欺辱', '正义', '罪恶', '霸道', '关塔那摩', '监狱', '种种', '暴行', '堪称', '美国', '侵犯', '人权', '黑暗', '教科书', '20', '美国', '停止', '虐囚', '关闭', '关塔那摩', '监狱', '反而', '黑狱', '网络', '铺', '全球', '美国', '全球', '黑狱', '早已', '美式', '践踏', '法治', '侵犯', '人权', '经典', '符号', '黑狱', '美国', '政客', '标榜', '人权', '反讽', '美式', '人权', '双标', '虚伪', '暴露无遗', '奉劝', '美方', '动辄', '他国', '说三道四', '横加干涉', '先照', '一照', '关塔那摩', '面', '镜子', '先对', '美方', '犯下', '暴行', '道歉', '赔偿', '担责', '北京日报', '报道', '19', '日', '立陶宛', '总统', '瑙', '塞', '达', '记者会', '上称', '立中', '关系', '交恶', '商业', '损失', '立需', '实施', '降温', '计划', '立', '外长', '拿出', '方案', '并称', '立方', '欧洲', '机构', '中方', '表达', '想法', '缓和', '局势', '很大', '程度', '取决于', '局势', '升级', '一方', '立中', '有望', '近期', '峰会', '中方', '对此', '有何', '评论', '赵立坚', '中立', '关系', '根本原因', '立陶宛', '当局', '涉台', '执意', '错误', '损害', '中方', '核心', '利益', '破坏', '国际', '关系', '基本准则', '中立', '关系恶化', '一步步', '导致', '局势', '升级', '始作俑者', '国际', '社会', '自有公论', '中方', '立陶宛', '沟通', '大门', '始终', '敞开', '立陶宛', '真的', '有意', '改善', '局面', '中方', '展示', '诚意', '拿出', '实实在在', '湖北', '广播', '电视台', '报道', '20', '日', '美日', '扩散', '核武器', '条约', '发表', '联合声明', '并称', '中国', '正', '核能力', '呼吁', '中方', '采取措施', '减少', '核', '风险', '增加', '透明度', '推进', '核裁军', '请问', '中方', '对此', '有何', '评论', '赵立坚', '美日', '扩散', '核武器', '条约', '发表', '联合声明', '标榜', '对核', '领域', '全球', '治理', '贡献', '中国', '核政策', '说三道四', '转移视线', '推卸责任', '掩盖', '核', '领域', '斑斑', '劣迹', '众所周知', '美国', '全球战略', '威胁', '美国', '拥有', '世界', '庞大', '先进', '核武器库', '还要', '投入', '万亿美元', '升级', '三位一体', '核力量', '发展', '低', '当量', '核武器', '降低', '核武器', '门槛', '部署', '全球', '反导', '系统', '谋求', '亚太', '欧洲', '部署', '陆基', '导', '严重破坏', '全球战略', '稳定', '不仅如此', '美方', '近年来', '违背', '多边', '主义精神', '频频', '毁约', '退群', '领域', '固守', '冷战', '思维', '拉帮结伙', '极力', '构建', '小圈子', '小集团', '奉劝', '美方', '管好', '事', '切实', '降低', '核武器', '国家', '政策', '作用', '切实', '承担', '核裁军', '优先', '责任', '进一步', '大幅', '实质性', '削减', '核武器', '日本', '日本', '长期', '国际', '核裁军', '核不扩散', '领域', '模范生', '自居', '实际上', '却说', '一套', '做一套', '日本', '无核武器', '国家', '长期', '存储', '超出', '敏感', '核', '材料', '包括', '武器', '级', '钚', '核扩散', '风险', '核', '安全隐患', '日方', '享受', '美国', '核', '保护伞', '竭力', '阻挠', '美国', '采用', '核武器', '政策', '日方', '真的', '有意', '推动', '国际', '核裁军', '核不扩散', '进程', '应以', '负责', '态度', '回应', '国际', '关切', '实际行动', '取信于', '国际', '社会', '中国', '坚定', '奉行', '自卫', '防御', '核战略', '始终', '恪守', '情况', '核武器', '承诺', '无条件', '无核武器', '国家', '无核武器', '区', '威胁', '核武器', '中国', '始终', '核力量', '国家', '需', '最低水平', '国家', '中国', '核武器', '中国', '核武器', '威胁', '中国', '核政策', '本身', '推进', '国际', '核裁军', '进程', '减少', '核', '风险', '努力', '贡献', '中国', '坚定', '致力于', '维护', '正当', '利益', '维护', '世界', '和平', '稳定', '深圳', '卫视', '20', '日', '联大', '主席', '沙希德', '严肃', '呼吁', '成员国', '履行', '奥林匹克', '休战', '决议', '地方', '国家', '地区', '全球', '层面', '推动', '基于', '决议', '精神', '和平', '和谐', '文化', '呼吁', '全球', '武装冲突', '交战', '方', '勇于', '奥林匹克', '休战', '期间', '相互', '停火', '营造', '解决', '分歧', '契机', '请问', '中方', '对此', '有何', '评论', '赵立坚', '中方', '坚定', '支持', '联大', '主席', '沙希德', '提出', '奥林匹克', '休战', '呼吁', '体育运动', '超越', '国界', '种族', '文明', '人类', '共同语言', '奥林匹克运动', '诞生', '之初', '刻入', '和平', '友谊', '基因', '古希腊', '奥林匹克', '休战', '传统', '宗旨', '友好', '体育竞赛', '取代', '战争', '冲突', '奥林匹克', '休战', '呼吁', '推进', '联合国', '宪章', '宗旨', '原则', '作出', '贡献', '不久前', '76', '届', '联合国大会', '协商一致', '北京', '冬奥会', '奥林匹克', '休战', '决议', '彰显', '国际', '社会', '中国', '成功', '举办', '冬奥会', '坚定信心', '汇聚', '世界', '各国', '人民', '守望', '团结合作', '维护', '世界', '和平', '愿景', '磅礴', '力量', '中方', '希望', '联合国', '会员国', '遵守', '奥林匹克', '休战', '决议', '响应', '联合国', '郑重', '呼吁', '体育', '和平', '和解', '北京', '冬奥会', '开幕', '7', '天至', '北京', '冬', '残奥会', '闭幕', '7', '天', '停止', '敌对行动', '北京', '冬奥会', '顺利', '举办', '作出贡献', '两周', '北京', '冬奥会', '大幕', '就要', '拉开', '中国', '信心', '各方', '一道', '践行', '团结', '奥林匹克', '精神', '北京', '冬奥会', '契机', '携手', '迈向', '一个', '和平', '美好', '未来', '澳亚', '卫视', '一名', '印度', '议员', '称', '中国人民解放军', '18', '日', '阿鲁纳', '恰尔邦', '绑架', '一名', '17', '岁', '印度', '男孩', '印度国防部', '消息人士', '透露', '印度', '军方', '热线电话', '机制', '中国军方', '释放', '此人', '请问', '中方', '证实', '介绍', '情况', '赵立坚', '情况', '想', '藏南', '地区', '中国', '领土', '不可分割', '一部分', '中方', '一贯', '反对', '印度', '中国', '藏南', '地区', '非法', '侵占', '中国人民解放军', '依法', '管控', '边界', '打击', '非法', '出入境', '活动', '人民日报', '1', '月', '20', '日', '王毅', '国务委员', '兼', '外长', '德国', '外长', '贝尔', '伯克', '视频', '会晤', '介绍', '情况', '人权', '交换意见', '赵立坚', '1', '月', '20', '日', '王毅', '国务委员', '兼', '外长', '德国', '新任', '外长', '贝尔', '伯克', '视频', '会晤', '这是', '德国', '新政府', '上任', '国外', '长', '首次', '接触', '1', '半小时', '中德关系', '中欧', '关系', '议题', '交流', '达成', '一系列', '共识', '一致同意', '落实', '好', '两国', '领导人', '达成', '共识', '办好', '德', '建交', '50', '周年', '庆祝', '活动', '年内', '第七轮', '德', '政府', '磋商', '做好', '筹备工作', '两国', '部门', '对接', '规划', '未来', '合作', '尽快', '启动', '领域', '对话', '交流', '机制', '绿色', '发展', '合作', '深化', '绿色', '治理', '交流', '进一步', '教育', '民间', '地方', '交流', '均', '两国应', '应对', '气候变化', '抗击', '新冠', '肺炎', '疫情', '沟通', '协调', '合作', '应对', '全球性', '挑战', '国外', '长', '伊朗核', '交换', '意见', '愿', '推动', '谈判', '达成协议', '作出努力', '谈到', '人权', '王毅', '国务委员', '尊重', '人权', '写入', '中国', '宪法', '党和国家', '意志', '人民', '利益', '至上', '中国共产党', '建党', '初', '心', '党', '始终', '人民', '群众', '广泛支持', '原因', '所在', '保障', '发展', '人权', '中国', '历史性', '成就', '人类', '人权', '事业', '作出', '重大贡献', '一贯', '人权', '更好', '中方', '愿', '相互尊重', '基础', '上同', '各国', '分享', '经验', '共同进步', '反对', '人权', '政治化', '反对', '人权', '借口', '干涉', '别国', '内政', '印度报业托拉斯', '阿鲁纳', '恰尔邦', '失踪', '印度', '少年', '情况', '印', '军方', '中方', '提出', '诉求', '请问', '中方', '有没有', '就此', '展开', '调查', '确认', '少年', '中国军方', '扣留', '赵立坚', '刚才', '情况', '相关', '部门', '提问']]\n"
     ]
    }
   ],
   "source": [
    "#通过观察发现上面分词结果中有一些换行符和空白，因此需要进行进一步文本清晰，保留词，去除掉无关内容\n",
    "cleaned_text = [[item for item in sublist if item not in ['\\n',' ','  ','　']] for sublist in processed_text]\n",
    "print(cleaned_text[:5])"
   ]
  },
  {
   "cell_type": "code",
   "execution_count": 80,
   "id": "1c65022b",
   "metadata": {},
   "outputs": [],
   "source": [
    "# 训练词向量模型，参数不作修改\n",
    "from gensim.models import Word2Vec \n",
    "model = Word2Vec(cleaned_text,window = 5, vector_size = 100, min_count = 1, epochs = 10) \n",
    "model.save('word2vec_mfa.model') "
   ]
  },
  {
   "cell_type": "code",
   "execution_count": 81,
   "id": "c432340f",
   "metadata": {},
   "outputs": [
    {
     "name": "stdout",
     "output_type": "stream",
     "text": [
      "中国: [-0.3583407   2.0957892   0.73262435  1.6588968  -0.7730819  -0.8232012\n",
      "  0.79531884 -0.22805524 -1.4177381  -0.6808071   1.5989456   0.02599975\n",
      " -0.37177277  1.5956194  -1.0853087  -0.04262798  2.8367887   0.23996453\n",
      "  0.377046   -0.9870351   2.068488   -1.5907158   1.6977261  -1.3633536\n",
      "  1.1253448  -0.41895643  0.5993719   0.33847412  0.43013546 -0.632153\n",
      "  0.6888356  -1.0005794   0.7778335  -0.57561374 -0.7545737   0.30748275\n",
      "  2.8441484   0.10392256 -0.28735772 -0.09060474 -1.010702    1.4857308\n",
      " -3.8575234  -1.3097237  -0.10206582  0.4287349  -1.8437048   0.13274513\n",
      " -2.3757432  -0.9596959   0.7067954  -0.27383205  0.7392936  -0.1421768\n",
      "  0.68685687 -0.05725669  1.3360624  -0.16643004 -0.062084    0.8862874\n",
      " -0.02557345  0.47020036 -0.81494516 -3.2424738   1.6470271  -0.72187966\n",
      " -0.79738665 -1.0239106   0.6256488  -1.6614301  -0.93742204  0.7525923\n",
      " -2.1105108  -0.2939117  -1.5496075   0.10215154 -1.5264089  -0.47446433\n",
      "  1.2202302  -1.1850263   1.080958    0.63632685  0.93498     1.0303551\n",
      " -0.24429378  1.0453936  -1.584188   -0.7574993  -0.16328663  2.074434\n",
      "  0.2898958  -0.1758991  -2.3456109  -0.40341824  0.2392836   0.31958804\n",
      " -1.6272308  -0.7768242   1.0199789   0.80065054]\n",
      "中方: [ 1.6691045   0.7455085   1.9748367  -1.563996    1.4187541  -0.33502352\n",
      " -0.5372682  -0.5717874  -1.531791   -0.7620818   1.25981    -0.648568\n",
      " -0.42705482  1.5329462  -1.6328436   1.0176873   1.4483911  -0.84783185\n",
      "  0.48493215 -2.5175815  -0.22001317  0.37084177  1.8743936  -1.8822088\n",
      "  0.48616138 -1.4027617  -0.6794837   0.04183817  0.8544374  -0.26548234\n",
      "  2.1940377  -0.95857424  0.49616224  1.8600456   2.1082804   1.7537225\n",
      "  2.713973    0.6698044  -0.25495595  1.9415206   0.52664065  0.99434006\n",
      " -1.5192698  -0.03450236  1.3709925   0.95290715 -0.25510862 -0.6631031\n",
      " -1.5835539  -1.6168987   1.5777533   0.83760494 -0.06552451  0.79143846\n",
      "  0.34694597  1.1163558   1.4122939   1.1846201   0.07898974  1.1695344\n",
      " -1.8807924  -1.4180568   1.0157722  -1.6463815   0.36370212  0.6043018\n",
      " -1.0828925  -2.6232283   0.97971207 -2.6953464  -1.3130696  -0.24274807\n",
      " -0.7568151   2.1199725  -2.1043751  -0.18476102 -1.6560955   0.01513139\n",
      "  0.7759646   0.7780024  -0.33467093 -1.3642844  -0.6031883  -1.4002012\n",
      "  0.1754108  -0.34266707 -3.5523353  -0.45262283  1.7959965   1.31572\n",
      "  0.19153965 -0.03787473 -0.9404138   1.2866008  -1.9870734  -1.3977988\n",
      "  0.30521187 -0.2853069   1.2269115  -0.17350882]\n",
      "美国: [-0.4406099   1.0823332  -1.780752    0.65938145  1.7480687  -1.7997186\n",
      "  1.107648    3.4594293  -0.58382905 -0.31385309  1.798119   -0.9622768\n",
      "  2.383701    1.1463317   2.0078926  -0.3220145   1.3457526   3.3250334\n",
      "  0.17465353 -0.9533095  -0.4124419  -1.1038394   1.2026062  -2.2042272\n",
      "  2.5082228   0.5925766  -0.18179542  1.2616979  -0.9057244   1.6140448\n",
      " -0.8098025  -2.6345232  -0.29733074  0.41914925 -2.131745    0.88886034\n",
      "  2.0540092   1.6076354   0.03208549 -0.23710339  3.323006   -2.8939648\n",
      " -2.634475    0.4271508  -1.607308    2.1381264   1.1035429   2.174482\n",
      " -0.5354028  -1.554665   -0.43945    -0.33469567 -0.48157158  0.7596637\n",
      " -1.2916838  -1.2909353  -2.0978322  -1.6764668  -2.1018527   0.28706127\n",
      "  1.6338208  -2.200737    1.2194848  -1.7683871   1.5518107   0.33002067\n",
      "  0.06249298 -0.26813433  0.23221736  0.84018683  0.90817416  2.0954878\n",
      "  0.7816609   0.23398228 -3.0323434   0.70317084  2.266613   -2.6905968\n",
      "  0.7841565  -1.2978153   1.4671483  -2.4798083  -0.09793984 -1.7672783\n",
      "  0.05008156  1.272629    0.5110419  -2.3354108   0.88439316  0.02326333\n",
      "  0.9191631  -0.09372572  2.3261337  -0.4867003   3.0994675   1.2468957\n",
      " -1.3651216  -0.33736232  1.8147      1.290014  ]\n",
      "国家: [-2.367127    1.2503096   0.5523947  -0.21997586  2.4417634   0.28291073\n",
      " -0.189104    1.8305757  -0.12868233 -0.39799595  1.3177513   2.4441953\n",
      "  0.29608503 -2.178202    1.047852   -0.5028515   2.3495147  -1.3595476\n",
      " -0.9753496  -0.14449236  2.5599763  -0.47785005  4.201148    0.9831513\n",
      " -2.878821   -0.86818296  2.49951     2.642211    0.70386845  0.61238784\n",
      " -0.10198878 -0.9460516  -2.8774025  -1.239304    1.562536    2.890359\n",
      "  3.1954024  -0.40030405 -0.7120082  -0.04519688  1.5823629  -2.7368777\n",
      " -0.15557328 -0.98492193  2.3725898   3.4893692  -2.316663    1.6735901\n",
      "  1.6015993  -1.3041703   2.2395656   0.12506083 -0.81432945 -3.1370714\n",
      "  0.37654915  0.20547025 -1.4438812   0.38843656 -1.8402946  -0.63046706\n",
      " -0.17740943  1.1618451   2.0767202  -1.7127517   2.7583613  -1.7776045\n",
      " -0.2766569   1.5352477   1.4750658  -1.3723632  -0.7105293   0.5604741\n",
      " -0.71801496  4.0610995  -0.11731321 -3.111501   -1.7957146   0.9228261\n",
      "  1.7448584  -1.1476642  -1.5795517   0.26836836  0.32951128 -1.0970936\n",
      " -0.3533932  -0.779665   -1.4770578   0.63402027  0.24193883  1.5539771\n",
      "  0.11772591  0.31743965  0.82700056 -1.6225194   1.0491111   0.23561208\n",
      " -1.2892418   0.44776562  1.1607709   1.5784827 ]\n",
      "国际: [ 0.49432576  1.6171017  -0.7824893   1.1531464   2.1264076   0.39546207\n",
      "  1.2999874  -0.7094829  -2.2597232   0.44369334  0.19065289  0.8739492\n",
      " -1.3298421   1.3879117  -1.0383369   0.26014078 -0.06935135  0.18092148\n",
      "  0.6151931  -2.5929387   1.902342   -2.460914    2.284655    1.2064831\n",
      " -0.17014626 -0.32315713  1.6897749   1.3183199  -1.2734214  -1.5717525\n",
      "  3.1437345  -3.0410995  -0.44219825 -0.56642294  3.913217   -0.8583553\n",
      " -0.20758931 -0.67392814  2.376191    0.2463009   0.38252813 -3.1159573\n",
      " -2.5562606   2.0322876   0.572042    1.305684   -1.1254238   0.5856767\n",
      " -0.88205886 -4.96659     0.34944394 -2.2741559   4.059272   -1.0093299\n",
      " -1.6353201  -0.20187865 -0.63804483  1.8909066   0.04412869 -2.2426667\n",
      "  0.65503895 -2.2071762  -0.0597527  -0.4028364  -1.0520796   0.5957573\n",
      " -0.8811162   0.8534161   0.5520896   1.9210364  -3.1014745  -0.10002561\n",
      " -1.9060987   0.74011016 -0.866647   -1.0816462  -0.7184551   3.1426258\n",
      "  2.019706   -2.2970695  -1.9679993  -1.3572371  -0.5657531  -3.75628\n",
      " -1.1790032  -1.3796618  -1.0224869   0.8603873  -1.9985927   0.3882551\n",
      "  0.6363683  -0.90511966 -0.43504548 -1.5733068   0.791925   -0.81101274\n",
      " -1.0208286   2.1198306   1.18063     1.3197209 ]\n"
     ]
    }
   ],
   "source": [
    "# 观察词频最高50个词在100个维度上的值\n",
    "word_list = model.wv.index_to_key \n",
    "word_vectors = model.wv[word_list]\n",
    "for word, vector in list(zip(word_list, word_vectors))[:5]:\n",
    "    print(f'{word}: {vector}') "
   ]
  },
  {
   "cell_type": "code",
   "execution_count": 82,
   "id": "2223eb18",
   "metadata": {},
   "outputs": [
    {
     "name": "stdout",
     "output_type": "stream",
     "text": [
      "    Word                                         Similar Words\n",
      "0     美国         [美国政府, 美, 美方, 美政府, 西方, 实际上, 到底, 特朗普, 盟友, 蓬佩奥]\n",
      "1    阿富汗          [阿塔, 临时政府, 叙利亚, 塔利班, 重建, 和解, 睦邻, 派别, 撤军, 防乱]\n",
      "2     日本  [日本政府, 韩国, 岸田文雄, 靖国神社, 县知事, 日方, 岸田文雄称, 福岛, 安倍晋三, 强征]\n",
      "3    乌克兰             [俄罗斯, 俄乌, 危机, 乌, 俄方, 应使, 范先荣, 泽, 基辅, 连斯基]\n",
      "4    俄罗斯            [乌克兰, 应使, 俄方, 伊朗, 进攻, 欧洲, 今日, 普京, 基辅, 范先荣]\n",
      "5   澳大利亚         [澳, 加拿大, 莫里森, 新西兰, 牛肉, 佩恩, 英国, 基廷, 贸易部长, 黄英贤]\n",
      "6     印度        [印, 广播公司, 教徒, 印度报业托拉斯, 奈杜, 印方, 恰尔邦, 引, 返华, 莫迪]\n",
      "7   巴基斯坦   [孟加拉国, 伊姆兰, 汗, 洪灾, 巴基斯坦政府, 尼泊尔, 蒙古, 中巴, 巴通社, 哈萨克斯坦]\n",
      "8     英国       [英国政府, 拉布, 加拿大, 丹麦, 瑞典, 下议院, 天空, 特拉斯, 卫报, 澳大利亚]\n",
      "9     韩国    [朝鲜, 日本, 有线, 安倍晋三, 茂木敏充, 首尔, 韩联社, 韩国政府, 岸田文雄称, 韩美]\n",
      "10   加拿大        [两名, 律师, 杨军, 澳大利亚, 迈克尔, 一名, 成蕾, 特鲁多, 澳籍, 英国政府]\n",
      "11    伊朗   [伊, 委内瑞拉, 解除, 希扬称, 津巴布韦, 俄罗斯, 胡塞, 联合国安理会, 沙特, 白俄罗斯]\n",
      "12  巴勒斯坦        [加沙, 也门, 以色列, 利比亚, 停火, 叙利亚, 止战, 东耶路撒冷, 以巴, 巴以]\n",
      "13   菲律宾        [菲, 海军, 舰艇, 舰船, 越南, 一艘, 中国人民解放军, 船, 海岸, 所罗门群岛]\n",
      "14    法国           [德国, 丹麦, 挪威, 意大利, 波兰, 荷兰, 瑞典, 阿尔斯通, 世界报, 报]\n",
      "15   叙利亚      [利比亚, 伊拉克, 叙, 军事行动, 空袭, 也门, 流离失所, 难民, 救命钱, 阿富汗人]\n",
      "16    缅甸           [缅, 苏丹, 穿梭, 也门, 土耳其, 马里, 布基纳法索, 各派, 埃塞, 缅北]\n",
      "17    德国          [法国, 丹麦, 荷兰, 二台, 瑞典, 挪威, 阿尔斯通, 意大利, 西班牙, 瑞士]\n",
      "18    印尼     [安哥拉, 马方, 柬埔寨, 孟加拉国, 芬方, 泰国, 马, 马来西亚, 哈萨克斯坦, 奥尼亚]\n",
      "19    朝鲜        [弹道导弹, 韩美, 发射, 金正恩, 韩国, 高丽, 试射, 导弹, 韩国政府, 韩联社]\n"
     ]
    }
   ],
   "source": [
    "# 使用wv中的most_similar()方法查找和在文本中出现频次最高的20个国家最相似的10个词语\n",
    "import pandas as pd\n",
    "\n",
    "country_names = ['美国', '阿富汗', '日本', '乌克兰', '俄罗斯', \n",
    "                 '澳大利亚', '印度', '巴基斯坦', '英国','韩国',\n",
    "                 '加拿大', '伊朗','巴勒斯坦', '菲律宾', '法国', \n",
    "                 '叙利亚', '缅甸','德国', '印尼', '朝鲜']\n",
    "\n",
    "similar_words_dict = {}\n",
    "for word in country_names:\n",
    "    similar_words = [w for w, _ in model.wv.most_similar(word, topn=10)]\n",
    "    similar_words_dict[word] = similar_words\n",
    "df_countries = pd.DataFrame(similar_words_dict.items(), columns=['Word', 'Similar Words'])\n",
    "print(df_countries)"
   ]
  },
  {
   "cell_type": "code",
   "execution_count": 106,
   "id": "3dd14528",
   "metadata": {},
   "outputs": [
    {
     "data": {
      "image/png": "[encoded data removed]",
      "text/plain": [
       "<Figure size 640x480 with 1 Axes>"
      ]
     },
     "metadata": {},
     "output_type": "display_data"
    }
   ],
   "source": [
    "# 将20个国家的词向量降维至二维空间，绘制散点图，可以看出美日英澳法德加等发达国家聚集在第二象限\n",
    "import matplotlib.pyplot as plt\n",
    "from sklearn.decomposition import PCA\n",
    "import matplotlib\n",
    "\n",
    "from matplotlib.font_manager import FontProperties\n",
    "font_path = '/System/Library/Fonts/PingFang.ttc' \n",
    "custom_font = FontProperties(fname=font_path, size=14)\n",
    "matplotlib.rcParams['font.sans-serif'] = ['Arial Unicode MS'] \n",
    "\n",
    "country_vectors = [model.wv[word] for word in country_names]\n",
    "\n",
    "# 使用PCA降维\n",
    "pca = PCA(n_components=2)\n",
    "pca_result = pca.fit_transform(country_vectors)\n",
    "\n",
    "# 绘制散点图\n",
    "plt.figure()\n",
    "plt.scatter(pca_result[:, 0], pca_result[:, 1], s=50)\n",
    "\n",
    "# 添加文本标签\n",
    "for i, country in enumerate(country_names):\n",
    "    plt.annotate(country, (pca_result[i, 0], pca_result[i, 1]), fontsize=7, fontproperties=custom_font)\n",
    "\n",
    "plt.xlabel('PCA维度1', fontsize=14, fontproperties=custom_font)\n",
    "plt.ylabel('PCA维度2', fontsize=14, fontproperties=custom_font)\n",
    "plt.title('国家名称在二维空间中的分布', fontsize=16, fontproperties=custom_font)\n",
    "plt.grid(True)\n",
    "plt.show()"
   ]
  },
  {
   "cell_type": "code",
   "execution_count": 107,
   "id": "c24c5c35",
   "metadata": {},
   "outputs": [
    {
     "data": {
      "text/plain": [
       "[('恐怖袭击', 0.5646066069602966),\n",
       " ('袭击', 0.5493215322494507),\n",
       " ('震惊', 0.5407321453094482),\n",
       " ('焚烧', 0.5406985878944397),\n",
       " ('遇袭', 0.5194274187088013),\n",
       " ('暴力行为', 0.5009270906448364),\n",
       " ('不计其数', 0.4839117228984833),\n",
       " ('恶性事件', 0.4776351749897003),\n",
       " ('会因', 0.4761557877063751),\n",
       " ('恐袭', 0.47155165672302246)]"
      ]
     },
     "execution_count": 107,
     "metadata": {},
     "output_type": "execute_result"
    }
   ],
   "source": [
    "#通过指定正向和负向词语来寻找和谴责最相似而和承诺最不相似的10个词，可以看出和恐怖袭击有关\n",
    "model.wv.most_similar(positive=['谴责'],negative=['承诺'])"
   ]
  },
  {
   "cell_type": "code",
   "execution_count": 84,
   "id": "b7d52c4a",
   "metadata": {},
   "outputs": [
    {
     "data": {
      "text/plain": [
       "[('时所作', 0.5873162150382996),\n",
       " ('篮筐', 0.5860642194747925),\n",
       " ('碳', 0.5583487153053284),\n",
       " ('年产', 0.5349427461624146),\n",
       " ('动员令', 0.528249979019165),\n",
       " ('略高于', 0.520671546459198),\n",
       " ('碳达峰', 0.516406238079071),\n",
       " ('减排', 0.5114133954048157),\n",
       " ('时不我待', 0.504146158695221),\n",
       " ('适航', 0.4923236668109894)]"
      ]
     },
     "execution_count": 84,
     "metadata": {},
     "output_type": "execute_result"
    }
   ],
   "source": [
    "#通过指定正向和负向词语来寻找和承诺最相似而和谴责最不相似的10个词，可以看出承诺和环保问题最相关\n",
    "model.wv.most_similar(positive=['承诺'],negative=['谴责'])"
   ]
  },
  {
   "cell_type": "code",
   "execution_count": 85,
   "id": "49ef206f",
   "metadata": {},
   "outputs": [
    {
     "name": "stdout",
     "output_type": "stream",
     "text": [
      "郑重: 0.6347360014915466\n",
      "庄严: 0.6004473567008972\n",
      "时所作: 0.590269923210144\n",
      "兑现: 0.5844326019287109\n",
      "断交: 0.5829418897628784\n",
      "废约: 0.5752827525138855\n",
      "恪守: 0.546483039855957\n",
      "四不一: 0.5391198992729187\n",
      "言而有信: 0.529899537563324\n",
      "背弃: 0.5251408815383911\n"
     ]
    }
   ],
   "source": [
    "similar_words = model.wv.most_similar('承诺', topn=10) #查找和承诺最相关的词，可以看出结果为一些形容词和副词\n",
    "for word, similarity in similar_words:\n",
    "    print(f'{word}: {similarity}')"
   ]
  },
  {
   "cell_type": "code",
   "execution_count": 86,
   "id": "877d8d01",
   "metadata": {},
   "outputs": [
    {
     "name": "stdout",
     "output_type": "stream",
     "text": [
      "予以: 0.6542349457740784\n",
      "强烈不满: 0.6501708626747131\n",
      "严厉: 0.6452825665473938\n",
      "失望: 0.6421121954917908\n",
      "抗议: 0.6296805739402771\n",
      "袭击: 0.6086882948875427\n",
      "行径: 0.6054630875587463\n",
      "恶劣行径: 0.5999582409858704\n",
      "震惊: 0.592534065246582\n",
      "愤慨: 0.5919991135597229\n"
     ]
    }
   ],
   "source": [
    "similar_words = model.wv.most_similar('谴责', topn=10) #同上，但也出现了抗议、袭击等词\n",
    "for word, similarity in similar_words:\n",
    "    print(f'{word}: {similarity}')"
   ]
  },
  {
   "cell_type": "code",
   "execution_count": 87,
   "id": "00ae52b7",
   "metadata": {},
   "outputs": [
    {
     "name": "stdout",
     "output_type": "stream",
     "text": [
      "0.1523545\n"
     ]
    }
   ],
   "source": [
    "print(model.wv.similarity('承诺', '谴责')) #计算两者的余弦相似度"
   ]
  }
 ],
 "metadata": {
  "kernelspec": {
   "display_name": "Python 3 (ipykernel)",
   "language": "python",
   "name": "python3"
  },
  "language_info": {
   "codemirror_mode": {
    "name": "ipython",
    "version": 3
   },
   "file_extension": ".py",
   "mimetype": "text/x-python",
   "name": "python",
   "nbconvert_exporter": "python",
   "pygments_lexer": "ipython3",
   "version": "3.9.13"
  },
  "toc": {
   "base_numbering": 1,
   "nav_menu": {},
   "number_sections": true,
   "sideBar": false,
   "skip_h1_title": false,
   "title_cell": "Table of Contents",
   "title_sidebar": "Contents",
   "toc_cell": true,
   "toc_position": {
    "height": "1311px",
    "left": "40px",
    "top": "219px",
    "width": "266px"
   },
   "toc_section_display": true,
   "toc_window_display": false
  }
 },
 "nbformat": 4,
 "nbformat_minor": 5
}
